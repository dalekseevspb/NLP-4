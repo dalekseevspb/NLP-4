{
  "cells": [
    {
      "cell_type": "markdown",
      "metadata": {
        "id": "gMC1vAnj1ZeG"
      },
      "source": [
        "Алексеев Д.П. (DSU-4, NLP-4)_HW(3)_Thematic_modeling\n",
        "\n",
        "Обработка естественного языка, ДЗ к лекции №3 \"Тематическое моделирование\"."
      ]
    },
    {
      "cell_type": "markdown",
      "metadata": {
        "id": "Rba_O0Ogmwba"
      },
      "source": [
        "Задание:\n",
        "Классификация по тональности.\n",
        "\n",
        "В этом домашнем задании вам предстоит классифицировать по тональности отзывы на банки с сайта banki.ru.\n",
        "\n",
        "Данные содержат непосредственно тексты отзывов, некоторую дополнительную информацию, а также оценку по шкале от 1 до 5.\n",
        "\n",
        "Тексты хранятся в json-ах в массиве responses.\n",
        "\n",
        "Посмотрим на примере отзыва: возьмите для удобства ноутбук, размещенный в папке репозитория.\n",
        "\n",
        "Часть 1. Анализ текстов.\n",
        "\n",
        "а) Посчитайте количество отзывов в разных городах и на разные банки.\n",
        "\n",
        "б) Постройте гистограммы длин слов в символах и в словах.\n",
        "\n",
        "в) Найдите 10 самых частых:\n",
        "- слов.\n",
        "- слов без стоп-слов.\n",
        "- лемм.\n",
        "- существительных.\n",
        "\n",
        "г) Постройте кривые Ципфа и Хипса.\n",
        "\n",
        "д) Ответьте на следующие вопросы:\n",
        "- какое слово встречается чаще, \"сотрудник\" или \"клиент\"?\n",
        "- сколько раз встречается слова \"мошенничество\" и \"доверие\"?\n",
        "\n",
        "е) В поле \"rating_grade\" записана оценка отзыва по шкале от 1 до 5. Используйте меру tf-idf для того, чтобы найти ключевые слова и биграммы для положительных отзывов (с оценкой 5) и отрицательных отзывов (с оценкой 1).\n",
        "\n",
        "Часть 2. Тематическое моделирование.\n",
        "\n",
        "а) Постройте несколько тематических моделей коллекции документов с разным числом тем. Приведите примеры понятных (интерпретируемых) тем.\n",
        "\n",
        "б) Найдите темы, в которых упомянуты конкретные банки (Сбербанк, ВТБ, другой банк). Можете ли вы их прокомментировать / объяснить? \n",
        "\n",
        "Эта часть задания может быть сделана с использованием gensim.\n",
        "\n",
        "Часть 3. Классификация текстов.\n",
        "\n",
        "а) Сформулируем для простоты задачу бинарной классификации: будем классифицировать на два класса, то есть, различать резко отрицательные отзывы (с оценкой 1) и положительные отзывы (с оценкой 5).\n",
        "\n",
        "б) Составьте обучающее и тестовое множество: выберите из всего набора данных N1 отзывов с оценкой 1 и N2 отзывов с оценкой 5 (значение N1 и N2 – на ваше усмотрение). Используйте sklearn.model_selection.train_test_split для разделения множества отобранных документов на обучающее и тестовое.\n",
        "Используйте любой известный вам алгоритм классификации текстов для решения задачи и получите baseline. Сравните разные варианты векторизации текста: использование только униграм, пар или троек слов или с использованием символьных n-грам.\n",
        "\n",
        "в) Сравните, как изменяется качество решения задачи при использовании скрытых тем в качестве признаков:\n",
        "- 1-ый вариант:  tf-idf преобразование (sklearn.feature_extraction.text.TfidfTransformer) и сингулярное разложение (оно же – латентый семантический анализ) (sklearn.decomposition.TruncatedSVD),\n",
        "- 2-ой вариант: тематические модели LDA (sklearn.decomposition.LatentDirichletAllocation). Используйте accuracy и F-measure для оценки качества классификации.\n",
        "В ноутбуке, размещенном в папке репозитория, написан примерный Pipeline для классификации текстов.\n",
        "\n",
        "Эта часть задания может быть сделана с использованием sklearn."
      ]
    },
    {
      "cell_type": "code",
      "execution_count": null,
      "metadata": {
        "colab": {
          "base_uri": "https://localhost:8080/"
        },
        "id": "Ua2EuxQcLexX",
        "outputId": "b2c2db9b-9481-4bb5-87ef-10cb80323685"
      },
      "outputs": [
        {
          "output_type": "stream",
          "name": "stdout",
          "text": [
            "/usr/local/lib/python3.7/dist-packages/gdown/cli.py:131: FutureWarning: Option `--id` was deprecated in version 4.3.1 and will be removed in 5.0. You don't need to pass it anymore to use a file ID.\n",
            "  category=FutureWarning,\n",
            "Downloading...\n",
            "From: https://drive.google.com/uc?id=1OelGGXPXBinXvZnDb1Bmmxe4rtdBmqdk\n",
            "To: /content/banki_responses.json.bz2\n",
            "100% 108M/108M [00:01<00:00, 77.1MB/s]\n"
          ]
        }
      ],
      "source": [
        "# Скачаем json-файл с отзывами\n",
        "# https://drive.google.com/file/d/1OelGGXPXBinXvZnDb1Bmmxe4rtdBmqdk/view?usp=sharing\n",
        "!gdown --id 1OelGGXPXBinXvZnDb1Bmmxe4rtdBmqdk"
      ]
    },
    {
      "cell_type": "code",
      "execution_count": null,
      "metadata": {
        "id": "qY98YN-GfxmN"
      },
      "outputs": [],
      "source": [
        "import json\n",
        "\n",
        "import bz2\n",
        "import regex\n",
        "from tqdm import tqdm\n",
        "tqdm.pandas()\n",
        "from scipy import sparse"
      ]
    },
    {
      "cell_type": "code",
      "execution_count": null,
      "metadata": {
        "colab": {
          "base_uri": "https://localhost:8080/"
        },
        "id": "tUJaqyO-fxb9",
        "outputId": "b3624e08-9a48-498a-c11e-e1020c079568"
      },
      "outputs": [
        {
          "output_type": "stream",
          "name": "stdout",
          "text": [
            "Populating the interactive namespace from numpy and matplotlib\n"
          ]
        }
      ],
      "source": [
        "import pandas as pd\n",
        "import numpy as np\n",
        "import nltk\n",
        "import matplotlib.pyplot as plt\n",
        "import seaborn as sns\n",
        "%matplotlib inline\n",
        "%pylab inline"
      ]
    },
    {
      "cell_type": "code",
      "execution_count": null,
      "metadata": {
        "colab": {
          "base_uri": "https://localhost:8080/"
        },
        "id": "eozBS8Kvf0Nb",
        "outputId": "9a7ed2ca-50a2-477e-925a-01d68d4b3c19"
      },
      "outputs": [
        {
          "output_type": "stream",
          "name": "stderr",
          "text": [
            "201030it [02:58, 1125.03it/s]\n"
          ]
        }
      ],
      "source": [
        "responses = []\n",
        "with bz2.BZ2File('banki_responses.json.bz2', 'r') as thefile:\n",
        "    for row in tqdm(thefile):\n",
        "        resp = json.loads(row)\n",
        "        if not resp['rating_not_checked'] and (len(resp['text'].split()) > 0):\n",
        "            responses.append(resp)"
      ]
    },
    {
      "cell_type": "code",
      "execution_count": null,
      "metadata": {
        "colab": {
          "base_uri": "https://localhost:8080/"
        },
        "id": "ZHFpRZsYf0J4",
        "outputId": "277d0821-9a43-4a45-ad0e-e109bc1bafd4"
      },
      "outputs": [
        {
          "output_type": "execute_result",
          "data": {
            "text/plain": [
              "{'author': 'ronnichka',\n",
              " 'bank_license': 'лицензия № 880',\n",
              " 'bank_name': 'Югра',\n",
              " 'city': 'г. Саратов',\n",
              " 'datetime': '2015-06-03 20:56:57',\n",
              " 'num_comments': 0,\n",
              " 'rating_grade': 3,\n",
              " 'rating_not_checked': False,\n",
              " 'text': 'Здравствуйте! Хотела написать, что мне месяц не выдают карту ко вкладу, ссылаясь на \"нам же их из Самары везут\" (на секундочку 5 часов езды от нашего города). Но! Прочитала, что людям 3,5 месяцев не выдают карту, и поняла, что у меня все хорошо, пока что. И подарок мне дали, и кулер в отделении есть. Так что я, конечно, готова ждать. Правда хотелось бы не очень долго.',\n",
              " 'title': 'Карта ко вкладу'}"
            ]
          },
          "metadata": {},
          "execution_count": 5
        }
      ],
      "source": [
        "# Посмотрим на пример отзыва:\n",
        "responses[99]"
      ]
    },
    {
      "cell_type": "code",
      "execution_count": null,
      "metadata": {
        "colab": {
          "base_uri": "https://localhost:8080/",
          "height": 600
        },
        "id": "YpU06wLpf0B7",
        "outputId": "ebf4c234-9034-4409-fba1-02b68715d0f3"
      },
      "outputs": [
        {
          "output_type": "execute_result",
          "data": {
            "text/plain": [
              "        author        bank_name            city             datetime  \\\n",
              "0       uhnov1          Бинбанк       г. Москва  2015-06-08 12:50:54   \n",
              "1       Foryou  Сбербанк России  г. Новосибирск  2015-06-08 11:09:57   \n",
              "2   Vladimir84          Бинбанк       г. Москва  2015-06-05 20:14:28   \n",
              "3       643609  Сбербанк России   г. Ставрополь  2015-06-05 13:51:01   \n",
              "4  anfisa-2003         ОТП Банк    г. Челябинск  2015-06-05 10:58:12   \n",
              "\n",
              "   rating_grade                                               text  \\\n",
              "0           NaN  Добрый день! Я не являюсь клиентом банка и пор...   \n",
              "1           NaN  Доброго дня! Являюсь держателем зарплатной кар...   \n",
              "2           NaN  Здравствуйте!  Дублирую свое заявление от 03.0...   \n",
              "3           NaN  Добрый день!! Я открыл расчетный счет в СберБа...   \n",
              "4           NaN  04.03.2015 г. взяла кредит в вашем банке, заяв...   \n",
              "\n",
              "                                               title     bank_license  \\\n",
              "0                                             Жалоба  лицензия № 2562   \n",
              "1      Не могу пользоваться услугой Сбербанк он-лайн  лицензия № 1481   \n",
              "2                    Двойное списание за один товар.  лицензия № 2562   \n",
              "3  Меняют проценты комиссии  не предупредив и не ...  лицензия № 1481   \n",
              "4             Верните денежные средства за страховку  лицензия № 2766   \n",
              "\n",
              "   num_comments  rating_not_checked  \n",
              "0             0               False  \n",
              "1             0               False  \n",
              "2             1               False  \n",
              "3             2               False  \n",
              "4             1               False  "
            ],
            "text/html": [
              "\n",
              "  <div id=\"df-b301f8cc-2004-4291-865e-bec2d24b0f20\">\n",
              "    <div class=\"colab-df-container\">\n",
              "      <div>\n",
              "<style scoped>\n",
              "    .dataframe tbody tr th:only-of-type {\n",
              "        vertical-align: middle;\n",
              "    }\n",
              "\n",
              "    .dataframe tbody tr th {\n",
              "        vertical-align: top;\n",
              "    }\n",
              "\n",
              "    .dataframe thead th {\n",
              "        text-align: right;\n",
              "    }\n",
              "</style>\n",
              "<table border=\"1\" class=\"dataframe\">\n",
              "  <thead>\n",
              "    <tr style=\"text-align: right;\">\n",
              "      <th></th>\n",
              "      <th>author</th>\n",
              "      <th>bank_name</th>\n",
              "      <th>city</th>\n",
              "      <th>datetime</th>\n",
              "      <th>rating_grade</th>\n",
              "      <th>text</th>\n",
              "      <th>title</th>\n",
              "      <th>bank_license</th>\n",
              "      <th>num_comments</th>\n",
              "      <th>rating_not_checked</th>\n",
              "    </tr>\n",
              "  </thead>\n",
              "  <tbody>\n",
              "    <tr>\n",
              "      <th>0</th>\n",
              "      <td>uhnov1</td>\n",
              "      <td>Бинбанк</td>\n",
              "      <td>г. Москва</td>\n",
              "      <td>2015-06-08 12:50:54</td>\n",
              "      <td>NaN</td>\n",
              "      <td>Добрый день! Я не являюсь клиентом банка и пор...</td>\n",
              "      <td>Жалоба</td>\n",
              "      <td>лицензия № 2562</td>\n",
              "      <td>0</td>\n",
              "      <td>False</td>\n",
              "    </tr>\n",
              "    <tr>\n",
              "      <th>1</th>\n",
              "      <td>Foryou</td>\n",
              "      <td>Сбербанк России</td>\n",
              "      <td>г. Новосибирск</td>\n",
              "      <td>2015-06-08 11:09:57</td>\n",
              "      <td>NaN</td>\n",
              "      <td>Доброго дня! Являюсь держателем зарплатной кар...</td>\n",
              "      <td>Не могу пользоваться услугой Сбербанк он-лайн</td>\n",
              "      <td>лицензия № 1481</td>\n",
              "      <td>0</td>\n",
              "      <td>False</td>\n",
              "    </tr>\n",
              "    <tr>\n",
              "      <th>2</th>\n",
              "      <td>Vladimir84</td>\n",
              "      <td>Бинбанк</td>\n",
              "      <td>г. Москва</td>\n",
              "      <td>2015-06-05 20:14:28</td>\n",
              "      <td>NaN</td>\n",
              "      <td>Здравствуйте!  Дублирую свое заявление от 03.0...</td>\n",
              "      <td>Двойное списание за один товар.</td>\n",
              "      <td>лицензия № 2562</td>\n",
              "      <td>1</td>\n",
              "      <td>False</td>\n",
              "    </tr>\n",
              "    <tr>\n",
              "      <th>3</th>\n",
              "      <td>643609</td>\n",
              "      <td>Сбербанк России</td>\n",
              "      <td>г. Ставрополь</td>\n",
              "      <td>2015-06-05 13:51:01</td>\n",
              "      <td>NaN</td>\n",
              "      <td>Добрый день!! Я открыл расчетный счет в СберБа...</td>\n",
              "      <td>Меняют проценты комиссии  не предупредив и не ...</td>\n",
              "      <td>лицензия № 1481</td>\n",
              "      <td>2</td>\n",
              "      <td>False</td>\n",
              "    </tr>\n",
              "    <tr>\n",
              "      <th>4</th>\n",
              "      <td>anfisa-2003</td>\n",
              "      <td>ОТП Банк</td>\n",
              "      <td>г. Челябинск</td>\n",
              "      <td>2015-06-05 10:58:12</td>\n",
              "      <td>NaN</td>\n",
              "      <td>04.03.2015 г. взяла кредит в вашем банке, заяв...</td>\n",
              "      <td>Верните денежные средства за страховку</td>\n",
              "      <td>лицензия № 2766</td>\n",
              "      <td>1</td>\n",
              "      <td>False</td>\n",
              "    </tr>\n",
              "  </tbody>\n",
              "</table>\n",
              "</div>\n",
              "      <button class=\"colab-df-convert\" onclick=\"convertToInteractive('df-b301f8cc-2004-4291-865e-bec2d24b0f20')\"\n",
              "              title=\"Convert this dataframe to an interactive table.\"\n",
              "              style=\"display:none;\">\n",
              "        \n",
              "  <svg xmlns=\"http://www.w3.org/2000/svg\" height=\"24px\"viewBox=\"0 0 24 24\"\n",
              "       width=\"24px\">\n",
              "    <path d=\"M0 0h24v24H0V0z\" fill=\"none\"/>\n",
              "    <path d=\"M18.56 5.44l.94 2.06.94-2.06 2.06-.94-2.06-.94-.94-2.06-.94 2.06-2.06.94zm-11 1L8.5 8.5l.94-2.06 2.06-.94-2.06-.94L8.5 2.5l-.94 2.06-2.06.94zm10 10l.94 2.06.94-2.06 2.06-.94-2.06-.94-.94-2.06-.94 2.06-2.06.94z\"/><path d=\"M17.41 7.96l-1.37-1.37c-.4-.4-.92-.59-1.43-.59-.52 0-1.04.2-1.43.59L10.3 9.45l-7.72 7.72c-.78.78-.78 2.05 0 2.83L4 21.41c.39.39.9.59 1.41.59.51 0 1.02-.2 1.41-.59l7.78-7.78 2.81-2.81c.8-.78.8-2.07 0-2.86zM5.41 20L4 18.59l7.72-7.72 1.47 1.35L5.41 20z\"/>\n",
              "  </svg>\n",
              "      </button>\n",
              "      \n",
              "  <style>\n",
              "    .colab-df-container {\n",
              "      display:flex;\n",
              "      flex-wrap:wrap;\n",
              "      gap: 12px;\n",
              "    }\n",
              "\n",
              "    .colab-df-convert {\n",
              "      background-color: #E8F0FE;\n",
              "      border: none;\n",
              "      border-radius: 50%;\n",
              "      cursor: pointer;\n",
              "      display: none;\n",
              "      fill: #1967D2;\n",
              "      height: 32px;\n",
              "      padding: 0 0 0 0;\n",
              "      width: 32px;\n",
              "    }\n",
              "\n",
              "    .colab-df-convert:hover {\n",
              "      background-color: #E2EBFA;\n",
              "      box-shadow: 0px 1px 2px rgba(60, 64, 67, 0.3), 0px 1px 3px 1px rgba(60, 64, 67, 0.15);\n",
              "      fill: #174EA6;\n",
              "    }\n",
              "\n",
              "    [theme=dark] .colab-df-convert {\n",
              "      background-color: #3B4455;\n",
              "      fill: #D2E3FC;\n",
              "    }\n",
              "\n",
              "    [theme=dark] .colab-df-convert:hover {\n",
              "      background-color: #434B5C;\n",
              "      box-shadow: 0px 1px 3px 1px rgba(0, 0, 0, 0.15);\n",
              "      filter: drop-shadow(0px 1px 2px rgba(0, 0, 0, 0.3));\n",
              "      fill: #FFFFFF;\n",
              "    }\n",
              "  </style>\n",
              "\n",
              "      <script>\n",
              "        const buttonEl =\n",
              "          document.querySelector('#df-b301f8cc-2004-4291-865e-bec2d24b0f20 button.colab-df-convert');\n",
              "        buttonEl.style.display =\n",
              "          google.colab.kernel.accessAllowed ? 'block' : 'none';\n",
              "\n",
              "        async function convertToInteractive(key) {\n",
              "          const element = document.querySelector('#df-b301f8cc-2004-4291-865e-bec2d24b0f20');\n",
              "          const dataTable =\n",
              "            await google.colab.kernel.invokeFunction('convertToInteractive',\n",
              "                                                     [key], {});\n",
              "          if (!dataTable) return;\n",
              "\n",
              "          const docLinkHtml = 'Like what you see? Visit the ' +\n",
              "            '<a target=\"_blank\" href=https://colab.research.google.com/notebooks/data_table.ipynb>data table notebook</a>'\n",
              "            + ' to learn more about interactive tables.';\n",
              "          element.innerHTML = '';\n",
              "          dataTable['output_type'] = 'display_data';\n",
              "          await google.colab.output.renderOutput(dataTable, element);\n",
              "          const docLink = document.createElement('div');\n",
              "          docLink.innerHTML = docLinkHtml;\n",
              "          element.appendChild(docLink);\n",
              "        }\n",
              "      </script>\n",
              "    </div>\n",
              "  </div>\n",
              "  "
            ]
          },
          "metadata": {},
          "execution_count": 6
        }
      ],
      "source": [
        "# загрузим json в датафрейм\n",
        "df = pd.json_normalize(responses)[['author', 'bank_name', 'city', 'datetime', 'rating_grade', 'text', 'title', 'bank_license', 'num_comments', 'rating_not_checked']]\n",
        "df.head()"
      ]
    },
    {
      "cell_type": "code",
      "execution_count": null,
      "metadata": {
        "colab": {
          "base_uri": "https://localhost:8080/"
        },
        "id": "MnolsiNXmsZL",
        "outputId": "6ce83d8a-f7d0-4722-b1b7-d901abd55255"
      },
      "outputs": [
        {
          "output_type": "stream",
          "name": "stdout",
          "text": [
            "<class 'pandas.core.frame.DataFrame'>\n",
            "RangeIndex: 153499 entries, 0 to 153498\n",
            "Data columns (total 10 columns):\n",
            " #   Column              Non-Null Count   Dtype  \n",
            "---  ------              --------------   -----  \n",
            " 0   author              153479 non-null  object \n",
            " 1   bank_name           153499 non-null  object \n",
            " 2   city                138325 non-null  object \n",
            " 3   datetime            153499 non-null  object \n",
            " 4   rating_grade        88658 non-null   float64\n",
            " 5   text                153499 non-null  object \n",
            " 6   title               153499 non-null  object \n",
            " 7   bank_license        153498 non-null  object \n",
            " 8   num_comments        153499 non-null  int64  \n",
            " 9   rating_not_checked  153499 non-null  bool   \n",
            "dtypes: bool(1), float64(1), int64(1), object(7)\n",
            "memory usage: 10.7+ MB\n"
          ]
        }
      ],
      "source": [
        "df.info()"
      ]
    },
    {
      "cell_type": "code",
      "execution_count": null,
      "metadata": {
        "colab": {
          "base_uri": "https://localhost:8080/",
          "height": 424
        },
        "id": "97Sb98e0M91f",
        "outputId": "1a3ae503-a9b2-46de-f1a2-c21bbf5694bf"
      },
      "outputs": [
        {
          "output_type": "execute_result",
          "data": {
            "text/plain": [
              "                                     Город                       Банк  \\\n",
              "7453                             г. Москва            Сбербанк России   \n",
              "7160                             г. Москва                 Альфа-Банк   \n",
              "7437                             г. Москва           Русский Стандарт   \n",
              "7206                             г. Москва                     ВТБ 24   \n",
              "12394                   г. Санкт-Петербург            Сбербанк России   \n",
              "...                                    ...                        ...   \n",
              "7733   г. Москва,  Отделение \"Жулебинское\"  Московский Кредитный Банк   \n",
              "7734              г. Москва, \"Китай-город\"                  Фора-Банк   \n",
              "7735               г. Москва, Ветошный пер    Восточный Экспресс Банк   \n",
              "7736                     г. Москва, Видное            Сбербанк России   \n",
              "18768     г. … или другой населенный пункт                  Лето Банк   \n",
              "\n",
              "       Количество отзывов  \n",
              "7453                 8146  \n",
              "7160                 3871  \n",
              "7437                 2801  \n",
              "7206                 2714  \n",
              "12394                2434  \n",
              "...                   ...  \n",
              "7733                    1  \n",
              "7734                    1  \n",
              "7735                    1  \n",
              "7736                    1  \n",
              "18768                   1  \n",
              "\n",
              "[18769 rows x 3 columns]"
            ],
            "text/html": [
              "\n",
              "  <div id=\"df-30ab500f-6569-42c5-a379-d158e97c2003\">\n",
              "    <div class=\"colab-df-container\">\n",
              "      <div>\n",
              "<style scoped>\n",
              "    .dataframe tbody tr th:only-of-type {\n",
              "        vertical-align: middle;\n",
              "    }\n",
              "\n",
              "    .dataframe tbody tr th {\n",
              "        vertical-align: top;\n",
              "    }\n",
              "\n",
              "    .dataframe thead th {\n",
              "        text-align: right;\n",
              "    }\n",
              "</style>\n",
              "<table border=\"1\" class=\"dataframe\">\n",
              "  <thead>\n",
              "    <tr style=\"text-align: right;\">\n",
              "      <th></th>\n",
              "      <th>Город</th>\n",
              "      <th>Банк</th>\n",
              "      <th>Количество отзывов</th>\n",
              "    </tr>\n",
              "  </thead>\n",
              "  <tbody>\n",
              "    <tr>\n",
              "      <th>7453</th>\n",
              "      <td>г. Москва</td>\n",
              "      <td>Сбербанк России</td>\n",
              "      <td>8146</td>\n",
              "    </tr>\n",
              "    <tr>\n",
              "      <th>7160</th>\n",
              "      <td>г. Москва</td>\n",
              "      <td>Альфа-Банк</td>\n",
              "      <td>3871</td>\n",
              "    </tr>\n",
              "    <tr>\n",
              "      <th>7437</th>\n",
              "      <td>г. Москва</td>\n",
              "      <td>Русский Стандарт</td>\n",
              "      <td>2801</td>\n",
              "    </tr>\n",
              "    <tr>\n",
              "      <th>7206</th>\n",
              "      <td>г. Москва</td>\n",
              "      <td>ВТБ 24</td>\n",
              "      <td>2714</td>\n",
              "    </tr>\n",
              "    <tr>\n",
              "      <th>12394</th>\n",
              "      <td>г. Санкт-Петербург</td>\n",
              "      <td>Сбербанк России</td>\n",
              "      <td>2434</td>\n",
              "    </tr>\n",
              "    <tr>\n",
              "      <th>...</th>\n",
              "      <td>...</td>\n",
              "      <td>...</td>\n",
              "      <td>...</td>\n",
              "    </tr>\n",
              "    <tr>\n",
              "      <th>7733</th>\n",
              "      <td>г. Москва,  Отделение \"Жулебинское\"</td>\n",
              "      <td>Московский Кредитный Банк</td>\n",
              "      <td>1</td>\n",
              "    </tr>\n",
              "    <tr>\n",
              "      <th>7734</th>\n",
              "      <td>г. Москва, \"Китай-город\"</td>\n",
              "      <td>Фора-Банк</td>\n",
              "      <td>1</td>\n",
              "    </tr>\n",
              "    <tr>\n",
              "      <th>7735</th>\n",
              "      <td>г. Москва, Ветошный пер</td>\n",
              "      <td>Восточный Экспресс Банк</td>\n",
              "      <td>1</td>\n",
              "    </tr>\n",
              "    <tr>\n",
              "      <th>7736</th>\n",
              "      <td>г. Москва, Видное</td>\n",
              "      <td>Сбербанк России</td>\n",
              "      <td>1</td>\n",
              "    </tr>\n",
              "    <tr>\n",
              "      <th>18768</th>\n",
              "      <td>г. … или другой населенный пункт</td>\n",
              "      <td>Лето Банк</td>\n",
              "      <td>1</td>\n",
              "    </tr>\n",
              "  </tbody>\n",
              "</table>\n",
              "<p>18769 rows × 3 columns</p>\n",
              "</div>\n",
              "      <button class=\"colab-df-convert\" onclick=\"convertToInteractive('df-30ab500f-6569-42c5-a379-d158e97c2003')\"\n",
              "              title=\"Convert this dataframe to an interactive table.\"\n",
              "              style=\"display:none;\">\n",
              "        \n",
              "  <svg xmlns=\"http://www.w3.org/2000/svg\" height=\"24px\"viewBox=\"0 0 24 24\"\n",
              "       width=\"24px\">\n",
              "    <path d=\"M0 0h24v24H0V0z\" fill=\"none\"/>\n",
              "    <path d=\"M18.56 5.44l.94 2.06.94-2.06 2.06-.94-2.06-.94-.94-2.06-.94 2.06-2.06.94zm-11 1L8.5 8.5l.94-2.06 2.06-.94-2.06-.94L8.5 2.5l-.94 2.06-2.06.94zm10 10l.94 2.06.94-2.06 2.06-.94-2.06-.94-.94-2.06-.94 2.06-2.06.94z\"/><path d=\"M17.41 7.96l-1.37-1.37c-.4-.4-.92-.59-1.43-.59-.52 0-1.04.2-1.43.59L10.3 9.45l-7.72 7.72c-.78.78-.78 2.05 0 2.83L4 21.41c.39.39.9.59 1.41.59.51 0 1.02-.2 1.41-.59l7.78-7.78 2.81-2.81c.8-.78.8-2.07 0-2.86zM5.41 20L4 18.59l7.72-7.72 1.47 1.35L5.41 20z\"/>\n",
              "  </svg>\n",
              "      </button>\n",
              "      \n",
              "  <style>\n",
              "    .colab-df-container {\n",
              "      display:flex;\n",
              "      flex-wrap:wrap;\n",
              "      gap: 12px;\n",
              "    }\n",
              "\n",
              "    .colab-df-convert {\n",
              "      background-color: #E8F0FE;\n",
              "      border: none;\n",
              "      border-radius: 50%;\n",
              "      cursor: pointer;\n",
              "      display: none;\n",
              "      fill: #1967D2;\n",
              "      height: 32px;\n",
              "      padding: 0 0 0 0;\n",
              "      width: 32px;\n",
              "    }\n",
              "\n",
              "    .colab-df-convert:hover {\n",
              "      background-color: #E2EBFA;\n",
              "      box-shadow: 0px 1px 2px rgba(60, 64, 67, 0.3), 0px 1px 3px 1px rgba(60, 64, 67, 0.15);\n",
              "      fill: #174EA6;\n",
              "    }\n",
              "\n",
              "    [theme=dark] .colab-df-convert {\n",
              "      background-color: #3B4455;\n",
              "      fill: #D2E3FC;\n",
              "    }\n",
              "\n",
              "    [theme=dark] .colab-df-convert:hover {\n",
              "      background-color: #434B5C;\n",
              "      box-shadow: 0px 1px 3px 1px rgba(0, 0, 0, 0.15);\n",
              "      filter: drop-shadow(0px 1px 2px rgba(0, 0, 0, 0.3));\n",
              "      fill: #FFFFFF;\n",
              "    }\n",
              "  </style>\n",
              "\n",
              "      <script>\n",
              "        const buttonEl =\n",
              "          document.querySelector('#df-30ab500f-6569-42c5-a379-d158e97c2003 button.colab-df-convert');\n",
              "        buttonEl.style.display =\n",
              "          google.colab.kernel.accessAllowed ? 'block' : 'none';\n",
              "\n",
              "        async function convertToInteractive(key) {\n",
              "          const element = document.querySelector('#df-30ab500f-6569-42c5-a379-d158e97c2003');\n",
              "          const dataTable =\n",
              "            await google.colab.kernel.invokeFunction('convertToInteractive',\n",
              "                                                     [key], {});\n",
              "          if (!dataTable) return;\n",
              "\n",
              "          const docLinkHtml = 'Like what you see? Visit the ' +\n",
              "            '<a target=\"_blank\" href=https://colab.research.google.com/notebooks/data_table.ipynb>data table notebook</a>'\n",
              "            + ' to learn more about interactive tables.';\n",
              "          element.innerHTML = '';\n",
              "          dataTable['output_type'] = 'display_data';\n",
              "          await google.colab.output.renderOutput(dataTable, element);\n",
              "          const docLink = document.createElement('div');\n",
              "          docLink.innerHTML = docLinkHtml;\n",
              "          element.appendChild(docLink);\n",
              "        }\n",
              "      </script>\n",
              "    </div>\n",
              "  </div>\n",
              "  "
            ]
          },
          "metadata": {},
          "execution_count": 17
        }
      ],
      "source": [
        "# Часть 1. Анализ текстов.\n",
        "# а) Посчитайте количество отзывов в разных городах и на разные банки.\n",
        "\n",
        "# Поскольку во всех полях, кроме 'bank_name', 'datetime', 'text', 'title' есть пропуски, то группировать будем по одному из полей без пропусков, например 'datetime'.\n",
        "\n",
        "# Сперва посчитаем количество отзывов в разрезе городов и банков.\n",
        "num_of_replies_1 = df.groupby(['city', 'bank_name'])['datetime'].count().reset_index()\n",
        "num_of_replies_1.columns = ['Город', 'Банк', 'Количество отзывов']\n",
        "num_of_replies_1.sort_values(by=['Количество отзывов'], ascending=False)"
      ]
    },
    {
      "cell_type": "code",
      "execution_count": null,
      "metadata": {
        "colab": {
          "base_uri": "https://localhost:8080/",
          "height": 424
        },
        "id": "agidR4WemVDl",
        "outputId": "02a06cc6-b573-48d1-bd1d-73baf0762b9e"
      },
      "outputs": [
        {
          "output_type": "execute_result",
          "data": {
            "text/plain": [
              "                                 Город  Количество отзывов\n",
              "2175                         г. Москва               55354\n",
              "3568                г. Санкт-Петербург               14342\n",
              "1034                   г. Екатеринбург                2337\n",
              "2785                    г. Новосибирск                2300\n",
              "2672                г. Нижний Новгород                1976\n",
              "...                                ...                 ...\n",
              "2334       г. Москва, Ногинск (Москва)                   1\n",
              "2333            г. Москва, Новосибирск                   1\n",
              "2332   г. Москва, Николоямская ул., 31                   1\n",
              "2330     г. Москва, Московская область                   1\n",
              "5822  г. … или другой населенный пункт                   1\n",
              "\n",
              "[5823 rows x 2 columns]"
            ],
            "text/html": [
              "\n",
              "  <div id=\"df-53f62dcb-0922-4d74-9315-f34866777ed4\">\n",
              "    <div class=\"colab-df-container\">\n",
              "      <div>\n",
              "<style scoped>\n",
              "    .dataframe tbody tr th:only-of-type {\n",
              "        vertical-align: middle;\n",
              "    }\n",
              "\n",
              "    .dataframe tbody tr th {\n",
              "        vertical-align: top;\n",
              "    }\n",
              "\n",
              "    .dataframe thead th {\n",
              "        text-align: right;\n",
              "    }\n",
              "</style>\n",
              "<table border=\"1\" class=\"dataframe\">\n",
              "  <thead>\n",
              "    <tr style=\"text-align: right;\">\n",
              "      <th></th>\n",
              "      <th>Город</th>\n",
              "      <th>Количество отзывов</th>\n",
              "    </tr>\n",
              "  </thead>\n",
              "  <tbody>\n",
              "    <tr>\n",
              "      <th>2175</th>\n",
              "      <td>г. Москва</td>\n",
              "      <td>55354</td>\n",
              "    </tr>\n",
              "    <tr>\n",
              "      <th>3568</th>\n",
              "      <td>г. Санкт-Петербург</td>\n",
              "      <td>14342</td>\n",
              "    </tr>\n",
              "    <tr>\n",
              "      <th>1034</th>\n",
              "      <td>г. Екатеринбург</td>\n",
              "      <td>2337</td>\n",
              "    </tr>\n",
              "    <tr>\n",
              "      <th>2785</th>\n",
              "      <td>г. Новосибирск</td>\n",
              "      <td>2300</td>\n",
              "    </tr>\n",
              "    <tr>\n",
              "      <th>2672</th>\n",
              "      <td>г. Нижний Новгород</td>\n",
              "      <td>1976</td>\n",
              "    </tr>\n",
              "    <tr>\n",
              "      <th>...</th>\n",
              "      <td>...</td>\n",
              "      <td>...</td>\n",
              "    </tr>\n",
              "    <tr>\n",
              "      <th>2334</th>\n",
              "      <td>г. Москва, Ногинск (Москва)</td>\n",
              "      <td>1</td>\n",
              "    </tr>\n",
              "    <tr>\n",
              "      <th>2333</th>\n",
              "      <td>г. Москва, Новосибирск</td>\n",
              "      <td>1</td>\n",
              "    </tr>\n",
              "    <tr>\n",
              "      <th>2332</th>\n",
              "      <td>г. Москва, Николоямская ул., 31</td>\n",
              "      <td>1</td>\n",
              "    </tr>\n",
              "    <tr>\n",
              "      <th>2330</th>\n",
              "      <td>г. Москва, Московская область</td>\n",
              "      <td>1</td>\n",
              "    </tr>\n",
              "    <tr>\n",
              "      <th>5822</th>\n",
              "      <td>г. … или другой населенный пункт</td>\n",
              "      <td>1</td>\n",
              "    </tr>\n",
              "  </tbody>\n",
              "</table>\n",
              "<p>5823 rows × 2 columns</p>\n",
              "</div>\n",
              "      <button class=\"colab-df-convert\" onclick=\"convertToInteractive('df-53f62dcb-0922-4d74-9315-f34866777ed4')\"\n",
              "              title=\"Convert this dataframe to an interactive table.\"\n",
              "              style=\"display:none;\">\n",
              "        \n",
              "  <svg xmlns=\"http://www.w3.org/2000/svg\" height=\"24px\"viewBox=\"0 0 24 24\"\n",
              "       width=\"24px\">\n",
              "    <path d=\"M0 0h24v24H0V0z\" fill=\"none\"/>\n",
              "    <path d=\"M18.56 5.44l.94 2.06.94-2.06 2.06-.94-2.06-.94-.94-2.06-.94 2.06-2.06.94zm-11 1L8.5 8.5l.94-2.06 2.06-.94-2.06-.94L8.5 2.5l-.94 2.06-2.06.94zm10 10l.94 2.06.94-2.06 2.06-.94-2.06-.94-.94-2.06-.94 2.06-2.06.94z\"/><path d=\"M17.41 7.96l-1.37-1.37c-.4-.4-.92-.59-1.43-.59-.52 0-1.04.2-1.43.59L10.3 9.45l-7.72 7.72c-.78.78-.78 2.05 0 2.83L4 21.41c.39.39.9.59 1.41.59.51 0 1.02-.2 1.41-.59l7.78-7.78 2.81-2.81c.8-.78.8-2.07 0-2.86zM5.41 20L4 18.59l7.72-7.72 1.47 1.35L5.41 20z\"/>\n",
              "  </svg>\n",
              "      </button>\n",
              "      \n",
              "  <style>\n",
              "    .colab-df-container {\n",
              "      display:flex;\n",
              "      flex-wrap:wrap;\n",
              "      gap: 12px;\n",
              "    }\n",
              "\n",
              "    .colab-df-convert {\n",
              "      background-color: #E8F0FE;\n",
              "      border: none;\n",
              "      border-radius: 50%;\n",
              "      cursor: pointer;\n",
              "      display: none;\n",
              "      fill: #1967D2;\n",
              "      height: 32px;\n",
              "      padding: 0 0 0 0;\n",
              "      width: 32px;\n",
              "    }\n",
              "\n",
              "    .colab-df-convert:hover {\n",
              "      background-color: #E2EBFA;\n",
              "      box-shadow: 0px 1px 2px rgba(60, 64, 67, 0.3), 0px 1px 3px 1px rgba(60, 64, 67, 0.15);\n",
              "      fill: #174EA6;\n",
              "    }\n",
              "\n",
              "    [theme=dark] .colab-df-convert {\n",
              "      background-color: #3B4455;\n",
              "      fill: #D2E3FC;\n",
              "    }\n",
              "\n",
              "    [theme=dark] .colab-df-convert:hover {\n",
              "      background-color: #434B5C;\n",
              "      box-shadow: 0px 1px 3px 1px rgba(0, 0, 0, 0.15);\n",
              "      filter: drop-shadow(0px 1px 2px rgba(0, 0, 0, 0.3));\n",
              "      fill: #FFFFFF;\n",
              "    }\n",
              "  </style>\n",
              "\n",
              "      <script>\n",
              "        const buttonEl =\n",
              "          document.querySelector('#df-53f62dcb-0922-4d74-9315-f34866777ed4 button.colab-df-convert');\n",
              "        buttonEl.style.display =\n",
              "          google.colab.kernel.accessAllowed ? 'block' : 'none';\n",
              "\n",
              "        async function convertToInteractive(key) {\n",
              "          const element = document.querySelector('#df-53f62dcb-0922-4d74-9315-f34866777ed4');\n",
              "          const dataTable =\n",
              "            await google.colab.kernel.invokeFunction('convertToInteractive',\n",
              "                                                     [key], {});\n",
              "          if (!dataTable) return;\n",
              "\n",
              "          const docLinkHtml = 'Like what you see? Visit the ' +\n",
              "            '<a target=\"_blank\" href=https://colab.research.google.com/notebooks/data_table.ipynb>data table notebook</a>'\n",
              "            + ' to learn more about interactive tables.';\n",
              "          element.innerHTML = '';\n",
              "          dataTable['output_type'] = 'display_data';\n",
              "          await google.colab.output.renderOutput(dataTable, element);\n",
              "          const docLink = document.createElement('div');\n",
              "          docLink.innerHTML = docLinkHtml;\n",
              "          element.appendChild(docLink);\n",
              "        }\n",
              "      </script>\n",
              "    </div>\n",
              "  </div>\n",
              "  "
            ]
          },
          "metadata": {},
          "execution_count": 18
        }
      ],
      "source": [
        "# теперь в целом  по городам (обращает внимание, что город иногда заведен неправильно - вместе с названием улицы, области и т.п. \n",
        "# Т.е. по хорошему нужна ещё препредобработка названия города, т.е. \"очистка от мусора\").\n",
        "num_of_replies_2 = df.groupby(['city'])['datetime'].count().reset_index()\n",
        "num_of_replies_2.columns = ['Город', 'Количество отзывов']\n",
        "num_of_replies_2.sort_values(by=['Количество отзывов'], ascending=False)"
      ]
    },
    {
      "cell_type": "code",
      "execution_count": null,
      "metadata": {
        "colab": {
          "base_uri": "https://localhost:8080/",
          "height": 424
        },
        "id": "yvT5aiY7mUxU",
        "outputId": "5df58306-d29c-45ed-f47f-ef1dc74929c1"
      },
      "outputs": [
        {
          "output_type": "execute_result",
          "data": {
            "text/plain": [
              "                       Банк  Количество отзывов\n",
              "502         Сбербанк России               26327\n",
              "34               Альфа-Банк               10224\n",
              "106                  ВТБ 24                8185\n",
              "482        Русский Стандарт                7943\n",
              "625        Хоум Кредит Банк                7549\n",
              "..                      ...                 ...\n",
              "508  Северный Народный Банк                   1\n",
              "509             Сельмашбанк                   1\n",
              "512           Сиббизнесбанк                   1\n",
              "513              Сибконтакт                   1\n",
              "312                   Мигом                   1\n",
              "\n",
              "[670 rows x 2 columns]"
            ],
            "text/html": [
              "\n",
              "  <div id=\"df-6ef150ec-5273-4086-a996-f1dcf196a042\">\n",
              "    <div class=\"colab-df-container\">\n",
              "      <div>\n",
              "<style scoped>\n",
              "    .dataframe tbody tr th:only-of-type {\n",
              "        vertical-align: middle;\n",
              "    }\n",
              "\n",
              "    .dataframe tbody tr th {\n",
              "        vertical-align: top;\n",
              "    }\n",
              "\n",
              "    .dataframe thead th {\n",
              "        text-align: right;\n",
              "    }\n",
              "</style>\n",
              "<table border=\"1\" class=\"dataframe\">\n",
              "  <thead>\n",
              "    <tr style=\"text-align: right;\">\n",
              "      <th></th>\n",
              "      <th>Банк</th>\n",
              "      <th>Количество отзывов</th>\n",
              "    </tr>\n",
              "  </thead>\n",
              "  <tbody>\n",
              "    <tr>\n",
              "      <th>502</th>\n",
              "      <td>Сбербанк России</td>\n",
              "      <td>26327</td>\n",
              "    </tr>\n",
              "    <tr>\n",
              "      <th>34</th>\n",
              "      <td>Альфа-Банк</td>\n",
              "      <td>10224</td>\n",
              "    </tr>\n",
              "    <tr>\n",
              "      <th>106</th>\n",
              "      <td>ВТБ 24</td>\n",
              "      <td>8185</td>\n",
              "    </tr>\n",
              "    <tr>\n",
              "      <th>482</th>\n",
              "      <td>Русский Стандарт</td>\n",
              "      <td>7943</td>\n",
              "    </tr>\n",
              "    <tr>\n",
              "      <th>625</th>\n",
              "      <td>Хоум Кредит Банк</td>\n",
              "      <td>7549</td>\n",
              "    </tr>\n",
              "    <tr>\n",
              "      <th>...</th>\n",
              "      <td>...</td>\n",
              "      <td>...</td>\n",
              "    </tr>\n",
              "    <tr>\n",
              "      <th>508</th>\n",
              "      <td>Северный Народный Банк</td>\n",
              "      <td>1</td>\n",
              "    </tr>\n",
              "    <tr>\n",
              "      <th>509</th>\n",
              "      <td>Сельмашбанк</td>\n",
              "      <td>1</td>\n",
              "    </tr>\n",
              "    <tr>\n",
              "      <th>512</th>\n",
              "      <td>Сиббизнесбанк</td>\n",
              "      <td>1</td>\n",
              "    </tr>\n",
              "    <tr>\n",
              "      <th>513</th>\n",
              "      <td>Сибконтакт</td>\n",
              "      <td>1</td>\n",
              "    </tr>\n",
              "    <tr>\n",
              "      <th>312</th>\n",
              "      <td>Мигом</td>\n",
              "      <td>1</td>\n",
              "    </tr>\n",
              "  </tbody>\n",
              "</table>\n",
              "<p>670 rows × 2 columns</p>\n",
              "</div>\n",
              "      <button class=\"colab-df-convert\" onclick=\"convertToInteractive('df-6ef150ec-5273-4086-a996-f1dcf196a042')\"\n",
              "              title=\"Convert this dataframe to an interactive table.\"\n",
              "              style=\"display:none;\">\n",
              "        \n",
              "  <svg xmlns=\"http://www.w3.org/2000/svg\" height=\"24px\"viewBox=\"0 0 24 24\"\n",
              "       width=\"24px\">\n",
              "    <path d=\"M0 0h24v24H0V0z\" fill=\"none\"/>\n",
              "    <path d=\"M18.56 5.44l.94 2.06.94-2.06 2.06-.94-2.06-.94-.94-2.06-.94 2.06-2.06.94zm-11 1L8.5 8.5l.94-2.06 2.06-.94-2.06-.94L8.5 2.5l-.94 2.06-2.06.94zm10 10l.94 2.06.94-2.06 2.06-.94-2.06-.94-.94-2.06-.94 2.06-2.06.94z\"/><path d=\"M17.41 7.96l-1.37-1.37c-.4-.4-.92-.59-1.43-.59-.52 0-1.04.2-1.43.59L10.3 9.45l-7.72 7.72c-.78.78-.78 2.05 0 2.83L4 21.41c.39.39.9.59 1.41.59.51 0 1.02-.2 1.41-.59l7.78-7.78 2.81-2.81c.8-.78.8-2.07 0-2.86zM5.41 20L4 18.59l7.72-7.72 1.47 1.35L5.41 20z\"/>\n",
              "  </svg>\n",
              "      </button>\n",
              "      \n",
              "  <style>\n",
              "    .colab-df-container {\n",
              "      display:flex;\n",
              "      flex-wrap:wrap;\n",
              "      gap: 12px;\n",
              "    }\n",
              "\n",
              "    .colab-df-convert {\n",
              "      background-color: #E8F0FE;\n",
              "      border: none;\n",
              "      border-radius: 50%;\n",
              "      cursor: pointer;\n",
              "      display: none;\n",
              "      fill: #1967D2;\n",
              "      height: 32px;\n",
              "      padding: 0 0 0 0;\n",
              "      width: 32px;\n",
              "    }\n",
              "\n",
              "    .colab-df-convert:hover {\n",
              "      background-color: #E2EBFA;\n",
              "      box-shadow: 0px 1px 2px rgba(60, 64, 67, 0.3), 0px 1px 3px 1px rgba(60, 64, 67, 0.15);\n",
              "      fill: #174EA6;\n",
              "    }\n",
              "\n",
              "    [theme=dark] .colab-df-convert {\n",
              "      background-color: #3B4455;\n",
              "      fill: #D2E3FC;\n",
              "    }\n",
              "\n",
              "    [theme=dark] .colab-df-convert:hover {\n",
              "      background-color: #434B5C;\n",
              "      box-shadow: 0px 1px 3px 1px rgba(0, 0, 0, 0.15);\n",
              "      filter: drop-shadow(0px 1px 2px rgba(0, 0, 0, 0.3));\n",
              "      fill: #FFFFFF;\n",
              "    }\n",
              "  </style>\n",
              "\n",
              "      <script>\n",
              "        const buttonEl =\n",
              "          document.querySelector('#df-6ef150ec-5273-4086-a996-f1dcf196a042 button.colab-df-convert');\n",
              "        buttonEl.style.display =\n",
              "          google.colab.kernel.accessAllowed ? 'block' : 'none';\n",
              "\n",
              "        async function convertToInteractive(key) {\n",
              "          const element = document.querySelector('#df-6ef150ec-5273-4086-a996-f1dcf196a042');\n",
              "          const dataTable =\n",
              "            await google.colab.kernel.invokeFunction('convertToInteractive',\n",
              "                                                     [key], {});\n",
              "          if (!dataTable) return;\n",
              "\n",
              "          const docLinkHtml = 'Like what you see? Visit the ' +\n",
              "            '<a target=\"_blank\" href=https://colab.research.google.com/notebooks/data_table.ipynb>data table notebook</a>'\n",
              "            + ' to learn more about interactive tables.';\n",
              "          element.innerHTML = '';\n",
              "          dataTable['output_type'] = 'display_data';\n",
              "          await google.colab.output.renderOutput(dataTable, element);\n",
              "          const docLink = document.createElement('div');\n",
              "          docLink.innerHTML = docLinkHtml;\n",
              "          element.appendChild(docLink);\n",
              "        }\n",
              "      </script>\n",
              "    </div>\n",
              "  </div>\n",
              "  "
            ]
          },
          "metadata": {},
          "execution_count": 19
        }
      ],
      "source": [
        "# теперь в целом  по банкам.\n",
        "num_of_replies_3 = df.groupby(['bank_name'])['datetime'].count().reset_index()\n",
        "num_of_replies_3.columns = ['Банк', 'Количество отзывов']\n",
        "num_of_replies_3.sort_values(by=['Количество отзывов'], ascending=False)\n"
      ]
    },
    {
      "cell_type": "code",
      "execution_count": null,
      "metadata": {
        "colab": {
          "base_uri": "https://localhost:8080/"
        },
        "id": "NW9WCUEimUt5",
        "outputId": "83b5742e-baa7-4512-97e0-1ff6b93beac4"
      },
      "outputs": [
        {
          "output_type": "execute_result",
          "data": {
            "text/plain": [
              "['Добрый день! Я не являюсь клиентом банка и поручителем по кредитному договору, а также не являюсь каким-либо другим лицом, письменно  оформившим отношения с банком по поводу урегулирования чьей-либо  задолженности.  Начиная с марта 2015 года начали приходить бесконечные письма из ООО \"Примо коллект\"на мой адрес: город Москва, Уваровский переулок, дом 10, квартира 111, с угрозами о возбуждении уголовного дела в отношении гражданина Филиппова Эдуарда Владимировича, который уклоняется от уплаты взятых им кредитов: договор № 81014 от 20.10.2013 года и договор № 2464946 от 09.10.2014 года. Со всей ответственностью\\xa0 хочу Вас заверить, что вышеуказанный гражданин, которого Вы разыскиваете, мне не знаком и никогда в моем адресе не был зарегистрирован. Каким образом Вы не удостоверившись в подлинности его документов оформили на его имя кредитный договор, мне по меньшей мере не понятно,\\xa0 и почему по Вашей милости я должна переживать и бояться за себе и свое имущество. Письма доставляют мне серьезные неудобства, нарушают мои гражданские права, а также нарушают закон о защите персональных данных. Убедительно прошу прекратить посылать на мой адрес письма с угрозами по вопросам, к которым я не имею отношения. В случае отклонения моей претензии буду вынуждена обратиться с жалобами в  другие органы: Росспотребнадзор, Центральный банк, Службу Финансового  омбудсмена. Кроме этого будет подано заявление в полицию и заявление в  суд возмещение причиненного мне морального вреда. Надеюсь на скорое решение моего вопроса.',\n",
              " 'Доброго дня! Являюсь держателем зарплатной карты , выданной Сбербанком России. В 2008 году сменила фамилию, предоставила в банк \\xa0документы (копию нового паспорта, свидетельства о браке), мне перевыпустили карту на фамилию мужа ТОКАРЕВА МАРИЯ АЛЕКСАНДРОВНА (девичья \\xa0- СЕКЛЕТИНА). \\xa0 Возникла необходимость подключить услугу Сбербанк онлайн, НЕ ПОЛУЧИЛОСЬ (на главной странице на отображались мои карты). Связалась с техническим специалистом отделения Сбербанка в котором обслуживалась. Он пояснил, что в базе банка, я все ещё под девичьей фамилией СЕКЛЕТИНА. Предложил выслать сканы необходимых документов. Выслала, оставив контакты, звонка так и не дождалась. Ч/з некоторое время звоню сама, объясняю ситуацию, меня пробивают по базе - опять числюсь СЕКЛЕТИНОЙ (хотя карту уже перевыпустили еще раз на фамилию ТОКАРЕВА в связи с истечением срока обслуживания). Высылаю документы (копию паспорта и свидетельства о браке). Результат \\xa0- 0 (ноль). ПРошу помочь разобраться в этой ситуации. С уважением Токарева Мария Александровна']"
            ]
          },
          "metadata": {},
          "execution_count": 30
        }
      ],
      "source": [
        "# б) Постройте гистограммы длин слов в символах и в словах.\n",
        "\n",
        "# сперва выведем примеры отзывов\n",
        "df['text'].head(2).tolist()"
      ]
    },
    {
      "cell_type": "code",
      "execution_count": null,
      "metadata": {
        "colab": {
          "base_uri": "https://localhost:8080/"
        },
        "id": "c5fo322o9DU9",
        "outputId": "707046d3-acc2-41bf-dfa5-762ebcf9dda3"
      },
      "outputs": [
        {
          "output_type": "execute_result",
          "data": {
            "text/plain": [
              "0    1523\n",
              "1    1026\n",
              "2     588\n",
              "3     740\n",
              "4    1896\n",
              "Name: text, dtype: int64"
            ]
          },
          "metadata": {},
          "execution_count": 21
        }
      ],
      "source": [
        "# теперь посчитаем длину отзывов в символах\n",
        "symb_length = df['text'].apply(len)\n",
        "symb_length[:5]"
      ]
    },
    {
      "cell_type": "code",
      "execution_count": null,
      "metadata": {
        "colab": {
          "base_uri": "https://localhost:8080/",
          "height": 282
        },
        "id": "meYm6XCL-Yl-",
        "outputId": "9bf6a56a-4632-4821-b610-df19e9874438"
      },
      "outputs": [
        {
          "output_type": "execute_result",
          "data": {
            "text/plain": [
              "<matplotlib.axes._subplots.AxesSubplot at 0x7f191a96a150>"
            ]
          },
          "metadata": {},
          "execution_count": 22
        },
        {
          "output_type": "display_data",
          "data": {
            "text/plain": [
              "<Figure size 432x288 with 1 Axes>"
            ],
            "image/png": "[encoded data removed]"
          },
          "metadata": {
            "needs_background": "light"
          }
        }
      ],
      "source": [
        "# выведем гистограмму распределения длин отзывов в символах\n",
        "symb_length.plot(kind = 'hist', bins = 100)"
      ]
    },
    {
      "cell_type": "code",
      "source": [
        "# Посчитаем длину каждого отзыва в словах (без препроцессинга с помощью токенизаторов и т.п.)\n",
        "\n",
        "# сначала разобьем каждый отзыв на отдельные слова\n",
        "replies = [txt.split() for txt in df.text]"
      ],
      "metadata": {
        "id": "BabPzjZBoJEA"
      },
      "execution_count": null,
      "outputs": []
    },
    {
      "cell_type": "code",
      "source": [
        "# потом заполним счетчик слов в каждом отзыве\n",
        "word_count = []\n",
        "for i in replies:\n",
        "  reply = str(i)\n",
        "  word_count.append(len(reply.split()))"
      ],
      "metadata": {
        "id": "rZbzQFaQvbk9"
      },
      "execution_count": null,
      "outputs": []
    },
    {
      "cell_type": "code",
      "source": [
        "word_count[:10]"
      ],
      "metadata": {
        "colab": {
          "base_uri": "https://localhost:8080/"
        },
        "id": "ZaTBGLQroyM1",
        "outputId": "25b2851b-cf70-4a31-d0aa-a9e86841ffed"
      },
      "execution_count": null,
      "outputs": [
        {
          "output_type": "execute_result",
          "data": {
            "text/plain": [
              "[219, 140, 90, 123, 306, 82, 88, 102, 95, 200]"
            ]
          },
          "metadata": {},
          "execution_count": 25
        }
      ]
    },
    {
      "cell_type": "code",
      "source": [
        "# выведем гистограмму распределения длин отзывов в словах\n",
        "word_count_df = pd.DataFrame(word_count)\n",
        "word_count_df.plot(kind = 'hist', bins = 100)"
      ],
      "metadata": {
        "colab": {
          "base_uri": "https://localhost:8080/",
          "height": 284
        },
        "id": "R5ABV4i6Wcwx",
        "outputId": "a570e67d-da6c-4294-d3c1-eae2e3880cbf"
      },
      "execution_count": null,
      "outputs": [
        {
          "output_type": "execute_result",
          "data": {
            "text/plain": [
              "<matplotlib.axes._subplots.AxesSubplot at 0x7f1852e70c50>"
            ]
          },
          "metadata": {},
          "execution_count": 26
        },
        {
          "output_type": "display_data",
          "data": {
            "text/plain": [
              "<Figure size 432x288 with 1 Axes>"
            ],
            "image/png": "[encoded data removed]"
          },
          "metadata": {
            "needs_background": "light"
          }
        }
      ]
    },
    {
      "cell_type": "markdown",
      "source": [
        "Можно сделать вывод, что формы распределения частот в символах и словах практически одинаковы."
      ],
      "metadata": {
        "id": "qh1LvMZrwkUb"
      }
    },
    {
      "cell_type": "code",
      "source": [
        "# в) Найдите 10 самых частых:\n",
        "# - слов (1)\n",
        "# - слов без стоп-слов (2).\n",
        "# - лемм (3).\n",
        "# - существительных (4).\n",
        "\n",
        "# (1) Для решения задачи нахождения 10-и самых частых слов (удалив только знаки пунктуации, т.е. без \"тяжелой\" предобработки) \n",
        "# воспользуемся самым простым способом - токенизатором 'word_tokenize' из библиотеки NLTK.\n",
        "from nltk.tokenize import word_tokenize\n",
        "nltk.download('punkt')"
      ],
      "metadata": {
        "id": "XIdt54ToxEIX",
        "colab": {
          "base_uri": "https://localhost:8080/"
        },
        "outputId": "a99ce370-3d02-4f04-f270-89535c39a06c"
      },
      "execution_count": null,
      "outputs": [
        {
          "output_type": "stream",
          "name": "stderr",
          "text": [
            "[nltk_data] Downloading package punkt to /root/nltk_data...\n",
            "[nltk_data]   Unzipping tokenizers/punkt.zip.\n"
          ]
        },
        {
          "output_type": "execute_result",
          "data": {
            "text/plain": [
              "True"
            ]
          },
          "metadata": {},
          "execution_count": 31
        }
      ]
    },
    {
      "cell_type": "code",
      "execution_count": null,
      "metadata": {
        "id": "6xtZH5AwiWic",
        "outputId": "b8c3e602-000c-4f34-ba33-e701d9e41657",
        "colab": {
          "base_uri": "https://localhost:8080/",
          "height": 36
        }
      },
      "outputs": [
        {
          "output_type": "execute_result",
          "data": {
            "text/plain": [
              "'!\"#$%&\\'()*+,-./:;<=>?@[\\\\]^_`{|}~'"
            ],
            "application/vnd.google.colaboratory.intrinsic+json": {
              "type": "string"
            }
          },
          "metadata": {},
          "execution_count": 32
        }
      ],
      "source": [
        "# загрузим знаки пунктуации\n",
        "from string import punctuation\n",
        "punctuation"
      ]
    },
    {
      "cell_type": "code",
      "source": [
        "# загрузим счетчик\n",
        "from collections import Counter"
      ],
      "metadata": {
        "id": "6Fe3z5KT3t38"
      },
      "execution_count": null,
      "outputs": []
    },
    {
      "cell_type": "code",
      "source": [
        "# корпус для п.1 (без знаков пунктуации) создадим из 15000 позиций, чтобы уменьшить время обработки (см.далее лемматизацию также на 15000 позиций)\n",
        "corpus = [token for response in df.text[:15000] for token in word_tokenize(response) if token not in punctuation]\n",
        "print(len(corpus))\n",
        "corpus[:5]"
      ],
      "metadata": {
        "colab": {
          "base_uri": "https://localhost:8080/"
        },
        "id": "_65lnONRCbUj",
        "outputId": "357525ca-ac27-42a5-fc66-a3849faaa9a9"
      },
      "execution_count": null,
      "outputs": [
        {
          "output_type": "stream",
          "name": "stdout",
          "text": [
            "3198559\n"
          ]
        },
        {
          "output_type": "execute_result",
          "data": {
            "text/plain": [
              "['Добрый', 'день', 'Я', 'не', 'являюсь']"
            ]
          },
          "metadata": {},
          "execution_count": 12
        }
      ]
    },
    {
      "cell_type": "code",
      "source": [
        "# прогоним корпус через счетчик\n",
        "freq_dict = Counter(corpus)\n",
        "\n",
        "# получим список 10 самых частых слов в корпусе (подвыборке из 15000 строк)\n",
        "freq_dict.most_common(10)"
      ],
      "metadata": {
        "colab": {
          "base_uri": "https://localhost:8080/"
        },
        "id": "Xns2KAgy4bKA",
        "outputId": "37ac0f64-b76e-4ef8-8938-78db1061c9e0"
      },
      "execution_count": null,
      "outputs": [
        {
          "output_type": "execute_result",
          "data": {
            "text/plain": [
              "[('в', 100299),\n",
              " ('и', 85275),\n",
              " ('не', 72429),\n",
              " ('на', 55723),\n",
              " ('что', 51958),\n",
              " ('с', 39389),\n",
              " ('я', 38879),\n",
              " ('по', 31471),\n",
              " ('мне', 25976),\n",
              " ('банка', 22109)]"
            ]
          },
          "metadata": {},
          "execution_count": 39
        }
      ]
    },
    {
      "cell_type": "code",
      "source": [
        "# (2) Для решения остальных задач из списка \"10-и самых частых\" сделаем более глубокий препроцессинг текста. Загрузим необходимые библиотеки, в т.ч. pymorphy2 (для п.3)\n",
        "import re\n",
        "from nltk.corpus import stopwords"
      ],
      "metadata": {
        "id": "Pmob2K54_5ES"
      },
      "execution_count": null,
      "outputs": []
    },
    {
      "cell_type": "code",
      "source": [
        "! pip install pymorphy2\n",
        "import pymorphy2\n",
        "\n",
        "m = pymorphy2.MorphAnalyzer()"
      ],
      "metadata": {
        "colab": {
          "base_uri": "https://localhost:8080/"
        },
        "id": "r9YTp2MytHlW",
        "outputId": "75320e0d-73ab-4eb3-d107-2eed9264809f"
      },
      "execution_count": null,
      "outputs": [
        {
          "output_type": "stream",
          "name": "stdout",
          "text": [
            "Looking in indexes: https://pypi.org/simple, https://us-python.pkg.dev/colab-wheels/public/simple/\n",
            "Collecting pymorphy2\n",
            "  Downloading pymorphy2-0.9.1-py3-none-any.whl (55 kB)\n",
            "\u001b[K     |████████████████████████████████| 55 kB 4.0 MB/s \n",
            "\u001b[?25hCollecting pymorphy2-dicts-ru<3.0,>=2.4\n",
            "  Downloading pymorphy2_dicts_ru-2.4.417127.4579844-py2.py3-none-any.whl (8.2 MB)\n",
            "\u001b[K     |████████████████████████████████| 8.2 MB 48.5 MB/s \n",
            "\u001b[?25hRequirement already satisfied: docopt>=0.6 in /usr/local/lib/python3.7/dist-packages (from pymorphy2) (0.6.2)\n",
            "Collecting dawg-python>=0.7.1\n",
            "  Downloading DAWG_Python-0.7.2-py2.py3-none-any.whl (11 kB)\n",
            "Installing collected packages: pymorphy2-dicts-ru, dawg-python, pymorphy2\n",
            "Successfully installed dawg-python-0.7.2 pymorphy2-0.9.1 pymorphy2-dicts-ru-2.4.417127.4579844\n"
          ]
        }
      ]
    },
    {
      "cell_type": "code",
      "source": [
        "nltk.download('stopwords')"
      ],
      "metadata": {
        "colab": {
          "base_uri": "https://localhost:8080/"
        },
        "id": "U3b7sPigQgwu",
        "outputId": "0981a9d5-4db1-43f8-9a75-1e07d1ee2640"
      },
      "execution_count": null,
      "outputs": [
        {
          "output_type": "stream",
          "name": "stderr",
          "text": [
            "[nltk_data] Downloading package stopwords to /root/nltk_data...\n",
            "[nltk_data]   Unzipping corpora/stopwords.zip.\n"
          ]
        },
        {
          "output_type": "execute_result",
          "data": {
            "text/plain": [
              "True"
            ]
          },
          "metadata": {},
          "execution_count": 36
        }
      ]
    },
    {
      "cell_type": "code",
      "source": [
        "mystopwords = stopwords.words('russian') + [\n",
        "    'это', 'наш' , 'тыс', 'млн', 'млрд', 'также',  'т', 'д',\n",
        "    'который','прошлый','сей', 'свой', 'наш', 'мочь', 'такой'\n",
        "] + list(punctuation)  #добавим знаки пунктуации к списку стоп-слов\n",
        "ru_words = re.compile(\"[А-Яа-я]+\")\n",
        "\n",
        "\n",
        "def words_only(txt):\n",
        "    return \" \".join(ru_words.findall(txt))\n",
        "\n",
        "\n",
        "def lemmatize(txt):\n",
        "    try:\n",
        "        return  \" \".join([m.parse(w)[0].normal_form for w in txt.lower().split()])\n",
        "    except:\n",
        "        return \" \"\n",
        "\n",
        "\n",
        "def remove_stopwords(txt, mystopwords = mystopwords):\n",
        "    try:\n",
        "        return \" \".join([token for token in txt.split() if not token in mystopwords])\n",
        "    except:\n",
        "        return \"\"\n",
        "\n",
        "# \"тяжелый\" препроцессинг (с лемматизацией)    \n",
        "def preprocess(txt):\n",
        "    return remove_stopwords(lemmatize(words_only(txt.lower())))\n",
        "\n",
        "# \"легкий\" препроцессинг (без лемматизации)\n",
        "def lite_preprocess(txt): \n",
        "    return remove_stopwords(words_only(txt.lower()))"
      ],
      "metadata": {
        "id": "rj_AyIPaRk4D"
      },
      "execution_count": null,
      "outputs": []
    },
    {
      "cell_type": "code",
      "source": [
        "# (2) получим список 10-и самых частых слов без стоп-слов и знаков пунктуации.\n",
        "response_without_stop = [token for response in df.text[:15000] for token in word_tokenize(response) if token not in mystopwords]\n",
        "print(len(response_without_stop))\n",
        "response_without_stop[:5]"
      ],
      "metadata": {
        "colab": {
          "base_uri": "https://localhost:8080/"
        },
        "id": "b3mP9BwvAq9m",
        "outputId": "9baff33a-8da9-4fb8-944e-52b312bba57f"
      },
      "execution_count": null,
      "outputs": [
        {
          "output_type": "stream",
          "name": "stdout",
          "text": [
            "2195586\n"
          ]
        },
        {
          "output_type": "execute_result",
          "data": {
            "text/plain": [
              "['Добрый', 'день', 'Я', 'являюсь', 'клиентом']"
            ]
          },
          "metadata": {},
          "execution_count": 15
        }
      ]
    },
    {
      "cell_type": "code",
      "source": [
        "freq_dict = Counter(response_without_stop)\n",
        "\n",
        "# попробуем получить список 10-и самых частых слов без стоп-слов (в подвыборке из 15000 строк)\n",
        "freq_dict.most_common(10)"
      ],
      "metadata": {
        "colab": {
          "base_uri": "https://localhost:8080/"
        },
        "id": "fPTd8-wuE38A",
        "outputId": "823df72b-dff7-441b-eab3-841f82732fa3"
      },
      "execution_count": null,
      "outputs": [
        {
          "output_type": "execute_result",
          "data": {
            "text/plain": [
              "[('банка', 22109),\n",
              " ('``', 17924),\n",
              " (\"''\", 17731),\n",
              " ('банк', 15062),\n",
              " ('В', 13101),\n",
              " ('Я', 11871),\n",
              " ('деньги', 10020),\n",
              " ('карты', 8627),\n",
              " ('карту', 8052),\n",
              " ('...', 7705)]"
            ]
          },
          "metadata": {},
          "execution_count": 16
        }
      ]
    },
    {
      "cell_type": "markdown",
      "source": [
        "Можно увидеть, что в список попали также сдвоенные и строенные знаки пунктуации ('``', \"''\", '...'), которые не входили в список пунктуации и поэтому не были удалены \"в лоб\" при первом проходе. Также в список входят цифры (не вошли в ТОП-10), что не очень хорошо. Попробуем избавиться от \"мусора\", используя функцию lite_preprocess (легкий препроцессинг без лемматизации)."
      ],
      "metadata": {
        "id": "pJfoLCT4I0xi"
      }
    },
    {
      "cell_type": "code",
      "source": [
        "response_without_stop_improved = df.text.astype('str')[:15000].progress_apply(lite_preprocess)"
      ],
      "metadata": {
        "colab": {
          "base_uri": "https://localhost:8080/"
        },
        "id": "BKvYOwsyIzTQ",
        "outputId": "3982f71c-c094-44c2-e0b3-4ac5323ccb49"
      },
      "execution_count": null,
      "outputs": [
        {
          "output_type": "stream",
          "name": "stderr",
          "text": [
            "100%|██████████| 15000/15000 [00:19<00:00, 755.65it/s] \n"
          ]
        }
      ]
    },
    {
      "cell_type": "code",
      "source": [
        "# прогоним результат работы функции lite_preprocess через токенизатор, чтобы разбить на отдельные слова \n",
        "response_without_stop_improved = [token for response in response_without_stop_improved for token in word_tokenize(response) if token not in mystopwords]\n",
        "print(len(response_without_stop_improved))\n",
        "response_without_stop_improved[:5]"
      ],
      "metadata": {
        "colab": {
          "base_uri": "https://localhost:8080/"
        },
        "id": "_4LMtJhPK-dl",
        "outputId": "537e1b38-6369-4525-db0e-789dd739460d"
      },
      "execution_count": null,
      "outputs": [
        {
          "output_type": "stream",
          "name": "stdout",
          "text": [
            "1929427\n"
          ]
        },
        {
          "output_type": "execute_result",
          "data": {
            "text/plain": [
              "['добрый', 'день', 'являюсь', 'клиентом', 'банка']"
            ]
          },
          "metadata": {},
          "execution_count": 18
        }
      ]
    },
    {
      "cell_type": "code",
      "source": [
        "freq_dict = Counter(response_without_stop_improved)\n",
        "\n",
        "# итоговый вариант списка 10-и самых частых слов без стоп-слов (в подвыборке из 15000 строк)\n",
        "freq_dict.most_common(10)"
      ],
      "metadata": {
        "colab": {
          "base_uri": "https://localhost:8080/"
        },
        "id": "AOwYu3LvJzpZ",
        "outputId": "e8a79e53-e6de-49bf-f913-a90393a81890"
      },
      "execution_count": null,
      "outputs": [
        {
          "output_type": "execute_result",
          "data": {
            "text/plain": [
              "[('банка', 26197),\n",
              " ('банк', 21025),\n",
              " ('деньги', 10789),\n",
              " ('карты', 8893),\n",
              " ('карту', 8414),\n",
              " ('день', 7156),\n",
              " ('г', 6972),\n",
              " ('кредит', 6862),\n",
              " ('банке', 6399),\n",
              " ('заявление', 6143)]"
            ]
          },
          "metadata": {},
          "execution_count": 19
        }
      ]
    },
    {
      "cell_type": "markdown",
      "source": [
        "Мы видим, что сдвоенные и строенные знаки препинания, а также цифры, ушли.  Размер корпуса при этом сократился с 2195586 до 1929427 символов."
      ],
      "metadata": {
        "id": "T_lF0wqIQA2w"
      }
    },
    {
      "cell_type": "code",
      "source": [
        "# (3) Лемматизацию (включая остальной препроцессинг) проведем на основании подвыборки из 15000 позиций по причине большого времени на обработку.\n",
        "# Обработка 15000 позиций заняла 15+ минут, т.е. весь массив из 153499 позиций лемматизировался бы около 2,5 часов.\n",
        "response_lemmas = df.text.astype('str')[:15000].progress_apply(preprocess)"
      ],
      "metadata": {
        "colab": {
          "base_uri": "https://localhost:8080/"
        },
        "id": "SyGCCmfK0qVa",
        "outputId": "a57eb88e-4545-4850-aa6e-d1d506e2394e"
      },
      "execution_count": null,
      "outputs": [
        {
          "output_type": "stream",
          "name": "stderr",
          "text": [
            "100%|██████████| 15000/15000 [15:29<00:00, 16.13it/s]\n"
          ]
        }
      ]
    },
    {
      "cell_type": "code",
      "source": [
        "response_lemmas"
      ],
      "metadata": {
        "colab": {
          "base_uri": "https://localhost:8080/"
        },
        "id": "eqooh-qm0qQl",
        "outputId": "700b1dcd-6e39-4069-ae72-412b064a7d8e"
      },
      "execution_count": null,
      "outputs": [
        {
          "output_type": "execute_result",
          "data": {
            "text/plain": [
              "0        добрый день являться клиент банк поручитель кр...\n",
              "1        добрый день являться держатель зарплатный карт...\n",
              "2        здравствуйте дублировать заявление можайский д...\n",
              "3        добрый день открыть расчётный счёт сбербанк юр...\n",
              "4        г взять кредит ваш банк заявить сумма рубль го...\n",
              "                               ...                        \n",
              "14995    друг добрый день долгий время явиться ваш клие...\n",
              "14996    здравствуйте хотеть оставить отзыв покупка вал...\n",
              "14997    декабрь открыть вклад хит сезон срок месяц авт...\n",
              "14998    банк тинькофф нравиться спасибо сервис отличны...\n",
              "14999    добрый день хотеть сделать обращение банк необ...\n",
              "Name: text, Length: 15000, dtype: object"
            ]
          },
          "metadata": {},
          "execution_count": 39
        }
      ]
    },
    {
      "cell_type": "code",
      "source": [
        "# прогоним результат лемматизации (работы функции preprocess) через токенизатор, чтобы разбить на отдельные слова\n",
        "response_lemmas_tokenized = [token for response in response_lemmas for token in word_tokenize(response) if token not in mystopwords]\n",
        "print(len(response_lemmas_tokenized))\n",
        "response_lemmas_tokenized[:5]"
      ],
      "metadata": {
        "colab": {
          "base_uri": "https://localhost:8080/"
        },
        "id": "WBWBP79yRktz",
        "outputId": "c6c3fd29-4029-414a-ddac-a4dd697c2d3a"
      },
      "execution_count": null,
      "outputs": [
        {
          "output_type": "stream",
          "name": "stdout",
          "text": [
            "1860128\n"
          ]
        },
        {
          "output_type": "execute_result",
          "data": {
            "text/plain": [
              "['добрый', 'день', 'являться', 'клиент', 'банк']"
            ]
          },
          "metadata": {},
          "execution_count": 22
        }
      ]
    },
    {
      "cell_type": "code",
      "source": [
        "freq_dict = Counter(response_lemmas_tokenized)\n",
        "\n",
        "# список 10-и самых частых лемм (в подвыборке из 15000 строк)\n",
        "freq_dict.most_common(10)"
      ],
      "metadata": {
        "colab": {
          "base_uri": "https://localhost:8080/"
        },
        "id": "bYFzwNh0RZ81",
        "outputId": "84093074-5ef9-4ff1-ca8c-5d584a510f5b"
      },
      "execution_count": null,
      "outputs": [
        {
          "output_type": "execute_result",
          "data": {
            "text/plain": [
              "[('банк', 63107),\n",
              " ('карта', 28032),\n",
              " ('день', 15204),\n",
              " ('деньга', 14577),\n",
              " ('кредит', 14235),\n",
              " ('сотрудник', 14041),\n",
              " ('всё', 13275),\n",
              " ('клиент', 12108),\n",
              " ('счёт', 10637),\n",
              " ('отделение', 10628)]"
            ]
          },
          "metadata": {},
          "execution_count": 23
        }
      ]
    },
    {
      "cell_type": "code",
      "source": [
        "# (4) Найдем 10 самых частых существительных. Воспользуемся обработанным списком лемм по выборке из 15000 позиций.\n",
        "\n",
        "# сперва посмотрим на формат парсинга pymorhy, нас интересуют поля 'word' и 'tag'\n",
        "m.parse(response_lemmas[1])"
      ],
      "metadata": {
        "colab": {
          "base_uri": "https://localhost:8080/"
        },
        "id": "_nxNCO5sRZ5G",
        "outputId": "df7f3ed2-891f-4354-8abf-526a8b996444"
      },
      "execution_count": null,
      "outputs": [
        {
          "output_type": "execute_result",
          "data": {
            "text/plain": [
              "[Parse(word='добрый день являться держатель зарплатный карта выдать сбербанк россия год сменить фамилия предоставить банк документ копия новый паспорт свидетельство брак перевыпустить карта фамилия муж токарев мария александрович девичий секлетина возникнуть необходимость подключить услуга сбербанк онлайн получиться главный страница отображаться карта связаться технический специалист отделение сбербанк обслуживаться пояснить база банк всё ещ девичий фамилия секлетина предложить выслать скан необходимый документ выслать оставить контакт звонок дождаться ч з некоторый время звонить объяснять ситуация пробивать база числиться секлетина хотя карта перевыпустить ещё фамилия токарев связь истечение срок обслуживание высылать документ копия паспорт свидетельство брак результат ноль просить помочь разобраться ситуация уважение токарев мария александрович', tag=OpencorporaTag('NOUN,anim,masc,Patr sing,nomn'), normal_form='добрый день являться держатель зарплатный карта выдать сбербанк россия год сменить фамилия предоставить банк документ копия новый паспорт свидетельство брак перевыпустить карта фамилия муж токарев мария александрович девичий секлетина возникнуть необходимость подключить услуга сбербанк онлайн получиться главный страница отображаться карта связаться технический специалист отделение сбербанк обслуживаться пояснить база банк всё ещ девичий фамилия секлетина предложить выслать скан необходимый документ выслать оставить контакт звонок дождаться ч з некоторый время звонить объяснять ситуация пробивать база числиться секлетина хотя карта перевыпустить ещё фамилия токарев связь истечение срок обслуживание высылать документ копия паспорт свидетельство брак результат ноль просить помочь разобраться ситуация уважение токарев мария александрович', score=1.0, methods_stack=((FakeDictionary(), 'брый день являться держатель зарплатный карта выдать сбербанк россия год сменить фамилия предоставить банк документ копия новый паспорт свидетельство брак перевыпустить карта фамилия муж токарев мария александрович девичий секлетина возникнуть необходимость подключить услуга сбербанк онлайн получиться главный страница отображаться карта связаться технический специалист отделение сбербанк обслуживаться пояснить база банк всё ещ девичий фамилия секлетина предложить выслать скан необходимый документ выслать оставить контакт звонок дождаться ч з некоторый время звонить объяснять ситуация пробивать база числиться секлетина хотя карта перевыпустить ещё фамилия токарев связь истечение срок обслуживание высылать документ копия паспорт свидетельство брак результат ноль просить помочь разобраться ситуация уважение токарев мария александрович', 26, 0), (KnownSuffixAnalyzer(min_word_length=4, score_multiplier=0.5), 'рович'), (KnownPrefixAnalyzer(known_prefixes=<...>, min_remainder_length=3, score_multiplier=0.75), 'до')))]"
            ]
          },
          "metadata": {},
          "execution_count": 24
        }
      ]
    },
    {
      "cell_type": "code",
      "source": [
        "# определим функцию выделения существительных из текста\n",
        "def parsing_nouns(txt):\n",
        "    try:\n",
        "        return  \" \".join([m.parse(w)[0].word for w in txt.lower().split() if 'NOUN' in m.parse(w)[0].tag])\n",
        "    except:\n",
        "        return \" \""
      ],
      "metadata": {
        "id": "uqUA0FmAp1JN"
      },
      "execution_count": null,
      "outputs": []
    },
    {
      "cell_type": "code",
      "source": [
        "# выделим список существительных из предобработанного списка лемм (подвыборка 15000 позиций)\n",
        "response_nouns = response_lemmas.progress_apply(parsing_nouns)"
      ],
      "metadata": {
        "colab": {
          "base_uri": "https://localhost:8080/"
        },
        "id": "HcgEuvcbbtMr",
        "outputId": "2b689885-9338-4180-b48e-b215eb9559dc"
      },
      "execution_count": null,
      "outputs": [
        {
          "output_type": "stream",
          "name": "stderr",
          "text": [
            "100%|██████████| 15000/15000 [09:33<00:00, 26.16it/s]\n"
          ]
        }
      ]
    },
    {
      "cell_type": "code",
      "source": [
        "# повторно прогоним список существительных (работы функции parsing_nouns) через токенизатор, чтобы разбить на отдельные слова\n",
        "response_nouns_tokenized = [token for response in response_nouns for token in word_tokenize(response) if token not in mystopwords]\n",
        "print(len(response_nouns_tokenized))\n",
        "response_nouns_tokenized[:5]"
      ],
      "metadata": {
        "colab": {
          "base_uri": "https://localhost:8080/"
        },
        "id": "Kygg_ZFCbtFW",
        "outputId": "20b03307-5c48-4cb7-fafd-e2319bf105e3"
      },
      "execution_count": null,
      "outputs": [
        {
          "output_type": "stream",
          "name": "stdout",
          "text": [
            "960261\n"
          ]
        },
        {
          "output_type": "execute_result",
          "data": {
            "text/plain": [
              "['день', 'клиент', 'банк', 'поручитель', 'договор']"
            ]
          },
          "metadata": {},
          "execution_count": 27
        }
      ]
    },
    {
      "cell_type": "code",
      "source": [
        "freq_dict = Counter(response_nouns_tokenized)\n",
        "freq_dict.most_common(10)"
      ],
      "metadata": {
        "colab": {
          "base_uri": "https://localhost:8080/"
        },
        "id": "bAerUR-j0bq9",
        "outputId": "6f98c7d9-e735-48b4-aa71-8eae1fb9d539"
      },
      "execution_count": null,
      "outputs": [
        {
          "output_type": "execute_result",
          "data": {
            "text/plain": [
              "[('банк', 63107),\n",
              " ('карта', 28032),\n",
              " ('день', 15204),\n",
              " ('деньга', 14577),\n",
              " ('кредит', 14235),\n",
              " ('сотрудник', 14041),\n",
              " ('клиент', 12108),\n",
              " ('счёт', 10637),\n",
              " ('отделение', 10628),\n",
              " ('сумма', 10624)]"
            ]
          },
          "metadata": {},
          "execution_count": 28
        }
      ]
    },
    {
      "cell_type": "code",
      "execution_count": null,
      "metadata": {
        "id": "IuhE2o8NiWid",
        "outputId": "641bdd59-cfb8-41ae-ce41-a9b87aaf2cc8",
        "colab": {
          "base_uri": "https://localhost:8080/",
          "height": 265
        }
      },
      "outputs": [
        {
          "output_type": "display_data",
          "data": {
            "text/plain": [
              "<Figure size 432x288 with 1 Axes>"
            ],
            "image/png": "[encoded data removed]"
          },
          "metadata": {
            "needs_background": "light"
          }
        }
      ],
      "source": [
        "# г) Построим кривые Ципфа и Хипса.\n",
        "# В качестве основы возьмем полный корпус (все отзывы без препроцессинга), но можно было взять и после препроцессинга (например, без стоп-слов).\n",
        "# Закономерность сохранилась бы и так, при условии достаточно большой выборки. На графике мы видим, что частотность использования слов в корпусе убывает очень быстро.\n",
        "freq_dict = Counter(corpus)\n",
        "\n",
        "# кривая Ципфа\n",
        "import matplotlib.pyplot as plt\n",
        "%matplotlib inline\n",
        "\n",
        "freqs = list(freq_dict.values())\n",
        "freqs = sorted(freqs, reverse = True)\n",
        "\n",
        "fig, ax = plt.subplots()\n",
        "ax.plot(freqs[:300], range(300))\n",
        "plt.show()"
      ]
    },
    {
      "cell_type": "code",
      "source": [
        "# Построим кривую Хипса. Расчет будем делать на подвыборке из 5000 позиций (для ускорения расчетов, \n",
        "# т.к. процедура расчета для построения кривой Хипса еще более ресурсозатратная, чем лемматизация текста.\n",
        "# С увеличением корпуса растет количество сохраняемых счетчиков уникальных слов. \n",
        "# В Google Colab расчет по выборке из 5000 позиций занял 20+ минут, доступная оперативка практически закончилась.)\n",
        "\n",
        "cnt = Counter()\n",
        "n_words = []\n",
        "n_tokens = []\n",
        "tokens = []\n",
        "\n",
        "for index, row in tqdm(df[:5000].iterrows(), total = len(df[:5000])):\n",
        "  tokens = word_tokenize(row['text'])\n",
        "  cnt.update([token for token in tokens if token not in punctuation])\n",
        "  n_words.append(len(cnt))\n",
        "  n_tokens.append([sum(i) for i in cnt.values()])"
      ],
      "metadata": {
        "colab": {
          "base_uri": "https://localhost:8080/"
        },
        "id": "_gd4JuP6Fv3V",
        "outputId": "13559676-6cfb-4939-a6a0-a5a8fcec8dc8"
      },
      "execution_count": null,
      "outputs": [
        {
          "output_type": "stream",
          "name": "stderr",
          "text": [
            "100%|██████████| 5000/5000 [20:43<00:00,  4.02it/s]\n"
          ]
        }
      ]
    },
    {
      "cell_type": "code",
      "source": [
        "# посчитаем отдельно сумму счетчиков токенов, иначе построение графика вылетает с ошибкой\n",
        "sum_tokens = []\n",
        "for i in n_tokens:\n",
        "  sum_tokens.append(sum(i))"
      ],
      "metadata": {
        "id": "RHff7kGBBQOp"
      },
      "execution_count": null,
      "outputs": []
    },
    {
      "cell_type": "code",
      "source": [
        "sum_tokens[:10]"
      ],
      "metadata": {
        "colab": {
          "base_uri": "https://localhost:8080/"
        },
        "id": "xx5wP6UpCdUA",
        "outputId": "23eab438-4ab9-4bb6-ce73-d3f1ff289998"
      },
      "execution_count": null,
      "outputs": [
        {
          "output_type": "execute_result",
          "data": {
            "text/plain": [
              "[222, 358, 451, 575, 883, 969, 1058, 1159, 1254, 1453]"
            ]
          },
          "metadata": {},
          "execution_count": 51
        }
      ]
    },
    {
      "cell_type": "code",
      "source": [
        "n_words[:10]"
      ],
      "metadata": {
        "colab": {
          "base_uri": "https://localhost:8080/"
        },
        "id": "Liw7_OUHMcn_",
        "outputId": "dddc1278-79eb-41c4-95e4-2daf4f90ccd6"
      },
      "execution_count": null,
      "outputs": [
        {
          "output_type": "execute_result",
          "data": {
            "text/plain": [
              "[170, 268, 319, 398, 551, 601, 648, 710, 770, 854]"
            ]
          },
          "metadata": {},
          "execution_count": 52
        }
      ]
    },
    {
      "cell_type": "markdown",
      "source": [
        "На графике мы видим, как корпус постепенно насыщается новыми словами."
      ],
      "metadata": {
        "id": "aQcTMq5UK78E"
      }
    },
    {
      "cell_type": "code",
      "source": [
        "fig, ax = plt.subplots()\n",
        "ax.plot(sum_tokens, n_words)\n",
        "plt.show()"
      ],
      "metadata": {
        "colab": {
          "base_uri": "https://localhost:8080/",
          "height": 278
        },
        "id": "ztjmoMDkJdA3",
        "outputId": "06724047-9479-4d29-bf34-36f6095e0119"
      },
      "execution_count": null,
      "outputs": [
        {
          "output_type": "display_data",
          "data": {
            "text/plain": [
              "<Figure size 432x288 with 1 Axes>"
            ],
            "image/png": "[encoded data removed]"
          },
          "metadata": {
            "needs_background": "light"
          }
        }
      ]
    },
    {
      "cell_type": "code",
      "source": [
        "# д) Ответьте на следующие вопросы:\n",
        "# - какое слово встречается чаще, \"сотрудник\" или \"клиент\"?\n",
        "# - сколько раз встречаются слова \"мошенничество\" и \"доверие\"?\n",
        "\n",
        "# Для ответа на эти вопросы воспользуемся корпусом лемм (response_lemmas_tokenized) на подвыборке 15000 позиций\n",
        "freq_dict = Counter(response_lemmas_tokenized)\n",
        "\n",
        "# - какое слово встречается чаще, \"сотрудник\" или \"клиент\"? Ответ: слово \"сотрудник\" встречается чаще, чем слово \"клиент\"\n",
        "print(\"сотрудник:\", freq_dict[\"сотрудник\"])\n",
        "print(\"клиент:\", freq_dict[\"клиент\"])"
      ],
      "metadata": {
        "id": "F-LR7kSOMChx",
        "colab": {
          "base_uri": "https://localhost:8080/"
        },
        "outputId": "e3ab6560-4d4a-479c-8220-dd7dd30565d5"
      },
      "execution_count": null,
      "outputs": [
        {
          "output_type": "stream",
          "name": "stdout",
          "text": [
            "сотрудник: 14041\n",
            "клиент: 12108\n"
          ]
        }
      ]
    },
    {
      "cell_type": "code",
      "source": [
        "# - сколько раз встречаются слова \"мошенничество\" и \"доверие\"? Ответ: слово \"мошенничество\" встречается 323 раза, слово \"доверие\" - 213 раз.\n",
        "print(\"мошенничество:\", freq_dict[\"мошенничество\"])\n",
        "print(\"доверие:\", freq_dict[\"доверие\"])"
      ],
      "metadata": {
        "id": "hps5vt5FJc40",
        "colab": {
          "base_uri": "https://localhost:8080/"
        },
        "outputId": "d1fd8071-0354-4979-9bf6-8656594ed92a"
      },
      "execution_count": null,
      "outputs": [
        {
          "output_type": "stream",
          "name": "stdout",
          "text": [
            "мошенничество: 323\n",
            "доверие: 213\n"
          ]
        }
      ]
    },
    {
      "cell_type": "code",
      "source": [
        "# е) В поле \"rating_grade\" записана оценка отзыва по шкале от 1 до 5. \n",
        "# Используйте меру tf-idf для того, чтобы найти ключевые слова и биграммы для положительных отзывов (с оценкой 5) и отрицательных отзывов (с оценкой 1).\n",
        "\n",
        "df['rating_grade'].value_counts()\n",
        "# Мы видим, что оценки проставлены лишь примерно в половине отзывов (88658 из 153499). С учетом этого факта, а также ограничения, \n",
        "# что в предыдущих пунктах ДЗ подвыборка была сделана на основании 15000 позиций без учета оценки отзыва, следует сделать новые подвыборки: \n",
        "# - для положительных отзывов (с оценкой 5) \n",
        "# - для отрицательных отзывов (с оценкой 1) "
      ],
      "metadata": {
        "id": "uCpaGjK4JcyS",
        "colab": {
          "base_uri": "https://localhost:8080/"
        },
        "outputId": "6f57d0a4-f009-432b-9eb2-d3b51e50a29c"
      },
      "execution_count": null,
      "outputs": [
        {
          "output_type": "execute_result",
          "data": {
            "text/plain": [
              "1.0    47387\n",
              "5.0    14713\n",
              "2.0    13509\n",
              "3.0     9261\n",
              "4.0     3788\n",
              "Name: rating_grade, dtype: int64"
            ]
          },
          "metadata": {},
          "execution_count": 34
        }
      ]
    },
    {
      "cell_type": "code",
      "source": [
        "# - для положительных отзывов (с оценкой 5) \n",
        "df_positive_responses = df[['text', 'rating_grade']].loc[df['rating_grade'] == 5]\n",
        "df_positive_responses.info()"
      ],
      "metadata": {
        "id": "dFNpe37MFvy8",
        "colab": {
          "base_uri": "https://localhost:8080/"
        },
        "outputId": "ab4bf61a-47e1-451e-f884-1994c2c837fb"
      },
      "execution_count": null,
      "outputs": [
        {
          "output_type": "stream",
          "name": "stdout",
          "text": [
            "<class 'pandas.core.frame.DataFrame'>\n",
            "Int64Index: 14713 entries, 98 to 153498\n",
            "Data columns (total 2 columns):\n",
            " #   Column        Non-Null Count  Dtype  \n",
            "---  ------        --------------  -----  \n",
            " 0   text          14713 non-null  object \n",
            " 1   rating_grade  14713 non-null  float64\n",
            "dtypes: float64(1), object(1)\n",
            "memory usage: 344.8+ KB\n"
          ]
        }
      ]
    },
    {
      "cell_type": "code",
      "source": [
        "# примеры положительных отзывов\n",
        "df_positive_responses.text.head().tolist()"
      ],
      "metadata": {
        "colab": {
          "base_uri": "https://localhost:8080/"
        },
        "id": "mI_l9OjcUjqy",
        "outputId": "caabb6d9-c3c8-4bdf-8159-82f78879bf78"
      },
      "execution_count": null,
      "outputs": [
        {
          "output_type": "execute_result",
          "data": {
            "text/plain": [
              "['Досрочно закрывали вклады перед отпуском. Жена заказывала заранее, но забыла заказать на меня. Сотрудник банка (СПБ Ленсовета 89) Наталья не отказала мне, хотя сумма значительная. Работает быстро, профессионально. Ничего лишнего. Жаль, что прикрыли прием вкладов в офисе Озерки - доступность офиса для меня. Заметил, что и несут деньги во вклады и берут кредиты. Желаю успехов банку.',\n",
              " 'Хотел открыть вклад \"Доходный+\" под 19% год , проценты начисляются лесенкой 4 месяца 14%, потом 4 месяца 16%, потом 4 месяца 19%.\\xa0 Но есть условие: Общий объем всех дополнительных взносов не может превышать 100% от суммы первоначального взноса по вкладу. А мне нужен вклад с возможностью пополнения.\\xa0 Хорошо, \\xa0значит сразу надо делать большой первоначальный взнос, пришел в офис банка в Нижнем Новгороде, спросил у операциониста: \"Могу ли я открыть вклад Доходный и внести на него деньги межбанковским переводом?\", ответ \"Да, можете\". Мне открыли: 1. счет вклада 2. текущий счет 3. счет карты (саму карту не выдали). \"А теперь пройдите в кассу чтобы внести наличными сумму вклада\". Какая касса, я хочу сделать межбанк перевод, о чем сразу и сказал. Через несколько дней ставки по вкладу\\xa0\"Доходный+\" снизили до 12%,13%,16%. Почему поставил 1 балл? Условия вклада объяснили, дали подписать договор, открыли счет\\xa0вклада. А ПОПОЛНИТЬ вклад НЕ ДАЛИ и потом снизили ставку, что это за банк такой. Хотя во всем остальном мне банк понравился и я надеялся на долгое сотрудничество. Вопрос к представителю банка: Могу ли я пополнить свой уже открытый счет вклада по условиям и ставкам 14%,16%,19%?',\n",
              " 'Вчера, 3 июня, просидев в очереди более 3-х часов на получение страховых выплат банка Транспортный, администраторы пообещали, что не выгонят нас даже после закрытия отделения в 21-00. И все бы ничего, но после 22-00 произошел сбой и мы, все, кто остался, решили придти сегодня, 4 июня.  Девушки администраторы встретили нас сегодня и помогли быстро попасть к операционисту для оформления документов. Все были очень приветливы и за каждую заминку, не по своей вине, извинялись.  Решил более подробно посмотреть сайт банка и воспользоваться его услугами. Мне предложили оформить карту, но понимая, что на данный момент в очереди сидят люди, которые тоже ждали выплат, решил приехать в отделение как только спадет наплыв.  Повторюсь еще раз, я очень доволен обслуживанием. Я обслуживался во многих банках и мне есть с чем сравнивать. Спасибо.',\n",
              " 'Сегодня открывал вклад в этом банке. Очередь была в одного клиента, но зав. отделением лично приняла участие в оформлении приходно-расходных операций. Поэтому времени было затрачено минимум. Особо отмечу наличие бесплатного кофе-автомата в зале (этого не видел ни в одном другом банке) для клиентов. И отмечу наличие туалета со свободным доступом для клиентов. В целом сложилось впечатление, что персонал старается работать хорошо и данный банк является клиентоориентированным. И еще, что оценил положительно, уже дома - это простой, удобный и понятный интерфейс интернет-банкинга. За какао спасибо, за обслуживание спасибо!',\n",
              " 'Моя история получения кредита в Ренессанс Кредит банке.Прежде чем отправляться банк, позвонил. Уточнил, на какую сумму могу рассчитывать при предоставлении имеющихся у меня документов, и под какой процент. Получив информацию, которая меня устроила, отправился в этот же день в ближайшее отделение банка.Без проблем нашел офис. Очереди не было, приняли сразу,ждать не пришлось. Начал, как и везде с вопросов: о сумме страховки, о том, что собственно страхуем и возможности выбрать что-либо одно, о проценте кредита в случае отказа от страховки ну и в таком духе. Просчитали полную сумму кредита в нескольких вариантах, стало наглядно видно, за что и сколько я переплачиваю за весь срок. Заполняем анкету, в процессе выясняется несколько очень не красивых моментов. 1. За кредитную историю требующуюся банку с вас удержат 1200 рублей (господа, ну так нельзя). 2. Смс информирование оплачивает клиент за весь сроккредита (пора уже делать опцию бесплатно, по такой цене это скорее ММС с фото на пару гигабайт). Ну да ладно это все пустяки, продолжаем оформлять, тем более уже заканчиваем и я готов был ждать пару дней на проверку данных и подтверждения кредита. А нет, оказалось все куда проще, программа одобрила кредит (критерии какими она руководствуется, полагаю, в принципе стандартны). Ну, одобрила, и хорошо продолжаем заполнять бумажки, расписываться за все и вдруг! – ЧЕК в кассу на получение наличных. Приятно был удивлен оперативностью! В сравнении с другими банками: процент по кредиту – очень хорошо, сумма страховки – очень хорошо (Московскому кредитному банку пора призадуматься, со страховкой 47 000 от суммы 150 000 за 24 месяца), общение с персоналом – отлично. В целом первые впечатления о банке остались положительные. Отдельно хочется поблагодарить старшего менеджера по работе с клиентами Евт-ну Юлию. Честно, просто молодец! - таких служащих банка встретить за удачу (даже отзыв оставить возникло желание, чего ни когда не делал ранее). Любителям писать негативные отзывы -\\xa0 уточняйте на месте сразу всю информацию обо всех выплатах и процентах, лишь только потом принимайте решение о заключении договора.']"
            ]
          },
          "metadata": {},
          "execution_count": 68
        }
      ]
    },
    {
      "cell_type": "code",
      "source": [
        "# сделаем препроцессинг(включая лемматизацию) отзывов с положительной оценкой\n",
        "df_positive_responses.text = df_positive_responses.text.astype('str').progress_apply(preprocess)"
      ],
      "metadata": {
        "colab": {
          "base_uri": "https://localhost:8080/"
        },
        "id": "4BK6wPuRUjiG",
        "outputId": "67baeef1-77f8-4c2b-e655-411d3350814b"
      },
      "execution_count": null,
      "outputs": [
        {
          "output_type": "stream",
          "name": "stderr",
          "text": [
            "100%|██████████| 14713/14713 [15:38<00:00, 15.68it/s]\n"
          ]
        }
      ]
    },
    {
      "cell_type": "code",
      "source": [
        "df_positive_responses.head()"
      ],
      "metadata": {
        "colab": {
          "base_uri": "https://localhost:8080/",
          "height": 206
        },
        "id": "pu7j2y7rlbDO",
        "outputId": "2394a3e1-09b3-4ba2-cb4e-76b1236a739d"
      },
      "execution_count": null,
      "outputs": [
        {
          "output_type": "execute_result",
          "data": {
            "text/plain": [
              "                                                  text  rating_grade\n",
              "98   досрочно закрывать вклад отпуск жена заказыват...           5.0\n",
              "122  хотеть открыть вклад доходный год процент начи...           5.0\n",
              "157  вчера июнь просидеть очередь х час получение с...           5.0\n",
              "259  сегодня открывать вклад банк очередь клиент за...           5.0\n",
              "266  история получение кредит ренессанс кредит банк...           5.0"
            ],
            "text/html": [
              "\n",
              "  <div id=\"df-536ece1e-e588-488d-9866-ae24a83674b0\">\n",
              "    <div class=\"colab-df-container\">\n",
              "      <div>\n",
              "<style scoped>\n",
              "    .dataframe tbody tr th:only-of-type {\n",
              "        vertical-align: middle;\n",
              "    }\n",
              "\n",
              "    .dataframe tbody tr th {\n",
              "        vertical-align: top;\n",
              "    }\n",
              "\n",
              "    .dataframe thead th {\n",
              "        text-align: right;\n",
              "    }\n",
              "</style>\n",
              "<table border=\"1\" class=\"dataframe\">\n",
              "  <thead>\n",
              "    <tr style=\"text-align: right;\">\n",
              "      <th></th>\n",
              "      <th>text</th>\n",
              "      <th>rating_grade</th>\n",
              "    </tr>\n",
              "  </thead>\n",
              "  <tbody>\n",
              "    <tr>\n",
              "      <th>98</th>\n",
              "      <td>досрочно закрывать вклад отпуск жена заказыват...</td>\n",
              "      <td>5.0</td>\n",
              "    </tr>\n",
              "    <tr>\n",
              "      <th>122</th>\n",
              "      <td>хотеть открыть вклад доходный год процент начи...</td>\n",
              "      <td>5.0</td>\n",
              "    </tr>\n",
              "    <tr>\n",
              "      <th>157</th>\n",
              "      <td>вчера июнь просидеть очередь х час получение с...</td>\n",
              "      <td>5.0</td>\n",
              "    </tr>\n",
              "    <tr>\n",
              "      <th>259</th>\n",
              "      <td>сегодня открывать вклад банк очередь клиент за...</td>\n",
              "      <td>5.0</td>\n",
              "    </tr>\n",
              "    <tr>\n",
              "      <th>266</th>\n",
              "      <td>история получение кредит ренессанс кредит банк...</td>\n",
              "      <td>5.0</td>\n",
              "    </tr>\n",
              "  </tbody>\n",
              "</table>\n",
              "</div>\n",
              "      <button class=\"colab-df-convert\" onclick=\"convertToInteractive('df-536ece1e-e588-488d-9866-ae24a83674b0')\"\n",
              "              title=\"Convert this dataframe to an interactive table.\"\n",
              "              style=\"display:none;\">\n",
              "        \n",
              "  <svg xmlns=\"http://www.w3.org/2000/svg\" height=\"24px\"viewBox=\"0 0 24 24\"\n",
              "       width=\"24px\">\n",
              "    <path d=\"M0 0h24v24H0V0z\" fill=\"none\"/>\n",
              "    <path d=\"M18.56 5.44l.94 2.06.94-2.06 2.06-.94-2.06-.94-.94-2.06-.94 2.06-2.06.94zm-11 1L8.5 8.5l.94-2.06 2.06-.94-2.06-.94L8.5 2.5l-.94 2.06-2.06.94zm10 10l.94 2.06.94-2.06 2.06-.94-2.06-.94-.94-2.06-.94 2.06-2.06.94z\"/><path d=\"M17.41 7.96l-1.37-1.37c-.4-.4-.92-.59-1.43-.59-.52 0-1.04.2-1.43.59L10.3 9.45l-7.72 7.72c-.78.78-.78 2.05 0 2.83L4 21.41c.39.39.9.59 1.41.59.51 0 1.02-.2 1.41-.59l7.78-7.78 2.81-2.81c.8-.78.8-2.07 0-2.86zM5.41 20L4 18.59l7.72-7.72 1.47 1.35L5.41 20z\"/>\n",
              "  </svg>\n",
              "      </button>\n",
              "      \n",
              "  <style>\n",
              "    .colab-df-container {\n",
              "      display:flex;\n",
              "      flex-wrap:wrap;\n",
              "      gap: 12px;\n",
              "    }\n",
              "\n",
              "    .colab-df-convert {\n",
              "      background-color: #E8F0FE;\n",
              "      border: none;\n",
              "      border-radius: 50%;\n",
              "      cursor: pointer;\n",
              "      display: none;\n",
              "      fill: #1967D2;\n",
              "      height: 32px;\n",
              "      padding: 0 0 0 0;\n",
              "      width: 32px;\n",
              "    }\n",
              "\n",
              "    .colab-df-convert:hover {\n",
              "      background-color: #E2EBFA;\n",
              "      box-shadow: 0px 1px 2px rgba(60, 64, 67, 0.3), 0px 1px 3px 1px rgba(60, 64, 67, 0.15);\n",
              "      fill: #174EA6;\n",
              "    }\n",
              "\n",
              "    [theme=dark] .colab-df-convert {\n",
              "      background-color: #3B4455;\n",
              "      fill: #D2E3FC;\n",
              "    }\n",
              "\n",
              "    [theme=dark] .colab-df-convert:hover {\n",
              "      background-color: #434B5C;\n",
              "      box-shadow: 0px 1px 3px 1px rgba(0, 0, 0, 0.15);\n",
              "      filter: drop-shadow(0px 1px 2px rgba(0, 0, 0, 0.3));\n",
              "      fill: #FFFFFF;\n",
              "    }\n",
              "  </style>\n",
              "\n",
              "      <script>\n",
              "        const buttonEl =\n",
              "          document.querySelector('#df-536ece1e-e588-488d-9866-ae24a83674b0 button.colab-df-convert');\n",
              "        buttonEl.style.display =\n",
              "          google.colab.kernel.accessAllowed ? 'block' : 'none';\n",
              "\n",
              "        async function convertToInteractive(key) {\n",
              "          const element = document.querySelector('#df-536ece1e-e588-488d-9866-ae24a83674b0');\n",
              "          const dataTable =\n",
              "            await google.colab.kernel.invokeFunction('convertToInteractive',\n",
              "                                                     [key], {});\n",
              "          if (!dataTable) return;\n",
              "\n",
              "          const docLinkHtml = 'Like what you see? Visit the ' +\n",
              "            '<a target=\"_blank\" href=https://colab.research.google.com/notebooks/data_table.ipynb>data table notebook</a>'\n",
              "            + ' to learn more about interactive tables.';\n",
              "          element.innerHTML = '';\n",
              "          dataTable['output_type'] = 'display_data';\n",
              "          await google.colab.output.renderOutput(dataTable, element);\n",
              "          const docLink = document.createElement('div');\n",
              "          docLink.innerHTML = docLinkHtml;\n",
              "          element.appendChild(docLink);\n",
              "        }\n",
              "      </script>\n",
              "    </div>\n",
              "  </div>\n",
              "  "
            ]
          },
          "metadata": {},
          "execution_count": 72
        }
      ]
    },
    {
      "cell_type": "code",
      "source": [
        "# загрузим библиотеку для разбивки на n-граммы и TF-IDF-векторизатор\n",
        "from nltk import ngrams\n",
        "from sklearn.feature_extraction.text import TfidfVectorizer"
      ],
      "metadata": {
        "id": "J7E4X9bScAvs"
      },
      "execution_count": null,
      "outputs": []
    },
    {
      "cell_type": "code",
      "source": [
        "# создадим векторизатор для разбивки на униграммы\n",
        "positive_response_unigrams = TfidfVectorizer() # параметр ngram_range можно не задавать. По умолчанию - униграммы (1,1)"
      ],
      "metadata": {
        "id": "A0ChfV-IiLc5"
      },
      "execution_count": null,
      "outputs": []
    },
    {
      "cell_type": "code",
      "source": [
        "# сформируем \"мешок слов\" с униграммами для полож.отзывов\n",
        "bow_positive_unigrams = positive_response_unigrams.fit_transform(df_positive_responses.text)"
      ],
      "metadata": {
        "id": "TqRiJBohcAgX"
      },
      "execution_count": null,
      "outputs": []
    },
    {
      "cell_type": "code",
      "source": [
        "# способ подсчета ранга позаимствован из https://stackoverflow.com/questions/61213125/how-to-get-the-rank-of-inverse-document-frequency-idf-value-fof-all-the-terms\n",
        "terms = positive_response_unigrams.get_feature_names_out()\n",
        "\n",
        "# суммируем меру tf-idf каждого слова в \"мешке слов\"\n",
        "sums = bow_positive_unigrams.sum(axis=0)\n",
        "\n",
        "# объединяем каждое слово и его tf-idf, сортируем по убыванию\n",
        "data = []\n",
        "for col, term in enumerate(terms):\n",
        "    data.append((term, sums[0, col]))\n",
        "\n",
        "ranking = pd.DataFrame(data, columns=['Слово(униграмма)','Ранг по tf-idf'])\n",
        "ranking = ranking.sort_values('Ранг по tf-idf', ascending=False)\n",
        "ranking[:15]"
      ],
      "metadata": {
        "colab": {
          "base_uri": "https://localhost:8080/",
          "height": 520
        },
        "id": "PcROORIhyjtt",
        "outputId": "3d66daf2-ad82-44c3-ad31-2c60613bebae"
      },
      "execution_count": null,
      "outputs": [
        {
          "output_type": "execute_result",
          "data": {
            "text/plain": [
              "      Слово(униграмма)  Ранг по tf-idf\n",
              "1370              банк     1212.915664\n",
              "10664            карта      720.753085\n",
              "4287               всё      560.482741\n",
              "3473             вклад      515.325001\n",
              "12102           кредит      492.520093\n",
              "19921            очень      466.033703\n",
              "19310        отделение      449.070038\n",
              "6247              день      401.578905\n",
              "11050           клиент      397.724856\n",
              "29475        сотрудник      387.697028\n",
              "6249            деньга      387.144751\n",
              "19828             офис      360.614978\n",
              "5351               год      342.958956\n",
              "3906            вопрос      330.175080\n",
              "30612             счёт      328.728101"
            ],
            "text/html": [
              "\n",
              "  <div id=\"df-a46bcf5d-1595-4a64-aedf-571fc9a1472b\">\n",
              "    <div class=\"colab-df-container\">\n",
              "      <div>\n",
              "<style scoped>\n",
              "    .dataframe tbody tr th:only-of-type {\n",
              "        vertical-align: middle;\n",
              "    }\n",
              "\n",
              "    .dataframe tbody tr th {\n",
              "        vertical-align: top;\n",
              "    }\n",
              "\n",
              "    .dataframe thead th {\n",
              "        text-align: right;\n",
              "    }\n",
              "</style>\n",
              "<table border=\"1\" class=\"dataframe\">\n",
              "  <thead>\n",
              "    <tr style=\"text-align: right;\">\n",
              "      <th></th>\n",
              "      <th>Слово(униграмма)</th>\n",
              "      <th>Ранг по tf-idf</th>\n",
              "    </tr>\n",
              "  </thead>\n",
              "  <tbody>\n",
              "    <tr>\n",
              "      <th>1370</th>\n",
              "      <td>банк</td>\n",
              "      <td>1212.915664</td>\n",
              "    </tr>\n",
              "    <tr>\n",
              "      <th>10664</th>\n",
              "      <td>карта</td>\n",
              "      <td>720.753085</td>\n",
              "    </tr>\n",
              "    <tr>\n",
              "      <th>4287</th>\n",
              "      <td>всё</td>\n",
              "      <td>560.482741</td>\n",
              "    </tr>\n",
              "    <tr>\n",
              "      <th>3473</th>\n",
              "      <td>вклад</td>\n",
              "      <td>515.325001</td>\n",
              "    </tr>\n",
              "    <tr>\n",
              "      <th>12102</th>\n",
              "      <td>кредит</td>\n",
              "      <td>492.520093</td>\n",
              "    </tr>\n",
              "    <tr>\n",
              "      <th>19921</th>\n",
              "      <td>очень</td>\n",
              "      <td>466.033703</td>\n",
              "    </tr>\n",
              "    <tr>\n",
              "      <th>19310</th>\n",
              "      <td>отделение</td>\n",
              "      <td>449.070038</td>\n",
              "    </tr>\n",
              "    <tr>\n",
              "      <th>6247</th>\n",
              "      <td>день</td>\n",
              "      <td>401.578905</td>\n",
              "    </tr>\n",
              "    <tr>\n",
              "      <th>11050</th>\n",
              "      <td>клиент</td>\n",
              "      <td>397.724856</td>\n",
              "    </tr>\n",
              "    <tr>\n",
              "      <th>29475</th>\n",
              "      <td>сотрудник</td>\n",
              "      <td>387.697028</td>\n",
              "    </tr>\n",
              "    <tr>\n",
              "      <th>6249</th>\n",
              "      <td>деньга</td>\n",
              "      <td>387.144751</td>\n",
              "    </tr>\n",
              "    <tr>\n",
              "      <th>19828</th>\n",
              "      <td>офис</td>\n",
              "      <td>360.614978</td>\n",
              "    </tr>\n",
              "    <tr>\n",
              "      <th>5351</th>\n",
              "      <td>год</td>\n",
              "      <td>342.958956</td>\n",
              "    </tr>\n",
              "    <tr>\n",
              "      <th>3906</th>\n",
              "      <td>вопрос</td>\n",
              "      <td>330.175080</td>\n",
              "    </tr>\n",
              "    <tr>\n",
              "      <th>30612</th>\n",
              "      <td>счёт</td>\n",
              "      <td>328.728101</td>\n",
              "    </tr>\n",
              "  </tbody>\n",
              "</table>\n",
              "</div>\n",
              "      <button class=\"colab-df-convert\" onclick=\"convertToInteractive('df-a46bcf5d-1595-4a64-aedf-571fc9a1472b')\"\n",
              "              title=\"Convert this dataframe to an interactive table.\"\n",
              "              style=\"display:none;\">\n",
              "        \n",
              "  <svg xmlns=\"http://www.w3.org/2000/svg\" height=\"24px\"viewBox=\"0 0 24 24\"\n",
              "       width=\"24px\">\n",
              "    <path d=\"M0 0h24v24H0V0z\" fill=\"none\"/>\n",
              "    <path d=\"M18.56 5.44l.94 2.06.94-2.06 2.06-.94-2.06-.94-.94-2.06-.94 2.06-2.06.94zm-11 1L8.5 8.5l.94-2.06 2.06-.94-2.06-.94L8.5 2.5l-.94 2.06-2.06.94zm10 10l.94 2.06.94-2.06 2.06-.94-2.06-.94-.94-2.06-.94 2.06-2.06.94z\"/><path d=\"M17.41 7.96l-1.37-1.37c-.4-.4-.92-.59-1.43-.59-.52 0-1.04.2-1.43.59L10.3 9.45l-7.72 7.72c-.78.78-.78 2.05 0 2.83L4 21.41c.39.39.9.59 1.41.59.51 0 1.02-.2 1.41-.59l7.78-7.78 2.81-2.81c.8-.78.8-2.07 0-2.86zM5.41 20L4 18.59l7.72-7.72 1.47 1.35L5.41 20z\"/>\n",
              "  </svg>\n",
              "      </button>\n",
              "      \n",
              "  <style>\n",
              "    .colab-df-container {\n",
              "      display:flex;\n",
              "      flex-wrap:wrap;\n",
              "      gap: 12px;\n",
              "    }\n",
              "\n",
              "    .colab-df-convert {\n",
              "      background-color: #E8F0FE;\n",
              "      border: none;\n",
              "      border-radius: 50%;\n",
              "      cursor: pointer;\n",
              "      display: none;\n",
              "      fill: #1967D2;\n",
              "      height: 32px;\n",
              "      padding: 0 0 0 0;\n",
              "      width: 32px;\n",
              "    }\n",
              "\n",
              "    .colab-df-convert:hover {\n",
              "      background-color: #E2EBFA;\n",
              "      box-shadow: 0px 1px 2px rgba(60, 64, 67, 0.3), 0px 1px 3px 1px rgba(60, 64, 67, 0.15);\n",
              "      fill: #174EA6;\n",
              "    }\n",
              "\n",
              "    [theme=dark] .colab-df-convert {\n",
              "      background-color: #3B4455;\n",
              "      fill: #D2E3FC;\n",
              "    }\n",
              "\n",
              "    [theme=dark] .colab-df-convert:hover {\n",
              "      background-color: #434B5C;\n",
              "      box-shadow: 0px 1px 3px 1px rgba(0, 0, 0, 0.15);\n",
              "      filter: drop-shadow(0px 1px 2px rgba(0, 0, 0, 0.3));\n",
              "      fill: #FFFFFF;\n",
              "    }\n",
              "  </style>\n",
              "\n",
              "      <script>\n",
              "        const buttonEl =\n",
              "          document.querySelector('#df-a46bcf5d-1595-4a64-aedf-571fc9a1472b button.colab-df-convert');\n",
              "        buttonEl.style.display =\n",
              "          google.colab.kernel.accessAllowed ? 'block' : 'none';\n",
              "\n",
              "        async function convertToInteractive(key) {\n",
              "          const element = document.querySelector('#df-a46bcf5d-1595-4a64-aedf-571fc9a1472b');\n",
              "          const dataTable =\n",
              "            await google.colab.kernel.invokeFunction('convertToInteractive',\n",
              "                                                     [key], {});\n",
              "          if (!dataTable) return;\n",
              "\n",
              "          const docLinkHtml = 'Like what you see? Visit the ' +\n",
              "            '<a target=\"_blank\" href=https://colab.research.google.com/notebooks/data_table.ipynb>data table notebook</a>'\n",
              "            + ' to learn more about interactive tables.';\n",
              "          element.innerHTML = '';\n",
              "          dataTable['output_type'] = 'display_data';\n",
              "          await google.colab.output.renderOutput(dataTable, element);\n",
              "          const docLink = document.createElement('div');\n",
              "          docLink.innerHTML = docLinkHtml;\n",
              "          element.appendChild(docLink);\n",
              "        }\n",
              "      </script>\n",
              "    </div>\n",
              "  </div>\n",
              "  "
            ]
          },
          "metadata": {},
          "execution_count": 112
        }
      ]
    },
    {
      "cell_type": "code",
      "source": [
        "# Теперь разобьём положительные отзывы на биграммы. Может быть, получится более информативно, чем разбивка на униграммы.\n",
        "# Создадим векторизатор для разбивки на биграммы\n",
        "positive_response_bigrams = TfidfVectorizer(ngram_range=(2, 2))"
      ],
      "metadata": {
        "id": "llEJr29rhRiS"
      },
      "execution_count": null,
      "outputs": []
    },
    {
      "cell_type": "code",
      "source": [
        "# сформируем \"мешок слов\" с биграммами для полож.отзывов\n",
        "bow_positive_bigrams = positive_response_bigrams.fit_transform(df_positive_responses.text)"
      ],
      "metadata": {
        "id": "OOD7_s8yhRUb"
      },
      "execution_count": null,
      "outputs": []
    },
    {
      "cell_type": "code",
      "source": [
        "terms = positive_response_bigrams.get_feature_names_out()\n",
        "\n",
        "# суммируем меру tf-idf каждой биграммы в \"мешке слов\"\n",
        "sums = bow_positive_bigrams.sum(axis=0)\n",
        "\n",
        "# объединяем каждую биграмму и её tf-idf, сортируем по убыванию\n",
        "data = []\n",
        "for col, term in enumerate(terms):\n",
        "    data.append((term, sums[0, col]))\n",
        "\n",
        "ranking = pd.DataFrame(data, columns=['Биграмма','Ранг по tf-idf'])\n",
        "ranking = ranking.sort_values('Ранг по tf-idf', ascending=False)\n",
        "ranking[:15]"
      ],
      "metadata": {
        "colab": {
          "base_uri": "https://localhost:8080/",
          "height": 520
        },
        "id": "1hmguADkRA3Q",
        "outputId": "ddd22884-646b-4400-be8a-8cac738ca546"
      },
      "execution_count": null,
      "outputs": [
        {
          "output_type": "execute_result",
          "data": {
            "text/plain": [
              "               Биграмма  Ранг по tf-idf\n",
              "231675    интернет банк       87.804672\n",
              "280969  кредитный карта       83.588668\n",
              "696596   сотрудник банк       80.607950\n",
              "257730      клиент банк       69.984112\n",
              "430167   отделение банк       53.470469\n",
              "823511  являться клиент       53.221081\n",
              "674439   следующий день       51.661931\n",
              "94538        всё вопрос       48.594002\n",
              "11188        альфа банк       46.641128\n",
              "153354      добрый день       43.540660\n",
              "438694    открыть вклад       43.462278\n",
              "454630  очень довольный       43.222746\n",
              "134746  дебетовый карта       42.231286\n",
              "455665     очень удобно       40.434413\n",
              "797627  хотеть выразить       39.418145"
            ],
            "text/html": [
              "\n",
              "  <div id=\"df-a2e8903e-5362-4bbf-89f3-4ce87e3f99e4\">\n",
              "    <div class=\"colab-df-container\">\n",
              "      <div>\n",
              "<style scoped>\n",
              "    .dataframe tbody tr th:only-of-type {\n",
              "        vertical-align: middle;\n",
              "    }\n",
              "\n",
              "    .dataframe tbody tr th {\n",
              "        vertical-align: top;\n",
              "    }\n",
              "\n",
              "    .dataframe thead th {\n",
              "        text-align: right;\n",
              "    }\n",
              "</style>\n",
              "<table border=\"1\" class=\"dataframe\">\n",
              "  <thead>\n",
              "    <tr style=\"text-align: right;\">\n",
              "      <th></th>\n",
              "      <th>Биграмма</th>\n",
              "      <th>Ранг по tf-idf</th>\n",
              "    </tr>\n",
              "  </thead>\n",
              "  <tbody>\n",
              "    <tr>\n",
              "      <th>231675</th>\n",
              "      <td>интернет банк</td>\n",
              "      <td>87.804672</td>\n",
              "    </tr>\n",
              "    <tr>\n",
              "      <th>280969</th>\n",
              "      <td>кредитный карта</td>\n",
              "      <td>83.588668</td>\n",
              "    </tr>\n",
              "    <tr>\n",
              "      <th>696596</th>\n",
              "      <td>сотрудник банк</td>\n",
              "      <td>80.607950</td>\n",
              "    </tr>\n",
              "    <tr>\n",
              "      <th>257730</th>\n",
              "      <td>клиент банк</td>\n",
              "      <td>69.984112</td>\n",
              "    </tr>\n",
              "    <tr>\n",
              "      <th>430167</th>\n",
              "      <td>отделение банк</td>\n",
              "      <td>53.470469</td>\n",
              "    </tr>\n",
              "    <tr>\n",
              "      <th>823511</th>\n",
              "      <td>являться клиент</td>\n",
              "      <td>53.221081</td>\n",
              "    </tr>\n",
              "    <tr>\n",
              "      <th>674439</th>\n",
              "      <td>следующий день</td>\n",
              "      <td>51.661931</td>\n",
              "    </tr>\n",
              "    <tr>\n",
              "      <th>94538</th>\n",
              "      <td>всё вопрос</td>\n",
              "      <td>48.594002</td>\n",
              "    </tr>\n",
              "    <tr>\n",
              "      <th>11188</th>\n",
              "      <td>альфа банк</td>\n",
              "      <td>46.641128</td>\n",
              "    </tr>\n",
              "    <tr>\n",
              "      <th>153354</th>\n",
              "      <td>добрый день</td>\n",
              "      <td>43.540660</td>\n",
              "    </tr>\n",
              "    <tr>\n",
              "      <th>438694</th>\n",
              "      <td>открыть вклад</td>\n",
              "      <td>43.462278</td>\n",
              "    </tr>\n",
              "    <tr>\n",
              "      <th>454630</th>\n",
              "      <td>очень довольный</td>\n",
              "      <td>43.222746</td>\n",
              "    </tr>\n",
              "    <tr>\n",
              "      <th>134746</th>\n",
              "      <td>дебетовый карта</td>\n",
              "      <td>42.231286</td>\n",
              "    </tr>\n",
              "    <tr>\n",
              "      <th>455665</th>\n",
              "      <td>очень удобно</td>\n",
              "      <td>40.434413</td>\n",
              "    </tr>\n",
              "    <tr>\n",
              "      <th>797627</th>\n",
              "      <td>хотеть выразить</td>\n",
              "      <td>39.418145</td>\n",
              "    </tr>\n",
              "  </tbody>\n",
              "</table>\n",
              "</div>\n",
              "      <button class=\"colab-df-convert\" onclick=\"convertToInteractive('df-a2e8903e-5362-4bbf-89f3-4ce87e3f99e4')\"\n",
              "              title=\"Convert this dataframe to an interactive table.\"\n",
              "              style=\"display:none;\">\n",
              "        \n",
              "  <svg xmlns=\"http://www.w3.org/2000/svg\" height=\"24px\"viewBox=\"0 0 24 24\"\n",
              "       width=\"24px\">\n",
              "    <path d=\"M0 0h24v24H0V0z\" fill=\"none\"/>\n",
              "    <path d=\"M18.56 5.44l.94 2.06.94-2.06 2.06-.94-2.06-.94-.94-2.06-.94 2.06-2.06.94zm-11 1L8.5 8.5l.94-2.06 2.06-.94-2.06-.94L8.5 2.5l-.94 2.06-2.06.94zm10 10l.94 2.06.94-2.06 2.06-.94-2.06-.94-.94-2.06-.94 2.06-2.06.94z\"/><path d=\"M17.41 7.96l-1.37-1.37c-.4-.4-.92-.59-1.43-.59-.52 0-1.04.2-1.43.59L10.3 9.45l-7.72 7.72c-.78.78-.78 2.05 0 2.83L4 21.41c.39.39.9.59 1.41.59.51 0 1.02-.2 1.41-.59l7.78-7.78 2.81-2.81c.8-.78.8-2.07 0-2.86zM5.41 20L4 18.59l7.72-7.72 1.47 1.35L5.41 20z\"/>\n",
              "  </svg>\n",
              "      </button>\n",
              "      \n",
              "  <style>\n",
              "    .colab-df-container {\n",
              "      display:flex;\n",
              "      flex-wrap:wrap;\n",
              "      gap: 12px;\n",
              "    }\n",
              "\n",
              "    .colab-df-convert {\n",
              "      background-color: #E8F0FE;\n",
              "      border: none;\n",
              "      border-radius: 50%;\n",
              "      cursor: pointer;\n",
              "      display: none;\n",
              "      fill: #1967D2;\n",
              "      height: 32px;\n",
              "      padding: 0 0 0 0;\n",
              "      width: 32px;\n",
              "    }\n",
              "\n",
              "    .colab-df-convert:hover {\n",
              "      background-color: #E2EBFA;\n",
              "      box-shadow: 0px 1px 2px rgba(60, 64, 67, 0.3), 0px 1px 3px 1px rgba(60, 64, 67, 0.15);\n",
              "      fill: #174EA6;\n",
              "    }\n",
              "\n",
              "    [theme=dark] .colab-df-convert {\n",
              "      background-color: #3B4455;\n",
              "      fill: #D2E3FC;\n",
              "    }\n",
              "\n",
              "    [theme=dark] .colab-df-convert:hover {\n",
              "      background-color: #434B5C;\n",
              "      box-shadow: 0px 1px 3px 1px rgba(0, 0, 0, 0.15);\n",
              "      filter: drop-shadow(0px 1px 2px rgba(0, 0, 0, 0.3));\n",
              "      fill: #FFFFFF;\n",
              "    }\n",
              "  </style>\n",
              "\n",
              "      <script>\n",
              "        const buttonEl =\n",
              "          document.querySelector('#df-a2e8903e-5362-4bbf-89f3-4ce87e3f99e4 button.colab-df-convert');\n",
              "        buttonEl.style.display =\n",
              "          google.colab.kernel.accessAllowed ? 'block' : 'none';\n",
              "\n",
              "        async function convertToInteractive(key) {\n",
              "          const element = document.querySelector('#df-a2e8903e-5362-4bbf-89f3-4ce87e3f99e4');\n",
              "          const dataTable =\n",
              "            await google.colab.kernel.invokeFunction('convertToInteractive',\n",
              "                                                     [key], {});\n",
              "          if (!dataTable) return;\n",
              "\n",
              "          const docLinkHtml = 'Like what you see? Visit the ' +\n",
              "            '<a target=\"_blank\" href=https://colab.research.google.com/notebooks/data_table.ipynb>data table notebook</a>'\n",
              "            + ' to learn more about interactive tables.';\n",
              "          element.innerHTML = '';\n",
              "          dataTable['output_type'] = 'display_data';\n",
              "          await google.colab.output.renderOutput(dataTable, element);\n",
              "          const docLink = document.createElement('div');\n",
              "          docLink.innerHTML = docLinkHtml;\n",
              "          element.appendChild(docLink);\n",
              "        }\n",
              "      </script>\n",
              "    </div>\n",
              "  </div>\n",
              "  "
            ]
          },
          "metadata": {},
          "execution_count": 111
        }
      ]
    },
    {
      "cell_type": "code",
      "source": [
        "# Теперь сделаем то же самое  для отрицательных отзывов (с оценкой 1) \n",
        "df_negative_responses = df[['text', 'rating_grade']].loc[df['rating_grade'] == 1]\n",
        "df_negative_responses.info()"
      ],
      "metadata": {
        "colab": {
          "base_uri": "https://localhost:8080/"
        },
        "id": "46s6dSE53BVT",
        "outputId": "d5cdc163-1cf1-44a0-a8c2-3bb607c0371a"
      },
      "execution_count": null,
      "outputs": [
        {
          "output_type": "stream",
          "name": "stdout",
          "text": [
            "<class 'pandas.core.frame.DataFrame'>\n",
            "Int64Index: 47387 entries, 19 to 153497\n",
            "Data columns (total 2 columns):\n",
            " #   Column        Non-Null Count  Dtype  \n",
            "---  ------        --------------  -----  \n",
            " 0   text          47387 non-null  object \n",
            " 1   rating_grade  47387 non-null  float64\n",
            "dtypes: float64(1), object(1)\n",
            "memory usage: 1.1+ MB\n"
          ]
        }
      ]
    },
    {
      "cell_type": "code",
      "source": [
        "# примеры отрицательных отзывов\n",
        "df_negative_responses.text.head().tolist()"
      ],
      "metadata": {
        "colab": {
          "base_uri": "https://localhost:8080/"
        },
        "id": "1woLKCOY3BQH",
        "outputId": "19921c33-959e-4f23-cec5-e57b3c8d1525"
      },
      "execution_count": null,
      "outputs": [
        {
          "output_type": "execute_result",
          "data": {
            "text/plain": [
              "['Открыт вклад и счет в USD. Плюс к этому есть зарплатная карта, в рублях, само собой. Сегодня пришел в указанное отделение с целью пополнить долларовый счёт на 700 USD.\\xa0Дал операционисту паспорт, зарплатную карту (т.к. на окошке написано \"приготовьте карту для подтверждения операции\" или что-то подобное и в прошлый раз у меня ее потребовали) и сказал, что нужно положить деньги на ДОЛЛАРОВЫЙ счет.\\xa0Операционист всё взяла, что-то делала-крутила-вертела, вставила карту в терминал, сказала \"введите пин\", я ввёл пин, получил в ответ чек, где было написано, что доллары были внесены.... на счёт КАРТЫ! в РУБЛЯХ! Вопрос банку №1, риторический:  Я не понимаю, кем нужно быть, чтобы сознательно проводить такие операции??? за углом, меньше чем через квартал, курс приёма валюты выше почти на рубль! Если я действительно хотел совершить такую \"хитрую\" операцию, мне было выгоднее сделать 100 шагов и \"заработать\" на этом около 700 рублей, после чего просто внести рубли на счёт карты в банкомате! Далее...\\xa0 После долгих, около двух часов, выяснений отношений с операционистом и\\xa0(видимо)\\xa0ее начальником, их попыток отменить первую транзакцию и т.д. и т.п., мы \"сошлись\" на том, что мне компенсируют курсовую разницу между зачислением долларов на рублёвую карту (54,6 руб/доллар, со СЛОВ операциониста) и курсом покупки валюты (58,7 руб/доллар), я куплю за наличные те же 700 долларов и положу их на долларовый счёт. Также я попросил указать на чеке курс, по которому прошла первая транзакция (доллары на рублёвый счёт, 54,6) и поставить печать.\\xa0 Доллары поступили на счёт через 3 часа и по курсу (тадааам!) 54,38. Комиссия банка? или что это было?. Опять же, операционист не знает о комиссиях или курсах проведения операции? Вывод 1:  В итоге я потерял 2 часа времени, нервы и (фиг уж с ними) 154 рубля. Вывод 2:  другим клиентам: требуйте распечатки тех операций, которые собирается провести операционист ДО их проведения. Если бы не было \"высокотехнологичного\" подтверждения операции PIN\\'ом, а была обычная платёжка, всего этого можно было бы избежать. Вопрос банку №2, риторический:  \\xa0Сбер, когда вы будете брать на работу компетентных сотрудников? Которые способны думать или, хотя бы, слушать, что их просят сделать?',\n",
              " 'Доброго времени! Вчера мне поступило смс-уведомление, о том, что банк делает мне эксклюзивное предложение по кредиту. Являюсь клиентом банка в настоящее время, но в связи с проявленной инициативой банка, решил воспользоваться предложением. Приехал сегодня днем в отделение, заполнил анкету, сразу пояснил - \"без страховки\", сотрудник (имени не помню) начала сразу приводить мне доводы об отказе в кредитовании без страховки (ну мы то понимаем что это их зарплата), я молча ее выслушал, в конце еще раз пояснил - \"без страховки\", поставил соответствующий пункт в заявлении на кредит. Сотрудник принял заявление и сказала: \"Мы вам позвоним и уведомим о решении банка\", я уехал... Вечером (18:00) сотрудник мне действительно перезвонила, сообщила что заявка одобрена, я сказал, что постараюсь успеть... Успел - приехал 19:45, подхожу, сотрудник говорит: \"присаживайтесь\", я присел, было чувство скрытой тревоги, и не зря, я еще раз уточнил \"без страховки\", и тут сотрудник меня уведомляет: \"Вам одобрен кредит с минимальным пакетом страхования\"!? Я ей еще раз поясняю: \"Я написал в заявлении без страховки, банк одобрил кредит, в чем проблема?\" Сотрудник замялся, и куда-то убежал, приходит с коллегой (как я понял старший/начальник/или еще кто), и у нее в руках буклеты страхования!? Я еще раз им объясняю: \"Заявление рассмотренное и одобренное банком без страхования\", на что получаю ответ старшего сотрудника: \"К сожалению, мы не можем вам выдать (уже одобренный банком) кредит без страхования, время 18:55, я попрощался и вышел. Резюмирую: ОБМАН КЛИЕНТОВ, НАВЯЗЫВАНИЕ СТРАХОВКИ. Вопрос к представителю банка - уважаемый представитель, на каком основании ваши сотрудники обманывают клиентов, и самопроизвольно отказываются выдавать уже одобренный банком кредит??? что это за произвол?, как вы это допускаете?, почему я не могу получить одобренный кредит без страховки, не купив страховку?, как это вообще понимать? Поймите одно, из-за таких случаев, складывается негативное отношение к банку, а не к сотруднику, сотрудника можно заменить, а вот репутацию исправить - дело не легкое. Оценку изменю по мере решения вопроса, оставил также обращение в колл-центр.',\n",
              " '05.06.2015г. около 15 часов, пришел в указанный офис с намерением пополнить вклад \"Мирное небо\"\\xa0однако менежер разъяснила мне, что с 1-го июня пополнение вклада осуществляется под меньший процент, чем предусмотрено договором, сославшись при этом на указание Центробанка. Когда я обратил её внимание на неизменность процентной ставки в течение срока Договора, мне было указано, что это относится только к тем средствам, которые уже лежат на депозите, а к пополнениям не относятся и я неверно понимаю Договор.  В пункте 2.3.а Договора\\xa0указано: \"Вкладчик вправе вносить дополнительные взносы во Вклад. Дополнительные взносы увеличивают сумму вклада и к ним применяются все условия настоящего договора.\" Исчерпывающая формулировка, не допускающая двоякого толкования, а одним из основных условий Договора является процентная ставка по вкладу. Ясно любому грамотному человеку, даже не надо быть юристом. Я не стал спорить с менеджером, она маленький винтик, выполняющий то, что ей приказывают. Просто перешел дорогу и положил средства на депозит в другом банке. Тем не менее хотелось бы знать, что по этому поводу думают органы контроля, и как руководство Банка объясняет сей пассаж. Что касается меня, то впредь я очень подумаю, стоит ли доверять деньги этому банку.',\n",
              " 'Для оплаты коммунальных платежей пользуюсь пластиковой картой и сайтом банка. С некоторых пор оплатить отчисления на капремонт стало невозможно: программа требует ввести лицевой счет (это номер квартиры), а после ввода пишет,что счет не найден. При внешнем переводе из другого банка сумма возвращается обратно, т.к. счет не найден. Прошу проверить наличие счета 40703810255040000214 и возможность его пополнения.',\n",
              " 'В апреле этого года пришла в отделение сбербанка 6991/0571 г. Чапаевска, положила на свой счет 10 000 р., в окошко кассиру подавала договор со счетом, зарегистрированным на меня, расписалась в квитанции, там стоит моя фамилия, и со спокойной душой ушла. 02.06,2015г, опять обратилась в это отделение положить деньги, так же расписалась, а вечером, просматривая документы, обнаружила не тот остаток на счете (в банке некогда было квитанции разглядывать, да и уверенность, что люди работающие в этой сфере, не зря получают свою заработную плату). 03.06.2015г я опять обратилась в отделение 6991/0571, по поводу остатка на счете, меня начали гонять по разным окошкам, наконец сжалились и приняли. В общем документы приняли и сказали, что я положила на счет гражданки Л-вой У.А., свои честно заработанные денежки, еще в апреле этого года, потом была двух часовая проверка, слышно было как шепчутся операторы, что ошиблись в цифрах моего счета и что-то про ключ, но мне в конечном итоге сказали, что в квитанции моя подпись, что надо оказывается читать квитанцию на чье имя я кладу деньги, тем самым я положила на счет неизвестной тети 10 000р! Как!!! Я пришла со своим счетом, почему они с ней не связались и просто не узнали, знаем ли мы друг друга, мне просто сказали идите, вам тут ничего не светит, расписались в квитанции, значит, пиши-пропало, но я же на свой счет договор кассиру подавала, где справедливость! Передо мной даже не извинились! Написала заявление в прокуратуру, я понимаю, что для многих это не великие деньги, но кто-то и за такие работает. Вся документация имеется, претензию в банк тоже написала, но нет уверенности, что ее сегодня не выкинут.']"
            ]
          },
          "metadata": {},
          "execution_count": 86
        }
      ]
    },
    {
      "cell_type": "code",
      "source": [
        "# сделаем препроцессинг(включая лемматизацию) отрицательных отзывов (47387 позиций отрабатывались на Колабе 1ч.03мин.)\n",
        "df_negative_responses.text = df_negative_responses.text.astype('str').progress_apply(preprocess)"
      ],
      "metadata": {
        "colab": {
          "base_uri": "https://localhost:8080/"
        },
        "id": "tygVSm0J3BKK",
        "outputId": "3ac556ec-1629-4bf4-cc8c-529b210dc4f9"
      },
      "execution_count": null,
      "outputs": [
        {
          "output_type": "stream",
          "name": "stderr",
          "text": [
            "100%|██████████| 47387/47387 [1:03:10<00:00, 12.50it/s]\n"
          ]
        }
      ]
    },
    {
      "cell_type": "code",
      "source": [
        "df_negative_responses.head()"
      ],
      "metadata": {
        "colab": {
          "base_uri": "https://localhost:8080/",
          "height": 206
        },
        "id": "9A7lhCpS3BB0",
        "outputId": "c3e206f7-ff60-4753-ee4e-0d6bb23e44b1"
      },
      "execution_count": null,
      "outputs": [
        {
          "output_type": "execute_result",
          "data": {
            "text/plain": [
              "                                                 text  rating_grade\n",
              "19  открыть вклад счёт плюс зарплатный карта рубль...           1.0\n",
              "33  добрый время вчера поступить смс уведомление б...           1.0\n",
              "76  г около час прийти указанный офис намерение по...           1.0\n",
              "85  оплата коммунальный платёж пользоваться пласти...           1.0\n",
              "94  апрель год прийти отделение сбербанк г чапаевс...           1.0"
            ],
            "text/html": [
              "\n",
              "  <div id=\"df-f1ee236d-d56a-47eb-be0c-5afff51e5b13\">\n",
              "    <div class=\"colab-df-container\">\n",
              "      <div>\n",
              "<style scoped>\n",
              "    .dataframe tbody tr th:only-of-type {\n",
              "        vertical-align: middle;\n",
              "    }\n",
              "\n",
              "    .dataframe tbody tr th {\n",
              "        vertical-align: top;\n",
              "    }\n",
              "\n",
              "    .dataframe thead th {\n",
              "        text-align: right;\n",
              "    }\n",
              "</style>\n",
              "<table border=\"1\" class=\"dataframe\">\n",
              "  <thead>\n",
              "    <tr style=\"text-align: right;\">\n",
              "      <th></th>\n",
              "      <th>text</th>\n",
              "      <th>rating_grade</th>\n",
              "    </tr>\n",
              "  </thead>\n",
              "  <tbody>\n",
              "    <tr>\n",
              "      <th>19</th>\n",
              "      <td>открыть вклад счёт плюс зарплатный карта рубль...</td>\n",
              "      <td>1.0</td>\n",
              "    </tr>\n",
              "    <tr>\n",
              "      <th>33</th>\n",
              "      <td>добрый время вчера поступить смс уведомление б...</td>\n",
              "      <td>1.0</td>\n",
              "    </tr>\n",
              "    <tr>\n",
              "      <th>76</th>\n",
              "      <td>г около час прийти указанный офис намерение по...</td>\n",
              "      <td>1.0</td>\n",
              "    </tr>\n",
              "    <tr>\n",
              "      <th>85</th>\n",
              "      <td>оплата коммунальный платёж пользоваться пласти...</td>\n",
              "      <td>1.0</td>\n",
              "    </tr>\n",
              "    <tr>\n",
              "      <th>94</th>\n",
              "      <td>апрель год прийти отделение сбербанк г чапаевс...</td>\n",
              "      <td>1.0</td>\n",
              "    </tr>\n",
              "  </tbody>\n",
              "</table>\n",
              "</div>\n",
              "      <button class=\"colab-df-convert\" onclick=\"convertToInteractive('df-f1ee236d-d56a-47eb-be0c-5afff51e5b13')\"\n",
              "              title=\"Convert this dataframe to an interactive table.\"\n",
              "              style=\"display:none;\">\n",
              "        \n",
              "  <svg xmlns=\"http://www.w3.org/2000/svg\" height=\"24px\"viewBox=\"0 0 24 24\"\n",
              "       width=\"24px\">\n",
              "    <path d=\"M0 0h24v24H0V0z\" fill=\"none\"/>\n",
              "    <path d=\"M18.56 5.44l.94 2.06.94-2.06 2.06-.94-2.06-.94-.94-2.06-.94 2.06-2.06.94zm-11 1L8.5 8.5l.94-2.06 2.06-.94-2.06-.94L8.5 2.5l-.94 2.06-2.06.94zm10 10l.94 2.06.94-2.06 2.06-.94-2.06-.94-.94-2.06-.94 2.06-2.06.94z\"/><path d=\"M17.41 7.96l-1.37-1.37c-.4-.4-.92-.59-1.43-.59-.52 0-1.04.2-1.43.59L10.3 9.45l-7.72 7.72c-.78.78-.78 2.05 0 2.83L4 21.41c.39.39.9.59 1.41.59.51 0 1.02-.2 1.41-.59l7.78-7.78 2.81-2.81c.8-.78.8-2.07 0-2.86zM5.41 20L4 18.59l7.72-7.72 1.47 1.35L5.41 20z\"/>\n",
              "  </svg>\n",
              "      </button>\n",
              "      \n",
              "  <style>\n",
              "    .colab-df-container {\n",
              "      display:flex;\n",
              "      flex-wrap:wrap;\n",
              "      gap: 12px;\n",
              "    }\n",
              "\n",
              "    .colab-df-convert {\n",
              "      background-color: #E8F0FE;\n",
              "      border: none;\n",
              "      border-radius: 50%;\n",
              "      cursor: pointer;\n",
              "      display: none;\n",
              "      fill: #1967D2;\n",
              "      height: 32px;\n",
              "      padding: 0 0 0 0;\n",
              "      width: 32px;\n",
              "    }\n",
              "\n",
              "    .colab-df-convert:hover {\n",
              "      background-color: #E2EBFA;\n",
              "      box-shadow: 0px 1px 2px rgba(60, 64, 67, 0.3), 0px 1px 3px 1px rgba(60, 64, 67, 0.15);\n",
              "      fill: #174EA6;\n",
              "    }\n",
              "\n",
              "    [theme=dark] .colab-df-convert {\n",
              "      background-color: #3B4455;\n",
              "      fill: #D2E3FC;\n",
              "    }\n",
              "\n",
              "    [theme=dark] .colab-df-convert:hover {\n",
              "      background-color: #434B5C;\n",
              "      box-shadow: 0px 1px 3px 1px rgba(0, 0, 0, 0.15);\n",
              "      filter: drop-shadow(0px 1px 2px rgba(0, 0, 0, 0.3));\n",
              "      fill: #FFFFFF;\n",
              "    }\n",
              "  </style>\n",
              "\n",
              "      <script>\n",
              "        const buttonEl =\n",
              "          document.querySelector('#df-f1ee236d-d56a-47eb-be0c-5afff51e5b13 button.colab-df-convert');\n",
              "        buttonEl.style.display =\n",
              "          google.colab.kernel.accessAllowed ? 'block' : 'none';\n",
              "\n",
              "        async function convertToInteractive(key) {\n",
              "          const element = document.querySelector('#df-f1ee236d-d56a-47eb-be0c-5afff51e5b13');\n",
              "          const dataTable =\n",
              "            await google.colab.kernel.invokeFunction('convertToInteractive',\n",
              "                                                     [key], {});\n",
              "          if (!dataTable) return;\n",
              "\n",
              "          const docLinkHtml = 'Like what you see? Visit the ' +\n",
              "            '<a target=\"_blank\" href=https://colab.research.google.com/notebooks/data_table.ipynb>data table notebook</a>'\n",
              "            + ' to learn more about interactive tables.';\n",
              "          element.innerHTML = '';\n",
              "          dataTable['output_type'] = 'display_data';\n",
              "          await google.colab.output.renderOutput(dataTable, element);\n",
              "          const docLink = document.createElement('div');\n",
              "          docLink.innerHTML = docLinkHtml;\n",
              "          element.appendChild(docLink);\n",
              "        }\n",
              "      </script>\n",
              "    </div>\n",
              "  </div>\n",
              "  "
            ]
          },
          "metadata": {},
          "execution_count": 88
        }
      ]
    },
    {
      "cell_type": "code",
      "source": [
        "# создадим векторизатор для разбивки отриц.отзывов на униграммы\n",
        "negative_response_unigrams = TfidfVectorizer() # параметр ngram_range можно не задавать. По умолчанию - униграммы (1,1)"
      ],
      "metadata": {
        "id": "b3Wsw-TvR7Xw"
      },
      "execution_count": null,
      "outputs": []
    },
    {
      "cell_type": "code",
      "source": [
        "# сформируем \"мешок слов\" с униграммами для отриц.отзывов\n",
        "bow_negative_unigrams = negative_response_unigrams.fit_transform(df_negative_responses.text)"
      ],
      "metadata": {
        "id": "Xvr0ie3dR7MU"
      },
      "execution_count": null,
      "outputs": []
    },
    {
      "cell_type": "code",
      "source": [
        "terms = negative_response_unigrams.get_feature_names_out()\n",
        "\n",
        "# суммируем меру tf-idf каждого слова в \"мешке слов\"\n",
        "sums = bow_negative_unigrams.sum(axis=0)\n",
        "\n",
        "# объединяем каждое слово и его tf-idf, сортируем по убыванию\n",
        "data = []\n",
        "for col, term in enumerate(terms):\n",
        "    data.append((term, sums[0, col]))\n",
        "\n",
        "ranking = pd.DataFrame(data, columns=['Слово(униграмма)','Ранг по tf-idf'])\n",
        "ranking = ranking.sort_values('Ранг по tf-idf', ascending=False)\n",
        "ranking[:15]"
      ],
      "metadata": {
        "colab": {
          "base_uri": "https://localhost:8080/",
          "height": 520
        },
        "id": "RrNnS4oQR7B2",
        "outputId": "c5adeac4-8012-45d8-ff0a-8d16e2995e56"
      },
      "execution_count": null,
      "outputs": [
        {
          "output_type": "execute_result",
          "data": {
            "text/plain": [
              "      Слово(униграмма)  Ранг по tf-idf\n",
              "2177              банк     3687.049242\n",
              "17042            карта     2882.469849\n",
              "9980            деньга     1852.904103\n",
              "19208           кредит     1616.473695\n",
              "30770        отделение     1533.740422\n",
              "9979              день     1531.045923\n",
              "48523             счёт     1387.425495\n",
              "14590        заявление     1341.214229\n",
              "46818        сотрудник     1322.408247\n",
              "6749               всё     1312.442526\n",
              "45241          сказать     1215.889359\n",
              "17633           клиент     1180.612386\n",
              "2228          банкомат     1159.188708\n",
              "48214            сумма     1150.732632\n",
              "5462             вклад     1055.210360"
            ],
            "text/html": [
              "\n",
              "  <div id=\"df-5e9885c6-b615-4493-ba7f-a635e071405e\">\n",
              "    <div class=\"colab-df-container\">\n",
              "      <div>\n",
              "<style scoped>\n",
              "    .dataframe tbody tr th:only-of-type {\n",
              "        vertical-align: middle;\n",
              "    }\n",
              "\n",
              "    .dataframe tbody tr th {\n",
              "        vertical-align: top;\n",
              "    }\n",
              "\n",
              "    .dataframe thead th {\n",
              "        text-align: right;\n",
              "    }\n",
              "</style>\n",
              "<table border=\"1\" class=\"dataframe\">\n",
              "  <thead>\n",
              "    <tr style=\"text-align: right;\">\n",
              "      <th></th>\n",
              "      <th>Слово(униграмма)</th>\n",
              "      <th>Ранг по tf-idf</th>\n",
              "    </tr>\n",
              "  </thead>\n",
              "  <tbody>\n",
              "    <tr>\n",
              "      <th>2177</th>\n",
              "      <td>банк</td>\n",
              "      <td>3687.049242</td>\n",
              "    </tr>\n",
              "    <tr>\n",
              "      <th>17042</th>\n",
              "      <td>карта</td>\n",
              "      <td>2882.469849</td>\n",
              "    </tr>\n",
              "    <tr>\n",
              "      <th>9980</th>\n",
              "      <td>деньга</td>\n",
              "      <td>1852.904103</td>\n",
              "    </tr>\n",
              "    <tr>\n",
              "      <th>19208</th>\n",
              "      <td>кредит</td>\n",
              "      <td>1616.473695</td>\n",
              "    </tr>\n",
              "    <tr>\n",
              "      <th>30770</th>\n",
              "      <td>отделение</td>\n",
              "      <td>1533.740422</td>\n",
              "    </tr>\n",
              "    <tr>\n",
              "      <th>9979</th>\n",
              "      <td>день</td>\n",
              "      <td>1531.045923</td>\n",
              "    </tr>\n",
              "    <tr>\n",
              "      <th>48523</th>\n",
              "      <td>счёт</td>\n",
              "      <td>1387.425495</td>\n",
              "    </tr>\n",
              "    <tr>\n",
              "      <th>14590</th>\n",
              "      <td>заявление</td>\n",
              "      <td>1341.214229</td>\n",
              "    </tr>\n",
              "    <tr>\n",
              "      <th>46818</th>\n",
              "      <td>сотрудник</td>\n",
              "      <td>1322.408247</td>\n",
              "    </tr>\n",
              "    <tr>\n",
              "      <th>6749</th>\n",
              "      <td>всё</td>\n",
              "      <td>1312.442526</td>\n",
              "    </tr>\n",
              "    <tr>\n",
              "      <th>45241</th>\n",
              "      <td>сказать</td>\n",
              "      <td>1215.889359</td>\n",
              "    </tr>\n",
              "    <tr>\n",
              "      <th>17633</th>\n",
              "      <td>клиент</td>\n",
              "      <td>1180.612386</td>\n",
              "    </tr>\n",
              "    <tr>\n",
              "      <th>2228</th>\n",
              "      <td>банкомат</td>\n",
              "      <td>1159.188708</td>\n",
              "    </tr>\n",
              "    <tr>\n",
              "      <th>48214</th>\n",
              "      <td>сумма</td>\n",
              "      <td>1150.732632</td>\n",
              "    </tr>\n",
              "    <tr>\n",
              "      <th>5462</th>\n",
              "      <td>вклад</td>\n",
              "      <td>1055.210360</td>\n",
              "    </tr>\n",
              "  </tbody>\n",
              "</table>\n",
              "</div>\n",
              "      <button class=\"colab-df-convert\" onclick=\"convertToInteractive('df-5e9885c6-b615-4493-ba7f-a635e071405e')\"\n",
              "              title=\"Convert this dataframe to an interactive table.\"\n",
              "              style=\"display:none;\">\n",
              "        \n",
              "  <svg xmlns=\"http://www.w3.org/2000/svg\" height=\"24px\"viewBox=\"0 0 24 24\"\n",
              "       width=\"24px\">\n",
              "    <path d=\"M0 0h24v24H0V0z\" fill=\"none\"/>\n",
              "    <path d=\"M18.56 5.44l.94 2.06.94-2.06 2.06-.94-2.06-.94-.94-2.06-.94 2.06-2.06.94zm-11 1L8.5 8.5l.94-2.06 2.06-.94-2.06-.94L8.5 2.5l-.94 2.06-2.06.94zm10 10l.94 2.06.94-2.06 2.06-.94-2.06-.94-.94-2.06-.94 2.06-2.06.94z\"/><path d=\"M17.41 7.96l-1.37-1.37c-.4-.4-.92-.59-1.43-.59-.52 0-1.04.2-1.43.59L10.3 9.45l-7.72 7.72c-.78.78-.78 2.05 0 2.83L4 21.41c.39.39.9.59 1.41.59.51 0 1.02-.2 1.41-.59l7.78-7.78 2.81-2.81c.8-.78.8-2.07 0-2.86zM5.41 20L4 18.59l7.72-7.72 1.47 1.35L5.41 20z\"/>\n",
              "  </svg>\n",
              "      </button>\n",
              "      \n",
              "  <style>\n",
              "    .colab-df-container {\n",
              "      display:flex;\n",
              "      flex-wrap:wrap;\n",
              "      gap: 12px;\n",
              "    }\n",
              "\n",
              "    .colab-df-convert {\n",
              "      background-color: #E8F0FE;\n",
              "      border: none;\n",
              "      border-radius: 50%;\n",
              "      cursor: pointer;\n",
              "      display: none;\n",
              "      fill: #1967D2;\n",
              "      height: 32px;\n",
              "      padding: 0 0 0 0;\n",
              "      width: 32px;\n",
              "    }\n",
              "\n",
              "    .colab-df-convert:hover {\n",
              "      background-color: #E2EBFA;\n",
              "      box-shadow: 0px 1px 2px rgba(60, 64, 67, 0.3), 0px 1px 3px 1px rgba(60, 64, 67, 0.15);\n",
              "      fill: #174EA6;\n",
              "    }\n",
              "\n",
              "    [theme=dark] .colab-df-convert {\n",
              "      background-color: #3B4455;\n",
              "      fill: #D2E3FC;\n",
              "    }\n",
              "\n",
              "    [theme=dark] .colab-df-convert:hover {\n",
              "      background-color: #434B5C;\n",
              "      box-shadow: 0px 1px 3px 1px rgba(0, 0, 0, 0.15);\n",
              "      filter: drop-shadow(0px 1px 2px rgba(0, 0, 0, 0.3));\n",
              "      fill: #FFFFFF;\n",
              "    }\n",
              "  </style>\n",
              "\n",
              "      <script>\n",
              "        const buttonEl =\n",
              "          document.querySelector('#df-5e9885c6-b615-4493-ba7f-a635e071405e button.colab-df-convert');\n",
              "        buttonEl.style.display =\n",
              "          google.colab.kernel.accessAllowed ? 'block' : 'none';\n",
              "\n",
              "        async function convertToInteractive(key) {\n",
              "          const element = document.querySelector('#df-5e9885c6-b615-4493-ba7f-a635e071405e');\n",
              "          const dataTable =\n",
              "            await google.colab.kernel.invokeFunction('convertToInteractive',\n",
              "                                                     [key], {});\n",
              "          if (!dataTable) return;\n",
              "\n",
              "          const docLinkHtml = 'Like what you see? Visit the ' +\n",
              "            '<a target=\"_blank\" href=https://colab.research.google.com/notebooks/data_table.ipynb>data table notebook</a>'\n",
              "            + ' to learn more about interactive tables.';\n",
              "          element.innerHTML = '';\n",
              "          dataTable['output_type'] = 'display_data';\n",
              "          await google.colab.output.renderOutput(dataTable, element);\n",
              "          const docLink = document.createElement('div');\n",
              "          docLink.innerHTML = docLinkHtml;\n",
              "          element.appendChild(docLink);\n",
              "        }\n",
              "      </script>\n",
              "    </div>\n",
              "  </div>\n",
              "  "
            ]
          },
          "metadata": {},
          "execution_count": 115
        }
      ]
    },
    {
      "cell_type": "code",
      "source": [
        "# Теперь разобьём отрицательные отзывы на биграммы. Создадим векторизатор для разбивки на биграммы\n",
        "negative_response_bigrams = TfidfVectorizer(ngram_range=(2, 2))"
      ],
      "metadata": {
        "id": "IacC_Q_OSpAd"
      },
      "execution_count": null,
      "outputs": []
    },
    {
      "cell_type": "code",
      "source": [
        "# сформируем \"мешок слов\" с биграммами для отриц.отзывов\n",
        "bow_negative_bigrams = negative_response_bigrams.fit_transform(df_negative_responses.text)"
      ],
      "metadata": {
        "id": "ZNlmd_lMSo48"
      },
      "execution_count": null,
      "outputs": []
    },
    {
      "cell_type": "code",
      "source": [
        "terms = negative_response_bigrams.get_feature_names_out()\n",
        "\n",
        "# суммируем меру tf-idf каждой биграммы в \"мешке слов\"\n",
        "sums = bow_negative_bigrams.sum(axis=0)\n",
        "\n",
        "# объединяем каждую биграмму и её tf-idf, сортируем по убыванию\n",
        "data = []\n",
        "for col, term in enumerate(terms):\n",
        "    data.append((term, sums[0, col]))\n",
        "\n",
        "ranking = pd.DataFrame(data, columns=['Биграмма','Ранг по tf-idf'])\n",
        "ranking = ranking.sort_values('Ранг по tf-idf', ascending=False)\n",
        "ranking[:15]"
      ],
      "metadata": {
        "colab": {
          "base_uri": "https://localhost:8080/",
          "height": 520
        },
        "id": "w3JHszgcSoyo",
        "outputId": "60bb1c55-ce5a-4d40-ae71-64023c1fd95c"
      },
      "execution_count": null,
      "outputs": [
        {
          "output_type": "execute_result",
          "data": {
            "text/plain": [
              "                   Биграмма  Ранг по tf-idf\n",
              "1781544      сотрудник банк      317.620508\n",
              "708932      кредитный карта      261.758262\n",
              "348500    денежный средство      253.068538\n",
              "1097422      отделение банк      249.661959\n",
              "855053   написать заявление      242.413834\n",
              "298748        горячий линия      217.022920\n",
              "115006             ваш банк      179.882282\n",
              "667710           колл центр      178.730245\n",
              "1542741        рабочий день      175.409563\n",
              "25787            альфа банк      172.231918\n",
              "590875        интернет банк      170.478075\n",
              "654178          клиент банк      164.868096\n",
              "1722688    служба поддержка      162.426436\n",
              "373546          добрый день      150.525136\n",
              "1715112      следующий день      143.817500"
            ],
            "text/html": [
              "\n",
              "  <div id=\"df-d8da5288-d574-46fc-88dc-5e680e140041\">\n",
              "    <div class=\"colab-df-container\">\n",
              "      <div>\n",
              "<style scoped>\n",
              "    .dataframe tbody tr th:only-of-type {\n",
              "        vertical-align: middle;\n",
              "    }\n",
              "\n",
              "    .dataframe tbody tr th {\n",
              "        vertical-align: top;\n",
              "    }\n",
              "\n",
              "    .dataframe thead th {\n",
              "        text-align: right;\n",
              "    }\n",
              "</style>\n",
              "<table border=\"1\" class=\"dataframe\">\n",
              "  <thead>\n",
              "    <tr style=\"text-align: right;\">\n",
              "      <th></th>\n",
              "      <th>Биграмма</th>\n",
              "      <th>Ранг по tf-idf</th>\n",
              "    </tr>\n",
              "  </thead>\n",
              "  <tbody>\n",
              "    <tr>\n",
              "      <th>1781544</th>\n",
              "      <td>сотрудник банк</td>\n",
              "      <td>317.620508</td>\n",
              "    </tr>\n",
              "    <tr>\n",
              "      <th>708932</th>\n",
              "      <td>кредитный карта</td>\n",
              "      <td>261.758262</td>\n",
              "    </tr>\n",
              "    <tr>\n",
              "      <th>348500</th>\n",
              "      <td>денежный средство</td>\n",
              "      <td>253.068538</td>\n",
              "    </tr>\n",
              "    <tr>\n",
              "      <th>1097422</th>\n",
              "      <td>отделение банк</td>\n",
              "      <td>249.661959</td>\n",
              "    </tr>\n",
              "    <tr>\n",
              "      <th>855053</th>\n",
              "      <td>написать заявление</td>\n",
              "      <td>242.413834</td>\n",
              "    </tr>\n",
              "    <tr>\n",
              "      <th>298748</th>\n",
              "      <td>горячий линия</td>\n",
              "      <td>217.022920</td>\n",
              "    </tr>\n",
              "    <tr>\n",
              "      <th>115006</th>\n",
              "      <td>ваш банк</td>\n",
              "      <td>179.882282</td>\n",
              "    </tr>\n",
              "    <tr>\n",
              "      <th>667710</th>\n",
              "      <td>колл центр</td>\n",
              "      <td>178.730245</td>\n",
              "    </tr>\n",
              "    <tr>\n",
              "      <th>1542741</th>\n",
              "      <td>рабочий день</td>\n",
              "      <td>175.409563</td>\n",
              "    </tr>\n",
              "    <tr>\n",
              "      <th>25787</th>\n",
              "      <td>альфа банк</td>\n",
              "      <td>172.231918</td>\n",
              "    </tr>\n",
              "    <tr>\n",
              "      <th>590875</th>\n",
              "      <td>интернет банк</td>\n",
              "      <td>170.478075</td>\n",
              "    </tr>\n",
              "    <tr>\n",
              "      <th>654178</th>\n",
              "      <td>клиент банк</td>\n",
              "      <td>164.868096</td>\n",
              "    </tr>\n",
              "    <tr>\n",
              "      <th>1722688</th>\n",
              "      <td>служба поддержка</td>\n",
              "      <td>162.426436</td>\n",
              "    </tr>\n",
              "    <tr>\n",
              "      <th>373546</th>\n",
              "      <td>добрый день</td>\n",
              "      <td>150.525136</td>\n",
              "    </tr>\n",
              "    <tr>\n",
              "      <th>1715112</th>\n",
              "      <td>следующий день</td>\n",
              "      <td>143.817500</td>\n",
              "    </tr>\n",
              "  </tbody>\n",
              "</table>\n",
              "</div>\n",
              "      <button class=\"colab-df-convert\" onclick=\"convertToInteractive('df-d8da5288-d574-46fc-88dc-5e680e140041')\"\n",
              "              title=\"Convert this dataframe to an interactive table.\"\n",
              "              style=\"display:none;\">\n",
              "        \n",
              "  <svg xmlns=\"http://www.w3.org/2000/svg\" height=\"24px\"viewBox=\"0 0 24 24\"\n",
              "       width=\"24px\">\n",
              "    <path d=\"M0 0h24v24H0V0z\" fill=\"none\"/>\n",
              "    <path d=\"M18.56 5.44l.94 2.06.94-2.06 2.06-.94-2.06-.94-.94-2.06-.94 2.06-2.06.94zm-11 1L8.5 8.5l.94-2.06 2.06-.94-2.06-.94L8.5 2.5l-.94 2.06-2.06.94zm10 10l.94 2.06.94-2.06 2.06-.94-2.06-.94-.94-2.06-.94 2.06-2.06.94z\"/><path d=\"M17.41 7.96l-1.37-1.37c-.4-.4-.92-.59-1.43-.59-.52 0-1.04.2-1.43.59L10.3 9.45l-7.72 7.72c-.78.78-.78 2.05 0 2.83L4 21.41c.39.39.9.59 1.41.59.51 0 1.02-.2 1.41-.59l7.78-7.78 2.81-2.81c.8-.78.8-2.07 0-2.86zM5.41 20L4 18.59l7.72-7.72 1.47 1.35L5.41 20z\"/>\n",
              "  </svg>\n",
              "      </button>\n",
              "      \n",
              "  <style>\n",
              "    .colab-df-container {\n",
              "      display:flex;\n",
              "      flex-wrap:wrap;\n",
              "      gap: 12px;\n",
              "    }\n",
              "\n",
              "    .colab-df-convert {\n",
              "      background-color: #E8F0FE;\n",
              "      border: none;\n",
              "      border-radius: 50%;\n",
              "      cursor: pointer;\n",
              "      display: none;\n",
              "      fill: #1967D2;\n",
              "      height: 32px;\n",
              "      padding: 0 0 0 0;\n",
              "      width: 32px;\n",
              "    }\n",
              "\n",
              "    .colab-df-convert:hover {\n",
              "      background-color: #E2EBFA;\n",
              "      box-shadow: 0px 1px 2px rgba(60, 64, 67, 0.3), 0px 1px 3px 1px rgba(60, 64, 67, 0.15);\n",
              "      fill: #174EA6;\n",
              "    }\n",
              "\n",
              "    [theme=dark] .colab-df-convert {\n",
              "      background-color: #3B4455;\n",
              "      fill: #D2E3FC;\n",
              "    }\n",
              "\n",
              "    [theme=dark] .colab-df-convert:hover {\n",
              "      background-color: #434B5C;\n",
              "      box-shadow: 0px 1px 3px 1px rgba(0, 0, 0, 0.15);\n",
              "      filter: drop-shadow(0px 1px 2px rgba(0, 0, 0, 0.3));\n",
              "      fill: #FFFFFF;\n",
              "    }\n",
              "  </style>\n",
              "\n",
              "      <script>\n",
              "        const buttonEl =\n",
              "          document.querySelector('#df-d8da5288-d574-46fc-88dc-5e680e140041 button.colab-df-convert');\n",
              "        buttonEl.style.display =\n",
              "          google.colab.kernel.accessAllowed ? 'block' : 'none';\n",
              "\n",
              "        async function convertToInteractive(key) {\n",
              "          const element = document.querySelector('#df-d8da5288-d574-46fc-88dc-5e680e140041');\n",
              "          const dataTable =\n",
              "            await google.colab.kernel.invokeFunction('convertToInteractive',\n",
              "                                                     [key], {});\n",
              "          if (!dataTable) return;\n",
              "\n",
              "          const docLinkHtml = 'Like what you see? Visit the ' +\n",
              "            '<a target=\"_blank\" href=https://colab.research.google.com/notebooks/data_table.ipynb>data table notebook</a>'\n",
              "            + ' to learn more about interactive tables.';\n",
              "          element.innerHTML = '';\n",
              "          dataTable['output_type'] = 'display_data';\n",
              "          await google.colab.output.renderOutput(dataTable, element);\n",
              "          const docLink = document.createElement('div');\n",
              "          docLink.innerHTML = docLinkHtml;\n",
              "          element.appendChild(docLink);\n",
              "        }\n",
              "      </script>\n",
              "    </div>\n",
              "  </div>\n",
              "  "
            ]
          },
          "metadata": {},
          "execution_count": 118
        }
      ]
    },
    {
      "cell_type": "markdown",
      "source": [
        "Часть 2. Тематическое моделирование.\n",
        "\n",
        "а) Постройте несколько тематических моделей коллекции документов с разным числом тем. Приведите примеры понятных (интерпретируемых) тем."
      ],
      "metadata": {
        "id": "L7eiICh9Kqbm"
      }
    },
    {
      "cell_type": "code",
      "source": [
        "# Воспользуемся мерами tf-idf и косинусной близости векторов tf-idf\n",
        "from gensim.corpora import Dictionary\n",
        "from gensim.models import TfidfModel\n",
        "from gensim import similarities"
      ],
      "metadata": {
        "id": "Kb3eJ7KNSom5"
      },
      "execution_count": null,
      "outputs": []
    },
    {
      "cell_type": "code",
      "source": [
        "# Тематическое моделирование сделаем на основании корпуса лемм, сформированного в 1-ой части ДЗ (подвыборка из 15000 позиций).\n",
        "texts = [text.split() for text in response_lemmas]\n",
        "dictionary = Dictionary(texts)\n",
        "corpus = [dictionary.doc2bow(text) for text in texts]"
      ],
      "metadata": {
        "id": "JnY6kjEeSojZ"
      },
      "execution_count": null,
      "outputs": []
    },
    {
      "cell_type": "code",
      "source": [
        "len(corpus)"
      ],
      "metadata": {
        "colab": {
          "base_uri": "https://localhost:8080/"
        },
        "id": "OXIqm8nmb1cg",
        "outputId": "73a2a125-540c-48ce-ba10-22af29519883"
      },
      "execution_count": null,
      "outputs": [
        {
          "output_type": "execute_result",
          "data": {
            "text/plain": [
              "15000"
            ]
          },
          "metadata": {},
          "execution_count": 42
        }
      ]
    },
    {
      "cell_type": "code",
      "source": [
        "# создадим модель tf-idf на основании корпуса\n",
        "tfidf = TfidfModel(corpus)\n",
        "corpus_tfidf = tfidf[corpus]"
      ],
      "metadata": {
        "id": "HevyIKoXb1SV"
      },
      "execution_count": null,
      "outputs": []
    },
    {
      "cell_type": "code",
      "source": [
        "# рассчитаем косинусную близость между векторами tf-idf\n",
        "index = similarities.MatrixSimilarity(corpus_tfidf)\n",
        "sims = index[corpus_tfidf]"
      ],
      "metadata": {
        "id": "LHYqJrhmb1Ge"
      },
      "execution_count": null,
      "outputs": []
    },
    {
      "cell_type": "code",
      "source": [
        "# содержательный анализ тем проведем с использованием модели LSI (латентно-семантического анализа) из библиотеки Gensim\n",
        "from gensim.models import lsimodel"
      ],
      "metadata": {
        "id": "cAhhixP7gfGp"
      },
      "execution_count": null,
      "outputs": []
    },
    {
      "cell_type": "code",
      "source": [
        "# сперва попробуем взять 10 тем\n",
        "%%time\n",
        "lsi = lsimodel.LsiModel(corpus=corpus_tfidf, id2word=dictionary, num_topics=10)"
      ],
      "metadata": {
        "colab": {
          "base_uri": "https://localhost:8080/"
        },
        "id": "Z32u3HiChaJT",
        "outputId": "e72faf19-9226-42ce-f411-cb474520a448"
      },
      "execution_count": null,
      "outputs": [
        {
          "output_type": "stream",
          "name": "stdout",
          "text": [
            "CPU times: user 13.3 s, sys: 781 ms, total: 14 s\n",
            "Wall time: 15.8 s\n"
          ]
        }
      ]
    },
    {
      "cell_type": "code",
      "source": [
        "lsi.show_topics()"
      ],
      "metadata": {
        "colab": {
          "base_uri": "https://localhost:8080/"
        },
        "id": "9I3UmGMCiExh",
        "outputId": "f947c25a-6611-4b68-8e27-6b77183c1076"
      },
      "execution_count": null,
      "outputs": [
        {
          "output_type": "execute_result",
          "data": {
            "text/plain": [
              "[(0,\n",
              "  '0.192*\"карта\" + 0.136*\"кредит\" + 0.117*\"деньга\" + 0.111*\"вклад\" + 0.109*\"заявление\" + 0.107*\"счёт\" + 0.102*\"сумма\" + 0.099*\"отделение\" + 0.098*\"сотрудник\" + 0.097*\"номер\"'),\n",
              " (1,\n",
              "  '-0.246*\"звонок\" + -0.233*\"номер\" + 0.211*\"вклад\" + 0.208*\"карта\" + -0.188*\"кредит\" + -0.167*\"ваш\" + -0.152*\"персональный\" + -0.150*\"данные\" + -0.145*\"поступать\" + -0.141*\"телефон\"'),\n",
              " (2,\n",
              "  '-0.639*\"вклад\" + 0.211*\"карта\" + 0.161*\"сбербанк\" + 0.161*\"банкомат\" + -0.140*\"ставка\" + -0.140*\"договор\" + -0.131*\"процент\" + -0.119*\"условие\" + -0.117*\"открыть\" + 0.106*\"операция\"'),\n",
              " (3,\n",
              "  '-0.320*\"кредит\" + -0.309*\"страховка\" + 0.263*\"вклад\" + -0.212*\"страхование\" + 0.180*\"номер\" + -0.156*\"погашение\" + -0.153*\"платёж\" + -0.130*\"сумма\" + -0.129*\"досрочный\" + -0.128*\"договор\"'),\n",
              " (4,\n",
              "  '-0.207*\"средство\" + -0.193*\"договор\" + -0.181*\"денежный\" + -0.167*\"вклад\" + -0.153*\"руб\" + 0.144*\"заявка\" + -0.144*\"сумма\" + -0.139*\"комиссия\" + -0.130*\"счёт\" + -0.127*\"г\"'),\n",
              " (5,\n",
              "  '0.309*\"страховка\" + 0.263*\"страхование\" + -0.238*\"платёж\" + 0.213*\"сбербанк\" + -0.171*\"задолженность\" + -0.146*\"просрочка\" + 0.146*\"страховой\" + 0.139*\"заявка\" + 0.131*\"заявление\" + -0.128*\"долг\"'),\n",
              " (6,\n",
              "  '0.362*\"карта\" + 0.245*\"комиссия\" + -0.177*\"банкомат\" + 0.161*\"лимит\" + -0.148*\"заявление\" + 0.145*\"услуга\" + 0.144*\"кредитный\" + -0.141*\"вклад\" + -0.140*\"терминал\" + -0.137*\"деньга\"'),\n",
              " (7,\n",
              "  '-0.521*\"банкомат\" + -0.169*\"страховка\" + -0.160*\"деньга\" + -0.156*\"купюра\" + 0.143*\"кошелёк\" + 0.135*\"сбербанк\" + -0.118*\"комиссия\" + -0.112*\"чек\" + -0.110*\"руб\" + 0.108*\"киви\"'),\n",
              " (8,\n",
              "  '0.278*\"карта\" + -0.245*\"кошелёк\" + -0.208*\"комиссия\" + 0.202*\"сбербанк\" + -0.197*\"киви\" + -0.187*\"перевод\" + -0.180*\"страховка\" + 0.166*\"заявление\" + 0.143*\"отделение\" + -0.132*\"страхование\"'),\n",
              " (9,\n",
              "  '0.267*\"кошелёк\" + -0.227*\"банкомат\" + 0.222*\"киви\" + 0.193*\"платёж\" + 0.150*\"заявка\" + 0.145*\"адресовать\" + 0.137*\"обработка\" + 0.135*\"копия\" + 0.127*\"проделать\" + 0.123*\"мероприятие\"')]"
            ]
          },
          "metadata": {},
          "execution_count": 47
        }
      ]
    },
    {
      "cell_type": "markdown",
      "source": [
        "На основании модели LSI с использованием 10-и тем можно сделать вывод, что в целом вопросы касаются кредитных карт, страхования вкладов и задолженности, работы банкоматов. Пример: 9,\n",
        "  '-0.266*\"кошелёк\" + 0.230*\"банкомат\" + -0.225*\"киви\" + -0.183*\"платёж\" + -0.146*\"адресовать\" + -0.145*\"заявка\" + -0.139*\"обработка\" + -0.137*\"копия\" + -0.129*\"проделать\" + -0.124*\"мероприятие\"')] - По всей видимости, отзыв касался  зачисления платежа в кошелек Киви через банкомат."
      ],
      "metadata": {
        "id": "tpJbOSNljZA7"
      }
    },
    {
      "cell_type": "code",
      "source": [
        "# теперь попробуем взять 50 тем\n",
        "%%time\n",
        "lsi = lsimodel.LsiModel(corpus=corpus_tfidf, id2word=dictionary, num_topics=50)"
      ],
      "metadata": {
        "colab": {
          "base_uri": "https://localhost:8080/"
        },
        "id": "8msm8toBiEjX",
        "outputId": "764e945e-652e-440a-faa4-9ec7bb4903c5"
      },
      "execution_count": null,
      "outputs": [
        {
          "output_type": "stream",
          "name": "stdout",
          "text": [
            "CPU times: user 13.1 s, sys: 774 ms, total: 13.9 s\n",
            "Wall time: 11.1 s\n"
          ]
        }
      ]
    },
    {
      "cell_type": "code",
      "source": [
        "lsi.show_topics()"
      ],
      "metadata": {
        "colab": {
          "base_uri": "https://localhost:8080/"
        },
        "outputId": "7a79ce20-6ecb-4f24-f07d-7e60f4878d9c",
        "id": "1Jb3QLwalZSR"
      },
      "execution_count": null,
      "outputs": [
        {
          "output_type": "execute_result",
          "data": {
            "text/plain": [
              "[(0,\n",
              "  '0.192*\"карта\" + 0.136*\"кредит\" + 0.117*\"деньга\" + 0.111*\"вклад\" + 0.109*\"заявление\" + 0.107*\"счёт\" + 0.102*\"сумма\" + 0.099*\"отделение\" + 0.098*\"сотрудник\" + 0.097*\"номер\"'),\n",
              " (1,\n",
              "  '0.245*\"звонок\" + 0.233*\"номер\" + -0.211*\"вклад\" + -0.208*\"карта\" + 0.188*\"кредит\" + 0.167*\"ваш\" + 0.152*\"персональный\" + 0.149*\"данные\" + 0.145*\"поступать\" + 0.142*\"телефон\"'),\n",
              " (2,\n",
              "  '-0.639*\"вклад\" + 0.211*\"карта\" + 0.162*\"сбербанк\" + 0.162*\"банкомат\" + -0.141*\"ставка\" + -0.140*\"договор\" + -0.130*\"процент\" + -0.119*\"условие\" + -0.116*\"открыть\" + 0.106*\"операция\"'),\n",
              " (3,\n",
              "  '0.320*\"кредит\" + 0.308*\"страховка\" + -0.265*\"вклад\" + 0.213*\"страхование\" + -0.180*\"номер\" + 0.156*\"погашение\" + 0.153*\"платёж\" + 0.130*\"сумма\" + 0.129*\"досрочный\" + 0.128*\"договор\"'),\n",
              " (4,\n",
              "  '0.206*\"средство\" + 0.192*\"договор\" + 0.180*\"денежный\" + 0.168*\"вклад\" + 0.152*\"руб\" + -0.147*\"заявка\" + 0.145*\"сумма\" + 0.139*\"комиссия\" + 0.132*\"счёт\" + 0.130*\"г\"'),\n",
              " (5,\n",
              "  '0.307*\"страховка\" + 0.268*\"страхование\" + -0.236*\"платёж\" + 0.214*\"сбербанк\" + -0.172*\"задолженность\" + -0.147*\"просрочка\" + 0.142*\"страховой\" + 0.140*\"заявка\" + 0.131*\"заявление\" + -0.128*\"долг\"'),\n",
              " (6,\n",
              "  '0.359*\"карта\" + 0.241*\"комиссия\" + -0.174*\"банкомат\" + 0.165*\"лимит\" + 0.146*\"услуга\" + -0.145*\"заявление\" + 0.144*\"кредитный\" + -0.140*\"вклад\" + -0.140*\"деньга\" + -0.137*\"терминал\"'),\n",
              " (7,\n",
              "  '-0.521*\"банкомат\" + -0.169*\"страховка\" + -0.161*\"купюра\" + -0.159*\"деньга\" + 0.145*\"кошелёк\" + 0.133*\"сбербанк\" + -0.116*\"комиссия\" + -0.113*\"чек\" + -0.111*\"руб\" + 0.107*\"киви\"'),\n",
              " (8,\n",
              "  '0.279*\"карта\" + -0.249*\"кошелёк\" + -0.205*\"комиссия\" + -0.202*\"киви\" + 0.197*\"сбербанк\" + -0.183*\"перевод\" + -0.179*\"страховка\" + 0.162*\"заявление\" + 0.140*\"отделение\" + -0.135*\"страхование\"'),\n",
              " (9,\n",
              "  '0.263*\"кошелёк\" + -0.229*\"банкомат\" + 0.221*\"киви\" + 0.187*\"платёж\" + 0.149*\"заявка\" + 0.146*\"адресовать\" + 0.138*\"обработка\" + 0.138*\"копия\" + 0.128*\"проделать\" + 0.124*\"мероприятие\"'),\n",
              " (10,\n",
              "  '0.289*\"вклад\" + 0.234*\"страховка\" + 0.226*\"номер\" + 0.191*\"смс\" + 0.128*\"звонить\" + 0.127*\"деньга\" + -0.126*\"очередь\" + 0.116*\"телефон\" + -0.109*\"документ\" + 0.107*\"страхование\"'),\n",
              " (11,\n",
              "  '0.493*\"сбербанк\" + -0.281*\"заявка\" + -0.196*\"банкомат\" + -0.168*\"кредитный\" + -0.161*\"карта\" + 0.158*\"перевод\" + -0.128*\"рассмотрение\" + -0.128*\"лимит\" + 0.124*\"онлайн\" + 0.113*\"счёт\"'),\n",
              " (12,\n",
              "  '-0.267*\"комиссия\" + 0.216*\"сбербанк\" + 0.189*\"банкомат\" + 0.186*\"карта\" + -0.185*\"счёт\" + -0.179*\"перевод\" + -0.174*\"курс\" + 0.165*\"терминал\" + 0.164*\"кошелёк\" + 0.152*\"платёж\"'),\n",
              " (13,\n",
              "  '0.240*\"услуга\" + 0.210*\"смс\" + 0.188*\"заявка\" + -0.177*\"карта\" + -0.173*\"кошелёк\" + -0.160*\"заявление\" + -0.152*\"деньга\" + -0.151*\"комиссия\" + 0.150*\"операция\" + 0.148*\"платёж\"'),\n",
              " (14,\n",
              "  '0.345*\"курс\" + -0.295*\"перевод\" + -0.286*\"заявка\" + 0.197*\"евро\" + 0.194*\"рубль\" + -0.194*\"сбербанк\" + -0.173*\"кредит\" + -0.164*\"комиссия\" + -0.155*\"средство\" + 0.146*\"валюта\"'),\n",
              " (15,\n",
              "  '-0.317*\"курс\" + -0.282*\"заявка\" + -0.224*\"сбербанк\" + -0.222*\"рубль\" + 0.203*\"услуга\" + -0.190*\"евро\" + 0.180*\"погашение\" + 0.168*\"досрочный\" + 0.154*\"руб\" + 0.152*\"офис\"'),\n",
              " (16,\n",
              "  '0.401*\"руб\" + 0.249*\"комиссия\" + -0.241*\"счёт\" + -0.218*\"альфа\" + 0.217*\"сбербанк\" + 0.214*\"терминал\" + 0.194*\"заявка\" + 0.138*\"г\" + -0.135*\"услуга\" + -0.133*\"деньга\"'),\n",
              " (17,\n",
              "  '0.295*\"терминал\" + -0.258*\"банкомат\" + -0.232*\"погашение\" + -0.224*\"кредит\" + -0.221*\"досрочный\" + 0.206*\"платёж\" + 0.168*\"перевод\" + 0.160*\"страховка\" + -0.155*\"кошелёк\" + -0.148*\"сбербанк\"'),\n",
              " (18,\n",
              "  '-0.226*\"карта\" + 0.213*\"комиссия\" + 0.176*\"смс\" + 0.176*\"руб\" + 0.170*\"услуга\" + -0.169*\"терминал\" + -0.167*\"кредитный\" + -0.163*\"кредит\" + -0.150*\"погашение\" + -0.141*\"средство\"'),\n",
              " (19,\n",
              "  '0.435*\"руб\" + -0.242*\"комиссия\" + -0.221*\"заявление\" + 0.209*\"счёт\" + 0.175*\"альфа\" + 0.172*\"заявка\" + -0.154*\"досрочный\" + -0.154*\"платёж\" + -0.135*\"обращение\" + 0.125*\"документ\"'),\n",
              " (20,\n",
              "  '0.373*\"руб\" + -0.210*\"договор\" + -0.149*\"заявка\" + -0.149*\"платёж\" + -0.140*\"закон\" + 0.129*\"ваш\" + 0.122*\"г\" + -0.112*\"рф\" + 0.109*\"страховка\" + -0.105*\"перевод\"'),\n",
              " (21,\n",
              "  '-0.514*\"альфа\" + -0.319*\"терминал\" + -0.173*\"услуга\" + -0.164*\"кредит\" + -0.161*\"претензия\" + 0.159*\"банкомат\" + 0.152*\"операция\" + -0.143*\"комиссия\" + 0.130*\"страховка\" + 0.129*\"руб\"'),\n",
              " (22,\n",
              "  '-0.376*\"р\" + 0.305*\"руб\" + -0.168*\"средство\" + -0.168*\"денежный\" + -0.139*\"г\" + -0.135*\"смс\" + 0.133*\"персональный\" + 0.131*\"заявление\" + 0.130*\"досрочный\" + 0.127*\"терминал\"'),\n",
              " (23,\n",
              "  '0.382*\"р\" + -0.195*\"курс\" + -0.192*\"услуга\" + -0.177*\"счёт\" + -0.168*\"руб\" + -0.157*\"ваш\" + -0.139*\"евро\" + -0.133*\"банкомат\" + -0.128*\"платёж\" + -0.125*\"перевод\"'),\n",
              " (24,\n",
              "  '-0.267*\"р\" + -0.239*\"кредитный\" + -0.207*\"лимит\" + 0.186*\"досрочный\" + 0.174*\"погашение\" + -0.161*\"договор\" + 0.151*\"карта\" + 0.150*\"денежный\" + -0.149*\"г\" + 0.148*\"заявка\"'),\n",
              " (25,\n",
              "  '-0.299*\"ваш\" + 0.277*\"альфа\" + -0.243*\"терминал\" + -0.221*\"р\" + -0.203*\"заявление\" + 0.194*\"сбербанк\" + 0.166*\"задолженность\" + -0.152*\"кредит\" + 0.132*\"страхование\" + 0.115*\"звонок\"'),\n",
              " (26,\n",
              "  '-0.414*\"счёт\" + 0.310*\"перевод\" + 0.155*\"средство\" + 0.153*\"денежный\" + 0.152*\"кредит\" + 0.144*\"сч\" + -0.144*\"р\" + -0.117*\"сбербанк\" + 0.115*\"альфа\" + -0.108*\"обслуживание\"'),\n",
              " (27,\n",
              "  '-0.367*\"р\" + -0.280*\"альфа\" + 0.198*\"средство\" + 0.177*\"денежный\" + 0.174*\"терминал\" + -0.172*\"платёж\" + 0.163*\"рубль\" + -0.154*\"доверенность\" + 0.150*\"смс\" + -0.130*\"ваш\"'),\n",
              " (28,\n",
              "  '-0.224*\"страховка\" + 0.221*\"договор\" + -0.210*\"задолженность\" + -0.171*\"персональный\" + 0.168*\"документ\" + 0.158*\"ставка\" + -0.143*\"перевод\" + -0.138*\"рубль\" + -0.135*\"данные\" + 0.134*\"покупка\"'),\n",
              " (29,\n",
              "  '-0.205*\"кредитный\" + 0.184*\"страховка\" + 0.180*\"терминал\" + -0.172*\"лимит\" + -0.165*\"деньга\" + 0.148*\"справка\" + -0.145*\"договор\" + -0.133*\"курс\" + -0.132*\"ваш\" + -0.129*\"очередь\"'),\n",
              " (30,\n",
              "  '0.270*\"р\" + -0.207*\"страховка\" + -0.182*\"ваш\" + -0.166*\"платёж\" + 0.159*\"г\" + -0.151*\"выписка\" + 0.147*\"перевод\" + -0.146*\"документ\" + 0.144*\"линия\" + 0.142*\"долг\"'),\n",
              " (31,\n",
              "  '-0.290*\"сч\" + -0.226*\"рубль\" + 0.196*\"альфа\" + 0.179*\"заявление\" + 0.176*\"р\" + 0.164*\"счёт\" + 0.158*\"страховка\" + -0.157*\"услуга\" + 0.152*\"ставка\" + -0.150*\"ваш\"'),\n",
              " (32,\n",
              "  '0.328*\"перевод\" + 0.269*\"ставка\" + -0.201*\"комиссия\" + -0.176*\"доверенность\" + -0.170*\"терминал\" + -0.169*\"линия\" + -0.167*\"горячий\" + -0.133*\"операция\" + -0.132*\"страхование\" + 0.130*\"менеджер\"'),\n",
              " (33,\n",
              "  '-0.247*\"страховка\" + 0.226*\"лимит\" + 0.225*\"страхование\" + -0.191*\"офис\" + -0.189*\"г\" + 0.165*\"ваш\" + -0.161*\"кредит\" + -0.136*\"втб\" + 0.134*\"заявление\" + 0.132*\"купюра\"'),\n",
              " (34,\n",
              "  '-0.264*\"горячий\" + -0.260*\"линия\" + 0.225*\"страхование\" + -0.188*\"страховка\" + 0.172*\"страховой\" + -0.168*\"ваш\" + -0.159*\"офис\" + 0.142*\"р\" + 0.141*\"звонок\" + 0.139*\"очередь\"'),\n",
              " (35,\n",
              "  '-0.242*\"сч\" + 0.232*\"смс\" + -0.191*\"услуга\" + 0.173*\"стандарт\" + 0.170*\"русский\" + 0.139*\"код\" + 0.137*\"доверенность\" + -0.133*\"средство\" + -0.128*\"ставка\" + -0.128*\"лимит\"'),\n",
              " (36,\n",
              "  '-0.267*\"связный\" + 0.201*\"комиссия\" + -0.185*\"офис\" + -0.182*\"рубль\" + 0.152*\"ставка\" + -0.138*\"заявка\" + 0.135*\"втб\" + 0.124*\"списание\" + 0.117*\"деньга\" + 0.110*\"претензия\"'),\n",
              " (37,\n",
              "  '-0.191*\"справка\" + 0.164*\"заявление\" + -0.162*\"ваш\" + 0.162*\"русский\" + 0.161*\"стандарт\" + 0.158*\"сч\" + -0.151*\"организация\" + -0.150*\"альфа\" + -0.124*\"лимит\" + 0.116*\"кредит\"'),\n",
              " (38,\n",
              "  '0.213*\"доверенность\" + -0.189*\"ваш\" + 0.187*\"втб\" + -0.169*\"стандарт\" + 0.160*\"персональный\" + -0.159*\"заявка\" + -0.158*\"русский\" + -0.143*\"центр\" + 0.134*\"горячий\" + 0.132*\"линия\"'),\n",
              " (39,\n",
              "  '0.264*\"сч\" + 0.234*\"договор\" + -0.190*\"втб\" + 0.157*\"реструктуризация\" + -0.156*\"лимит\" + -0.150*\"стандарт\" + -0.149*\"русский\" + 0.147*\"альфа\" + -0.146*\"услуга\" + 0.143*\"офис\"'),\n",
              " (40,\n",
              "  '0.265*\"справка\" + -0.263*\"доверенность\" + -0.251*\"лимит\" + -0.183*\"стандарт\" + -0.177*\"русский\" + 0.172*\"оператор\" + -0.140*\"платёж\" + -0.134*\"поддержка\" + 0.132*\"центр\" + -0.129*\"служба\"'),\n",
              " (41,\n",
              "  '-0.248*\"стандарт\" + -0.247*\"русский\" + 0.222*\"купюра\" + 0.188*\"претензия\" + 0.169*\"офис\" + -0.157*\"отделение\" + 0.154*\"линия\" + -0.153*\"альфа\" + 0.150*\"горячий\" + -0.147*\"справка\"'),\n",
              " (42,\n",
              "  '-0.213*\"подарок\" + 0.198*\"заявление\" + -0.164*\"рубль\" + -0.164*\"письмо\" + -0.156*\"очередь\" + 0.151*\"справка\" + 0.150*\"страховка\" + -0.150*\"горячий\" + -0.147*\"линия\" + 0.143*\"доверенность\"'),\n",
              " (43,\n",
              "  '-0.277*\"справка\" + 0.246*\"доверенность\" + -0.222*\"офис\" + 0.183*\"связный\" + 0.174*\"договор\" + -0.157*\"операция\" + -0.150*\"страхование\" + 0.147*\"ваш\" + -0.145*\"рубль\" + -0.138*\"ставка\"'),\n",
              " (44,\n",
              "  '0.299*\"офис\" + -0.217*\"отделение\" + -0.195*\"горячий\" + -0.193*\"линия\" + -0.167*\"очередь\" + 0.157*\"центр\" + -0.156*\"задолженность\" + -0.146*\"связный\" + 0.143*\"колл\" + 0.139*\"звонить\"'),\n",
              " (45,\n",
              "  '-0.317*\"центр\" + -0.286*\"колл\" + 0.212*\"задолженность\" + 0.210*\"ваш\" + -0.165*\"кредит\" + -0.162*\"отделение\" + 0.149*\"менеджер\" + -0.149*\"депозит\" + -0.125*\"выписка\" + 0.123*\"договор\"'),\n",
              " (46,\n",
              "  '-0.185*\"стандарт\" + 0.184*\"услуга\" + -0.183*\"русский\" + 0.176*\"служба\" + -0.170*\"офис\" + -0.169*\"страховой\" + 0.162*\"отделение\" + 0.152*\"рубль\" + -0.141*\"смс\" + 0.130*\"поддержка\"'),\n",
              " (47,\n",
              "  '-0.318*\"доверенность\" + 0.179*\"платёж\" + -0.171*\"операция\" + -0.170*\"киви\" + 0.163*\"деньга\" + -0.157*\"перевод\" + 0.149*\"служба\" + -0.133*\"оператор\" + -0.120*\"телебанк\" + -0.120*\"платить\"'),\n",
              " (48,\n",
              "  '-0.293*\"ставка\" + -0.224*\"страхование\" + 0.197*\"менеджер\" + 0.194*\"договор\" + -0.168*\"г\" + -0.162*\"пристав\" + 0.146*\"справка\" + -0.144*\"офис\" + -0.132*\"процентный\" + 0.125*\"обращение\"'),\n",
              " (49,\n",
              "  '-0.373*\"справка\" + 0.267*\"выписка\" + -0.253*\"доверенность\" + 0.183*\"процент\" + 0.152*\"терминал\" + -0.150*\"претензия\" + -0.141*\"рубль\" + -0.138*\"ставка\" + 0.135*\"документ\" + 0.126*\"письмо\"')]"
            ]
          },
          "metadata": {},
          "execution_count": 28
        }
      ]
    },
    {
      "cell_type": "markdown",
      "source": [
        "В целом картина не изменилась, но можно сделать вывод, что для качественного тематического моделирования необходима более качественная предобработка корпуса. Например, следует расширить список стоп-слов (добавить в него слова \"р\", \"г\", \"ст\", \"сч\", \"л\", \"ваш\"), т.е. убрать сокращения и слова, не несущие существенной смысловой нагрузки, но усложняющие тематическое моделирование по причине высокой повторяемости в запросах."
      ],
      "metadata": {
        "id": "g0UocmBcmekC"
      }
    },
    {
      "cell_type": "markdown",
      "source": [
        "**б) Найдите темы, в которых упомянуты конкретные банки (Сбербанк, ВТБ, другой банк). Можете ли вы их прокомментировать / объяснить?**"
      ],
      "metadata": {
        "id": "7ERe4K5LHJJr"
      }
    },
    {
      "cell_type": "markdown",
      "source": [
        "Ответ: \n",
        "(2,\n",
        "  '-0.639*\"вклад\" + 0.211*\"карта\" + 0.162*\"сбербанк\" + 0.162*\"банкомат\" + -0.141*\"ставка\" + -0.140*\"договор\" + -0.130*\"процент\" + -0.119*\"условие\" + -0.116*\"открыть\" + 0.106*\"операция\"'). - Тематика: Работа со вкладами и картами Сбербанка."
      ],
      "metadata": {
        "id": "qHlRcb4vHEg1"
      }
    },
    {
      "cell_type": "markdown",
      "source": [
        "(7,\n",
        "  '-0.521*\"банкомат\" + -0.169*\"страховка\" + -0.161*\"купюра\" + -0.159*\"деньга\" + 0.145*\"кошелёк\" + 0.133*\"сбербанк\" + -0.116*\"комиссия\" + -0.113*\"чек\" + -0.111*\"руб\" + 0.107*\"киви\"'). -Тематика: связана с некорректной работой банкомата при переводе с/на кошелек Киви из/в Сбербанк."
      ],
      "metadata": {
        "id": "n_bQyADUHSxF"
      }
    },
    {
      "cell_type": "markdown",
      "source": [
        "(11,\n",
        "  '0.493*\"сбербанк\" + -0.281*\"заявка\" + -0.196*\"банкомат\" + -0.168*\"кредитный\" + -0.161*\"карта\" + 0.158*\"перевод\" + -0.128*\"рассмотрение\" + -0.128*\"лимит\" + 0.124*\"онлайн\" + 0.113*\"счёт\"'). - Тематика:  связана с заявкой на кредитную карту через банкомат Сбербанка."
      ],
      "metadata": {
        "id": "dqFEsAFqIAav"
      }
    },
    {
      "cell_type": "markdown",
      "source": [
        " (14,\n",
        "  '0.345*\"курс\" + -0.295*\"перевод\" + -0.286*\"заявка\" + 0.197*\"евро\" + 0.194*\"рубль\" + -0.194*\"сбербанк\" + -0.173*\"кредит\" + -0.164*\"комиссия\" + -0.155*\"средство\" + 0.146*\"валюта\"'). - Тематика: связана с курсом перевода из/в евро в/из рублей при погашении кредита Сбербанка. "
      ],
      "metadata": {
        "id": "TDM8LVG2IADd"
      }
    },
    {
      "cell_type": "markdown",
      "source": [
        " (46,\n",
        "  '-0.185*\"стандарт\" + 0.184*\"услуга\" + -0.183*\"русский\" + 0.176*\"служба\" + -0.170*\"офис\" + -0.169*\"страховой\" + 0.162*\"отделение\" + 0.152*\"рубль\" + -0.141*\"смс\" + 0.130*\"поддержка\"'). - Тематика: связана с оформлением страховки в офисе/отделении банка \"Русский стандарт\"."
      ],
      "metadata": {
        "id": "FemUr4uxIkAr"
      }
    },
    {
      "cell_type": "markdown",
      "source": [
        "**Часть 3. Классификация текстов.**\n",
        "\n",
        "а) Сформулируем для простоты задачу бинарной классификации: будем классифицировать на два класса, то есть, различать резко отрицательные отзывы (с оценкой 1) и положительные отзывы (с оценкой 5).\n",
        "\n",
        "б) Составьте обучающее и тестовое множество: выберите из всего набора данных N1 отзывов с оценкой 1 и N2 отзывов с оценкой 5 (значение N1 и N2 – на ваше усмотрение). Используйте sklearn.model_selection.train_test_split для разделения множества отобранных документов на обучающее и тестовое. Используйте любой известный вам алгоритм классификации текстов для решения задачи и получите baseline. Сравните разные варианты векторизации текста: использование только униграм, пар или троек слов или с использованием символьных n-грам."
      ],
      "metadata": {
        "id": "_1ZMqsoiLIp0"
      }
    },
    {
      "cell_type": "code",
      "source": [
        "df['rating_grade'].value_counts()"
      ],
      "metadata": {
        "colab": {
          "base_uri": "https://localhost:8080/"
        },
        "id": "lvrhGij7L_ig",
        "outputId": "7e138024-6f44-4521-dc83-d8f453b53ba7"
      },
      "execution_count": null,
      "outputs": [
        {
          "output_type": "execute_result",
          "data": {
            "text/plain": [
              "1.0    47387\n",
              "5.0    14713\n",
              "2.0    13509\n",
              "3.0     9261\n",
              "4.0     3788\n",
              "Name: rating_grade, dtype: int64"
            ]
          },
          "metadata": {},
          "execution_count": 8
        }
      ]
    },
    {
      "cell_type": "code",
      "source": [
        "# Как видим, множества отрицательных (с оценкой 1) и положительных отзывов (с оценкой 5) сильно разбалансированы: отрицательных в 3 раза больше, чем положительных.\n",
        "# Поэтому для создания сбалансированной модели возьмем все положительные отзывы и примерно столько же отрицательных (или чуть больше для сохранения тренда).\n",
        "\n",
        "# для положительных\n",
        "N2 = len(df[df['rating_grade'] == 5])\n",
        "N2"
      ],
      "metadata": {
        "colab": {
          "base_uri": "https://localhost:8080/"
        },
        "id": "nPE6cAhHVKq9",
        "outputId": "0b946085-4323-4451-d269-b6da5bb982a0"
      },
      "execution_count": null,
      "outputs": [
        {
          "output_type": "execute_result",
          "data": {
            "text/plain": [
              "14713"
            ]
          },
          "metadata": {},
          "execution_count": 9
        }
      ]
    },
    {
      "cell_type": "code",
      "source": [
        "# для отрицательных\n",
        "N1 = round(len(df[df['rating_grade'] == 1])*0.35)\n",
        "N1"
      ],
      "metadata": {
        "colab": {
          "base_uri": "https://localhost:8080/"
        },
        "id": "hC3IvAg3ZjFC",
        "outputId": "346f5f5d-e46b-4936-8a41-f61ac14564c0"
      },
      "execution_count": null,
      "outputs": [
        {
          "output_type": "execute_result",
          "data": {
            "text/plain": [
              "16585"
            ]
          },
          "metadata": {},
          "execution_count": 10
        }
      ]
    },
    {
      "cell_type": "code",
      "source": [
        "# выборка отрицательных\n",
        "negative_sample = df[df['rating_grade'] == 1][['text', 'rating_grade']].sample(N1)\n",
        "negative_sample.info()"
      ],
      "metadata": {
        "colab": {
          "base_uri": "https://localhost:8080/"
        },
        "id": "QCx7tA7nVKYC",
        "outputId": "5c38956e-7fb9-4bd6-d5dc-c07bc3c3ec03"
      },
      "execution_count": null,
      "outputs": [
        {
          "output_type": "stream",
          "name": "stdout",
          "text": [
            "<class 'pandas.core.frame.DataFrame'>\n",
            "Int64Index: 16585 entries, 13080 to 119107\n",
            "Data columns (total 2 columns):\n",
            " #   Column        Non-Null Count  Dtype  \n",
            "---  ------        --------------  -----  \n",
            " 0   text          16585 non-null  object \n",
            " 1   rating_grade  16585 non-null  float64\n",
            "dtypes: float64(1), object(1)\n",
            "memory usage: 388.7+ KB\n"
          ]
        }
      ]
    },
    {
      "cell_type": "code",
      "source": [
        "# выборка положительных\n",
        "positive_sample = df[df['rating_grade'] == 5][['text', 'rating_grade']].sample(N2)\n",
        "positive_sample.info()"
      ],
      "metadata": {
        "colab": {
          "base_uri": "https://localhost:8080/"
        },
        "id": "nsRlRq5Gc4LV",
        "outputId": "1041e2ac-0f07-4499-d6be-530c37da2b6d"
      },
      "execution_count": null,
      "outputs": [
        {
          "output_type": "stream",
          "name": "stdout",
          "text": [
            "<class 'pandas.core.frame.DataFrame'>\n",
            "Int64Index: 14713 entries, 103837 to 139923\n",
            "Data columns (total 2 columns):\n",
            " #   Column        Non-Null Count  Dtype  \n",
            "---  ------        --------------  -----  \n",
            " 0   text          14713 non-null  object \n",
            " 1   rating_grade  14713 non-null  float64\n",
            "dtypes: float64(1), object(1)\n",
            "memory usage: 344.8+ KB\n"
          ]
        }
      ]
    },
    {
      "cell_type": "code",
      "source": [
        "# объединим выборки\n",
        "sum_sample = pd.concat([negative_sample, positive_sample])\n",
        "sum_sample.info()"
      ],
      "metadata": {
        "colab": {
          "base_uri": "https://localhost:8080/"
        },
        "id": "3m9SjqzZc36V",
        "outputId": "aab756ab-d789-4456-857b-f1f129656a16"
      },
      "execution_count": null,
      "outputs": [
        {
          "output_type": "stream",
          "name": "stdout",
          "text": [
            "<class 'pandas.core.frame.DataFrame'>\n",
            "Int64Index: 31298 entries, 13080 to 139923\n",
            "Data columns (total 2 columns):\n",
            " #   Column        Non-Null Count  Dtype  \n",
            "---  ------        --------------  -----  \n",
            " 0   text          31298 non-null  object \n",
            " 1   rating_grade  31298 non-null  float64\n",
            "dtypes: float64(1), object(1)\n",
            "memory usage: 733.5+ KB\n"
          ]
        }
      ]
    },
    {
      "cell_type": "code",
      "source": [
        "from sklearn.feature_extraction.text import TfidfVectorizer\n",
        "from sklearn.model_selection import train_test_split"
      ],
      "metadata": {
        "id": "34Fooe_I9gsA"
      },
      "execution_count": null,
      "outputs": []
    },
    {
      "cell_type": "code",
      "source": [
        "# входящие признаки (исходный текст отзывов, без векторизации)\n",
        "x = sum_sample['text']\n",
        "\n",
        "# создадим и обучим векторизатор tf-idf на отдельных словах - униграммах (с параметрами \"по умолчанию\")\n",
        "tfidf = TfidfVectorizer()\n",
        "x_vectorized = tfidf.fit_transform(x)\n",
        "print(\"x_vectorized.shape: \", x_vectorized.shape)\n",
        "\n",
        "# целевая переменная (не требует векторизации)\n",
        "y = sum_sample['rating_grade']"
      ],
      "metadata": {
        "colab": {
          "base_uri": "https://localhost:8080/"
        },
        "id": "jmexVN42c3iF",
        "outputId": "7facca47-9bfa-4c93-c362-7317d87d98a0"
      },
      "execution_count": null,
      "outputs": [
        {
          "output_type": "stream",
          "name": "stdout",
          "text": [
            "x_vectorized.shape:  (31298, 160934)\n"
          ]
        }
      ]
    },
    {
      "cell_type": "code",
      "source": [
        "# 30% на тест-выборку\n",
        "x_train, x_test, y_train, y_test = train_test_split(x_vectorized, y, test_size=0.3, random_state=21)"
      ],
      "metadata": {
        "id": "BD_2ADxXofiG"
      },
      "execution_count": null,
      "outputs": []
    },
    {
      "cell_type": "code",
      "source": [
        "x_train.shape, x_test.shape, y_train.shape, y_test.shape"
      ],
      "metadata": {
        "colab": {
          "base_uri": "https://localhost:8080/"
        },
        "id": "eiIpe4UNgnjG",
        "outputId": "46bd4c64-a39f-4114-db0b-29a53d96538e"
      },
      "execution_count": null,
      "outputs": [
        {
          "output_type": "execute_result",
          "data": {
            "text/plain": [
              "((21908, 160934), (9390, 160934), (21908,), (9390,))"
            ]
          },
          "metadata": {},
          "execution_count": 16
        }
      ]
    },
    {
      "cell_type": "code",
      "source": [
        "# загрузим необходимые библиотеки\n",
        "from sklearn.pipeline import Pipeline\n",
        "from sklearn.preprocessing import Normalizer\n",
        "\n",
        "from sklearn.ensemble import RandomForestClassifier\n",
        "from sklearn.metrics import classification_report"
      ],
      "metadata": {
        "id": "q3iVSO08ha77"
      },
      "execution_count": null,
      "outputs": []
    },
    {
      "cell_type": "code",
      "source": [
        "# Используйте любой известный вам алгоритм классификации текстов для решения задачи и получите baseline. \n",
        "# Сравните разные варианты векторизации текста: использование только униграм, пар или троек слов или с использованием символьных n-грам.\n",
        "\n",
        "# Обучим модель в базовом варианте (на униграммах) с использованием алгоритма случайного леса \n",
        "# (показывающего в ряде случаев лучшие результаты классификации по сравнению с логистической регрессией).\n",
        "rfc = RandomForestClassifier()\n",
        "rfc.fit(x_train, y_train)"
      ],
      "metadata": {
        "colab": {
          "base_uri": "https://localhost:8080/"
        },
        "id": "itlGETQohpeD",
        "outputId": "2632005d-c84f-46ff-b8da-defd68f1b845"
      },
      "execution_count": null,
      "outputs": [
        {
          "output_type": "execute_result",
          "data": {
            "text/plain": [
              "RandomForestClassifier()"
            ]
          },
          "metadata": {},
          "execution_count": 18
        }
      ]
    },
    {
      "cell_type": "code",
      "source": [
        "# Сделаем прогноз на тестовой выборке и выведем метрики\n",
        "rfc_test = rfc.predict(x_test)\n",
        "print(classification_report(rfc_test, y_test))"
      ],
      "metadata": {
        "colab": {
          "base_uri": "https://localhost:8080/"
        },
        "id": "L_2Qu3YZhpLD",
        "outputId": "e59e5211-cbd7-421a-b9c2-5e86dc6dc695"
      },
      "execution_count": null,
      "outputs": [
        {
          "output_type": "stream",
          "name": "stdout",
          "text": [
            "              precision    recall  f1-score   support\n",
            "\n",
            "         1.0       0.96      0.90      0.93      5333\n",
            "         5.0       0.88      0.95      0.91      4057\n",
            "\n",
            "    accuracy                           0.92      9390\n",
            "   macro avg       0.92      0.93      0.92      9390\n",
            "weighted avg       0.93      0.92      0.92      9390\n",
            "\n"
          ]
        }
      ]
    },
    {
      "cell_type": "markdown",
      "source": [
        "Результаты предсказаний с использованием RandomForest на униграммах получились неплохими. Попробуем теперь разбить текст только на биграммы."
      ],
      "metadata": {
        "id": "JeYwWF4dq6mT"
      }
    },
    {
      "cell_type": "code",
      "source": [
        "tfidf_bigrams = TfidfVectorizer(ngram_range = (2, 2))\n",
        "x_vectorized_bigrams = tfidf_bigrams.fit_transform(x)\n",
        "print(\"x_vectorized_bigrams.shape: \", x_vectorized_bigrams.shape)"
      ],
      "metadata": {
        "colab": {
          "base_uri": "https://localhost:8080/"
        },
        "id": "H7EYzkGkqy6t",
        "outputId": "5088eb4c-9135-421f-d990-abdbe93c773b"
      },
      "execution_count": null,
      "outputs": [
        {
          "output_type": "stream",
          "name": "stdout",
          "text": [
            "x_vectorized_bigrams.shape:  (31298, 2499028)\n"
          ]
        }
      ]
    },
    {
      "cell_type": "code",
      "source": [
        "# 30% на тест-выборку\n",
        "x_train, x_test, y_train, y_test = train_test_split(x_vectorized_bigrams, y, test_size=0.3, random_state=21)\n",
        "x_train.shape, x_test.shape, y_train.shape, y_test.shape"
      ],
      "metadata": {
        "colab": {
          "base_uri": "https://localhost:8080/"
        },
        "id": "qTlOYCYMtH4H",
        "outputId": "89a661d9-4525-4aa7-a957-1eb164af388d"
      },
      "execution_count": null,
      "outputs": [
        {
          "output_type": "execute_result",
          "data": {
            "text/plain": [
              "((21908, 2499028), (9390, 2499028), (21908,), (9390,))"
            ]
          },
          "metadata": {},
          "execution_count": 21
        }
      ]
    },
    {
      "cell_type": "code",
      "source": [
        "# Обучим модель на биграммах с использованием алгоритма случайного леса\n",
        "rfc_bi = RandomForestClassifier()\n",
        "rfc_bi.fit(x_train, y_train)"
      ],
      "metadata": {
        "colab": {
          "base_uri": "https://localhost:8080/"
        },
        "id": "nZecWegjtHrk",
        "outputId": "3184e290-81cb-459b-f93e-31e494effc82"
      },
      "execution_count": null,
      "outputs": [
        {
          "output_type": "execute_result",
          "data": {
            "text/plain": [
              "RandomForestClassifier()"
            ]
          },
          "metadata": {},
          "execution_count": 50
        }
      ]
    },
    {
      "cell_type": "code",
      "source": [
        "# Сделаем прогноз на тестовой выборке и выведем метрики\n",
        "rfc_test_bi = rfc_bi.predict(x_test)\n",
        "print(classification_report(rfc_test_bi, y_test))"
      ],
      "metadata": {
        "colab": {
          "base_uri": "https://localhost:8080/"
        },
        "id": "KC_PS0q-zDZO",
        "outputId": "cf8a4fd8-4ae8-4e5b-bc43-33417fff0053"
      },
      "execution_count": null,
      "outputs": [
        {
          "output_type": "stream",
          "name": "stdout",
          "text": [
            "              precision    recall  f1-score   support\n",
            "\n",
            "         1.0       0.93      0.86      0.90      5381\n",
            "         5.0       0.83      0.91      0.87      4009\n",
            "\n",
            "    accuracy                           0.88      9390\n",
            "   macro avg       0.88      0.89      0.88      9390\n",
            "weighted avg       0.89      0.88      0.89      9390\n",
            "\n"
          ]
        }
      ]
    },
    {
      "cell_type": "markdown",
      "source": [
        "Мы видим, что качество предсказаний при использовании только биграмм ухудшилось по сравнению с использованием только униграмм. Попробуем теперь разбить на триграммы."
      ],
      "metadata": {
        "id": "oOplXmB_zct8"
      }
    },
    {
      "cell_type": "code",
      "source": [
        "tfidf_trigrams = TfidfVectorizer(ngram_range = (3, 3))\n",
        "x_vectorized_trigrams = tfidf_trigrams.fit_transform(x)\n",
        "print(\"x_vectorized_trigrams.shape: \", x_vectorized_trigrams.shape)"
      ],
      "metadata": {
        "id": "n2n5VjfQz1MQ",
        "colab": {
          "base_uri": "https://localhost:8080/"
        },
        "outputId": "ff3c4dc4-1085-4c40-88da-5bfc1fbb0358"
      },
      "execution_count": null,
      "outputs": [
        {
          "output_type": "stream",
          "name": "stdout",
          "text": [
            "x_vectorized_trigrams.shape:  (31298, 5288559)\n"
          ]
        }
      ]
    },
    {
      "cell_type": "code",
      "source": [
        "# 30% на тест-выборку\n",
        "x_train, x_test, y_train, y_test = train_test_split(x_vectorized_trigrams, y, test_size=0.3, random_state=21)\n",
        "x_train.shape, x_test.shape, y_train.shape, y_test.shape"
      ],
      "metadata": {
        "colab": {
          "base_uri": "https://localhost:8080/"
        },
        "id": "CMGa4XRbejuG",
        "outputId": "a9b13e33-b34e-4a49-c66f-e089637b0603"
      },
      "execution_count": null,
      "outputs": [
        {
          "output_type": "execute_result",
          "data": {
            "text/plain": [
              "((21908, 5288559), (9390, 5288559), (21908,), (9390,))"
            ]
          },
          "metadata": {},
          "execution_count": 23
        }
      ]
    },
    {
      "cell_type": "code",
      "source": [
        "# Обучим модель на триграммах с использованием алгоритма случайного леса (обучение в Colab на 5,3 млн.признаков заняло 1 час)\n",
        "rfc_tri = RandomForestClassifier()\n",
        "rfc_tri.fit(x_train, y_train)"
      ],
      "metadata": {
        "colab": {
          "base_uri": "https://localhost:8080/"
        },
        "id": "UQzQAQ6ic3Dx",
        "outputId": "9266572b-1b83-412d-8e76-d14d1c275381"
      },
      "execution_count": null,
      "outputs": [
        {
          "output_type": "execute_result",
          "data": {
            "text/plain": [
              "RandomForestClassifier()"
            ]
          },
          "metadata": {},
          "execution_count": 24
        }
      ]
    },
    {
      "cell_type": "code",
      "source": [
        "# Сделаем прогноз на тестовой выборке и выведем метрики\n",
        "rfc_test_tri = rfc_tri.predict(x_test)\n",
        "print(classification_report(rfc_test_tri, y_test))"
      ],
      "metadata": {
        "colab": {
          "base_uri": "https://localhost:8080/"
        },
        "id": "YkbEVgdvc2z5",
        "outputId": "f334b7fb-40fc-4385-b8e8-6c94798c9260"
      },
      "execution_count": null,
      "outputs": [
        {
          "output_type": "stream",
          "name": "stdout",
          "text": [
            "              precision    recall  f1-score   support\n",
            "\n",
            "         1.0       0.77      0.91      0.83      4212\n",
            "         5.0       0.91      0.77      0.84      5178\n",
            "\n",
            "    accuracy                           0.83      9390\n",
            "   macro avg       0.84      0.84      0.83      9390\n",
            "weighted avg       0.85      0.83      0.83      9390\n",
            "\n"
          ]
        }
      ]
    },
    {
      "cell_type": "markdown",
      "source": [
        "Мы видим, что качество предсказаний при использовании только триграмм ухудшилось по сравнению с использованием только униграмм и только биграмм. Униграммы показали наилучшие результаты.\n",
        "Попробуем теперь разбить на символьные n-граммы в диапазоне от 1(униграмм) до 3(триграмм)."
      ],
      "metadata": {
        "id": "MdFoSUSGwKiP"
      }
    },
    {
      "cell_type": "code",
      "source": [
        "tfidf_ngrams = TfidfVectorizer(analyzer='char', ngram_range=(1, 3))\n",
        "x_vectorized_ngrams = tfidf_ngrams.fit_transform(x)\n",
        "print(\"x_vectorized_ngrams.shape: \", x_vectorized_ngrams.shape)"
      ],
      "metadata": {
        "id": "_AenvT8Iz0xr",
        "colab": {
          "base_uri": "https://localhost:8080/"
        },
        "outputId": "ff84fbb3-8fd7-4ffe-ca8f-da67b820045d"
      },
      "execution_count": null,
      "outputs": [
        {
          "output_type": "stream",
          "name": "stdout",
          "text": [
            "x_vectorized_ngrams.shape:  (31298, 73233)\n"
          ]
        }
      ]
    },
    {
      "cell_type": "code",
      "source": [
        "# 30% на тест-выборку\n",
        "x_train, x_test, y_train, y_test = train_test_split(x_vectorized_ngrams, y, test_size=0.3, random_state=21)\n",
        "x_train.shape, x_test.shape, y_train.shape, y_test.shape"
      ],
      "metadata": {
        "colab": {
          "base_uri": "https://localhost:8080/"
        },
        "id": "4iTIBnpnzbak",
        "outputId": "f35d738b-a7c9-4b84-f847-2492bc6bddea"
      },
      "execution_count": null,
      "outputs": [
        {
          "output_type": "execute_result",
          "data": {
            "text/plain": [
              "((21908, 73233), (9390, 73233), (21908,), (9390,))"
            ]
          },
          "metadata": {},
          "execution_count": 27
        }
      ]
    },
    {
      "cell_type": "code",
      "source": [
        "# Обучим модель на n-граммах с использованием алгоритма случайного леса\n",
        "rfc_ngrams = RandomForestClassifier()\n",
        "rfc_ngrams.fit(x_train, y_train)"
      ],
      "metadata": {
        "colab": {
          "base_uri": "https://localhost:8080/"
        },
        "id": "2gz32Cxezil0",
        "outputId": "ee93a423-103e-4ded-fc4c-87967238dadc"
      },
      "execution_count": null,
      "outputs": [
        {
          "output_type": "execute_result",
          "data": {
            "text/plain": [
              "RandomForestClassifier()"
            ]
          },
          "metadata": {},
          "execution_count": 28
        }
      ]
    },
    {
      "cell_type": "code",
      "source": [
        "# Сделаем прогноз на тестовой выборке и выведем метрики\n",
        "rfc_test_ngrams = rfc_ngrams.predict(x_test)\n",
        "print(classification_report(rfc_test_ngrams, y_test))"
      ],
      "metadata": {
        "colab": {
          "base_uri": "https://localhost:8080/"
        },
        "id": "xtXXUYeBziSU",
        "outputId": "942f0228-447f-495d-a1b8-0066911d0928"
      },
      "execution_count": null,
      "outputs": [
        {
          "output_type": "stream",
          "name": "stdout",
          "text": [
            "              precision    recall  f1-score   support\n",
            "\n",
            "         1.0       0.94      0.89      0.92      5274\n",
            "         5.0       0.87      0.93      0.90      4116\n",
            "\n",
            "    accuracy                           0.91      9390\n",
            "   macro avg       0.91      0.91      0.91      9390\n",
            "weighted avg       0.91      0.91      0.91      9390\n",
            "\n"
          ]
        }
      ]
    },
    {
      "cell_type": "markdown",
      "source": [
        "Мы видим, что результаты предсказаний получились практически такими же хорошими, как с использованием только униграмм. Но использование символьных n-грамм дало прирост в производительности обучения (73233 признаков в n-граммах против 160934 в униграммах) - на небольшом корпусе разница незаметна, но для больших корпусов может иметь смысл использовать символьные n-граммы вместо униграмм.\n",
        "\n",
        "Использование же биграмм и триграмм в данном конкретном случае особого смысла не имеет, т.к. существенно увеличивается время на обучение модели, а точность предсказаний ухудшается. Возможно, для увеличения скорости обучения следует использовать более простой векторизатор - CountVeсtorizer вместо TFidfVeсtorizer."
      ],
      "metadata": {
        "id": "8QBUen6r1mgJ"
      }
    },
    {
      "cell_type": "markdown",
      "source": [
        "**в) Сравните, как изменяется качество решения задачи при использовании скрытых тем в качестве признаков:**\n",
        "\n",
        "1-ый вариант: tf-idf преобразование (sklearn.feature_extraction.text.TfidfTransformer) и сингулярное разложение (оно же – латентный семантический анализ) (sklearn.decomposition.TruncatedSVD),\n",
        "\n",
        "2-ой вариант: тематические модели LDA (sklearn.decomposition.LatentDirichletAllocation). Используйте accuracy и F-measure для оценки качества классификации. В ноутбуке, размещенном в папке репозитория, написан примерный Pipeline для классификации текстов."
      ],
      "metadata": {
        "id": "QTHaFmUBj0nB"
      }
    },
    {
      "cell_type": "code",
      "source": [
        "from sklearn.feature_extraction.text import TfidfTransformer\n",
        "from sklearn.feature_extraction.text import CountVectorizer\n",
        "\n",
        "from sklearn.decomposition import TruncatedSVD\n",
        "from sklearn.decomposition import LatentDirichletAllocation\n",
        "\n",
        "from gensim.models import lsimodel"
      ],
      "metadata": {
        "id": "RUfH0IKFkIUl"
      },
      "execution_count": null,
      "outputs": []
    },
    {
      "cell_type": "code",
      "source": [
        "# входящие признаки (исходный текст отзывов, без векторизации)\n",
        "x = sum_sample['text']\n",
        "\n",
        "# целевая переменная (не требует векторизации)\n",
        "y = sum_sample['rating_grade']"
      ],
      "metadata": {
        "id": "uvT5K3cKaO8f"
      },
      "execution_count": null,
      "outputs": []
    },
    {
      "cell_type": "code",
      "source": [
        "# 30% на тест-выборку\n",
        "x_train, x_test, y_train, y_test = train_test_split(x, y, test_size=0.3, random_state=21)\n",
        "x_train.shape, x_test.shape, y_train.shape, y_test.shape"
      ],
      "metadata": {
        "colab": {
          "base_uri": "https://localhost:8080/"
        },
        "id": "X0iNFLqnaOyK",
        "outputId": "075581e8-7672-45ab-8d36-39a144962b22"
      },
      "execution_count": null,
      "outputs": [
        {
          "output_type": "execute_result",
          "data": {
            "text/plain": [
              "((21908,), (9390,), (21908,), (9390,))"
            ]
          },
          "metadata": {},
          "execution_count": 58
        }
      ]
    },
    {
      "cell_type": "code",
      "source": [
        "# создадим pipeline для расчета 1-го варианта, в этот раз попробуем CountVectorizer вместо TfidfVectorizer\n",
        "clf_1 = Pipeline([ \n",
        "    ('vect', CountVectorizer(analyzer='char', ngram_range=(1,3))), \n",
        "    ('tfidf', TfidfTransformer()), \n",
        "    ('tm', TruncatedSVD()), \n",
        "    ('clf', RandomForestClassifier())\n",
        "])"
      ],
      "metadata": {
        "id": "gIejkmtSaOZx"
      },
      "execution_count": null,
      "outputs": []
    },
    {
      "cell_type": "code",
      "source": [
        "# обучим конвейер\n",
        "clf_1.fit(x_train, y_train)"
      ],
      "metadata": {
        "colab": {
          "base_uri": "https://localhost:8080/"
        },
        "id": "IzKHUabAdNRm",
        "outputId": "655b4cdd-74fa-4487-a574-880919067038"
      },
      "execution_count": null,
      "outputs": [
        {
          "output_type": "execute_result",
          "data": {
            "text/plain": [
              "Pipeline(steps=[('vect', CountVectorizer(analyzer='char', ngram_range=(1, 3))),\n",
              "                ('tfidf', TfidfTransformer()), ('tm', TruncatedSVD()),\n",
              "                ('clf', RandomForestClassifier())])"
            ]
          },
          "metadata": {},
          "execution_count": 60
        }
      ]
    },
    {
      "cell_type": "code",
      "source": [
        "# Сделаем прогноз на тестовой выборке и выведем метрики\n",
        "clf_1_pred = clf_1.predict(x_test)\n",
        "print(classification_report(clf_1_pred, y_test))"
      ],
      "metadata": {
        "id": "0ohe8ud5VKL7",
        "colab": {
          "base_uri": "https://localhost:8080/"
        },
        "outputId": "052a9b17-bd17-466b-b04b-40296507f8ca"
      },
      "execution_count": null,
      "outputs": [
        {
          "output_type": "stream",
          "name": "stdout",
          "text": [
            "              precision    recall  f1-score   support\n",
            "\n",
            "         1.0       0.72      0.70      0.71      5118\n",
            "         5.0       0.65      0.67      0.66      4272\n",
            "\n",
            "    accuracy                           0.69      9390\n",
            "   macro avg       0.69      0.69      0.69      9390\n",
            "weighted avg       0.69      0.69      0.69      9390\n",
            "\n"
          ]
        }
      ]
    },
    {
      "cell_type": "markdown",
      "source": [
        "Мы видим, что качество предсказаний значительно ухудшилось с использованием     CountVectorizer, TfidfTransformer, TruncatedSVD, RandomForestClassifier. Возможно, следует \"поиграть\" параметрами этих методов.\n",
        "\n",
        "Попробуем теперь LDA также в конвейере."
      ],
      "metadata": {
        "id": "IaGggGe2gQjI"
      }
    },
    {
      "cell_type": "code",
      "source": [
        "clf_2 = Pipeline([ \n",
        "    ('vect', CountVectorizer(analyzer='char', ngram_range=(1,3))), \n",
        "    ('lda', LatentDirichletAllocation()), \n",
        "    ('clf', RandomForestClassifier())\n",
        "])"
      ],
      "metadata": {
        "id": "0QSkP-sjfZo7"
      },
      "execution_count": null,
      "outputs": []
    },
    {
      "cell_type": "code",
      "source": [
        "# обучим конвейер\n",
        "clf_2.fit(x_train, y_train)"
      ],
      "metadata": {
        "id": "CELq87a_fab6",
        "colab": {
          "base_uri": "https://localhost:8080/"
        },
        "outputId": "8d6175c8-5954-4d7a-a8f7-85fb7044ed21"
      },
      "execution_count": 64,
      "outputs": [
        {
          "output_type": "execute_result",
          "data": {
            "text/plain": [
              "Pipeline(steps=[('vect', CountVectorizer(analyzer='char', ngram_range=(1, 3))),\n",
              "                ('lda', LatentDirichletAllocation()),\n",
              "                ('clf', RandomForestClassifier())])"
            ]
          },
          "metadata": {},
          "execution_count": 64
        }
      ]
    },
    {
      "cell_type": "code",
      "source": [
        "# Сделаем прогноз на тестовой выборке и выведем метрики\n",
        "clf_2_pred = clf_2.predict(x_test)\n",
        "print(classification_report(clf_2_pred, y_test))"
      ],
      "metadata": {
        "colab": {
          "base_uri": "https://localhost:8080/"
        },
        "id": "X8VWRuOwnmvd",
        "outputId": "fee7a1ee-25d7-4ccf-9973-f3c37e29c2fe"
      },
      "execution_count": 65,
      "outputs": [
        {
          "output_type": "stream",
          "name": "stdout",
          "text": [
            "              precision    recall  f1-score   support\n",
            "\n",
            "         1.0       0.87      0.84      0.85      5167\n",
            "         5.0       0.81      0.84      0.83      4223\n",
            "\n",
            "    accuracy                           0.84      9390\n",
            "   macro avg       0.84      0.84      0.84      9390\n",
            "weighted avg       0.84      0.84      0.84      9390\n",
            "\n"
          ]
        }
      ]
    },
    {
      "cell_type": "markdown",
      "source": [
        "Мы видим, что результаты при LDA, CountVectorizer и небольших (от 1- до 3-) n-граммах получились почти такими же хорошими, как при использовании униграмм и небольших n-грамм с Tf-idf-векторизатором. Во всех случаях для классификации использовался \"случайный лес\". Возможно, что логистическая регрессия отработала бы быстрее без существенной потери качества."
      ],
      "metadata": {
        "id": "cDPeyKREobVk"
      }
    }
  ],
  "metadata": {
    "colab": {
      "collapsed_sections": [],
      "name": "AlekseevDP (DSU-4, NLP-4)_HW(3)_Thematic_modeling.ipynb",
      "provenance": []
    },
    "kernelspec": {
      "display_name": "Python 3",
      "name": "python3"
    },
    "language_info": {
      "name": "python"
    }
  },
  "nbformat": 4,
  "nbformat_minor": 0
}